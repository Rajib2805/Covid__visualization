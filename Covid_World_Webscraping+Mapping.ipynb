{
  "nbformat": 4,
  "nbformat_minor": 0,
  "metadata": {
    "colab": {
      "name": "Covid_World_Webscraping+Mapping.ipynb",
      "provenance": [],
      "collapsed_sections": [],
      "mount_file_id": "19SxpbKKp8dJ74Q9VhgcvBYeZEUJkn-jR",
      "authorship_tag": "ABX9TyNLtN0SIuH8ErK+3nCaBvQH",
      "include_colab_link": true
    },
    "kernelspec": {
      "name": "python3",
      "display_name": "Python 3"
    }
  },
  "cells": [
    {
      "cell_type": "markdown",
      "metadata": {
        "id": "view-in-github",
        "colab_type": "text"
      },
      "source": [
        "<a href=\"https://colab.research.google.com/github/Rajib2805/test/blob/main/Covid_World_Webscraping%2BMapping.ipynb\" target=\"_parent\"><img src=\"https://colab.research.google.com/assets/colab-badge.svg\" alt=\"Open In Colab\"/></a>"
      ]
    },
    {
      "cell_type": "markdown",
      "metadata": {
        "id": "SvmAznQEFIXx"
      },
      "source": [
        "Webscraping a table"
      ]
    },
    {
      "cell_type": "code",
      "metadata": {
        "id": "eAJ_oUdVD9Sh"
      },
      "source": [
        "import requests\n",
        "import lxml.html as lh\n",
        "from bs4 import BeautifulSoup\n",
        "import pandas as pd"
      ],
      "execution_count": null,
      "outputs": []
    },
    {
      "cell_type": "code",
      "metadata": {
        "id": "9YPV6AEDEPmn",
        "colab": {
          "base_uri": "https://localhost:8080/"
        },
        "outputId": "f4ca7df8-6db4-4724-f53d-effd5c93c00f"
      },
      "source": [
        "url=\"https://www.worldometers.info/coronavirus/\"\n",
        "page= requests.get(url)\n",
        "page"
      ],
      "execution_count": null,
      "outputs": [
        {
          "output_type": "execute_result",
          "data": {
            "text/plain": [
              "<Response [200]>"
            ]
          },
          "metadata": {
            "tags": []
          },
          "execution_count": 2
        }
      ]
    },
    {
      "cell_type": "code",
      "metadata": {
        "id": "LHpK8b5tpAkA",
        "colab": {
          "base_uri": "https://localhost:8080/"
        },
        "outputId": "ec7dc68d-bc96-4df3-9b58-81929c1ade1b"
      },
      "source": [
        "page.content[0:500]"
      ],
      "execution_count": null,
      "outputs": [
        {
          "output_type": "execute_result",
          "data": {
            "text/plain": [
              "b'\\n<!DOCTYPE html>\\n<!--[if IE 8]> <html lang=\"en\" class=\"ie8\"> <![endif]-->\\n<!--[if IE 9]> <html lang=\"en\" class=\"ie9\"> <![endif]-->\\n<!--[if !IE]><!-->\\n<html lang=\"en\">\\n<!--<![endif]-->\\n<head>\\n<meta charset=\"utf-8\">\\n<meta http-equiv=\"X-UA-Compatible\" content=\"IE=edge\">\\n<meta name=\"viewport\" content=\"width=device-width, initial-scale=1\">\\n<title>Coronavirus Update (Live): 64,985,212 Cases and 1,502,255 Deaths from COVID-19 Virus Pandemic - Worldometer</title>\\n<meta name=\"description\" content=\"Live s'"
            ]
          },
          "metadata": {
            "tags": []
          },
          "execution_count": 3
        }
      ]
    },
    {
      "cell_type": "code",
      "metadata": {
        "id": "Biz7V62eEoRx",
        "colab": {
          "base_uri": "https://localhost:8080/"
        },
        "outputId": "66e528a4-ff68-4ae0-e2c8-8ccdcb10ef09"
      },
      "source": [
        "#Store the contents of the website under doc\n",
        "doc = lh.fromstring(page.content)\n",
        "doc"
      ],
      "execution_count": null,
      "outputs": [
        {
          "output_type": "execute_result",
          "data": {
            "text/plain": [
              "<Element html at 0x7f17f9a04048>"
            ]
          },
          "metadata": {
            "tags": []
          },
          "execution_count": 4
        }
      ]
    },
    {
      "cell_type": "code",
      "metadata": {
        "id": "ovZ8Q_gYnEiH"
      },
      "source": [
        "soup= BeautifulSoup(page.content, 'html.parser')"
      ],
      "execution_count": null,
      "outputs": []
    },
    {
      "cell_type": "code",
      "metadata": {
        "id": "Quer15vMm3ot"
      },
      "source": [
        "stat_table= soup.find_all('table', id= 'main_table_countries_today')"
      ],
      "execution_count": null,
      "outputs": []
    },
    {
      "cell_type": "code",
      "metadata": {
        "id": "SB1B3bsvl8r2",
        "colab": {
          "base_uri": "https://localhost:8080/"
        },
        "outputId": "a3a47b83-58d6-4a32-bb79-0ceba257efd3"
      },
      "source": [
        "len(stat_table)"
      ],
      "execution_count": null,
      "outputs": [
        {
          "output_type": "execute_result",
          "data": {
            "text/plain": [
              "1"
            ]
          },
          "metadata": {
            "tags": []
          },
          "execution_count": 7
        }
      ]
    },
    {
      "cell_type": "code",
      "metadata": {
        "id": "LMFku51pul6W",
        "colab": {
          "base_uri": "https://localhost:8080/"
        },
        "outputId": "abec91cf-1a2a-4219-df3e-a4220291aa4e"
      },
      "source": [
        "type(stat_table)"
      ],
      "execution_count": null,
      "outputs": [
        {
          "output_type": "execute_result",
          "data": {
            "text/plain": [
              "bs4.element.ResultSet"
            ]
          },
          "metadata": {
            "tags": []
          },
          "execution_count": 8
        }
      ]
    },
    {
      "cell_type": "code",
      "metadata": {
        "id": "AB_QbKzluraq"
      },
      "source": [
        "stat_table=stat_table[0]"
      ],
      "execution_count": null,
      "outputs": []
    },
    {
      "cell_type": "code",
      "metadata": {
        "id": "RcjzaYriu6cm",
        "colab": {
          "base_uri": "https://localhost:8080/"
        },
        "outputId": "e41a0b84-55d5-439b-a6ce-2fdb2753ae9c"
      },
      "source": [
        "type(stat_table)"
      ],
      "execution_count": null,
      "outputs": [
        {
          "output_type": "execute_result",
          "data": {
            "text/plain": [
              "bs4.element.Tag"
            ]
          },
          "metadata": {
            "tags": []
          },
          "execution_count": 10
        }
      ]
    },
    {
      "cell_type": "code",
      "metadata": {
        "id": "1CbHCsVC4Cl6",
        "colab": {
          "base_uri": "https://localhost:8080/"
        },
        "outputId": "e08fec96-4e39-4653-8f24-56a6b7bc8471"
      },
      "source": [
        "#trying to find some feature unique for the data to scrap and leave aside\n",
        "#what is unwanted\n",
        "stat_table.findAll('tr')[10]"
      ],
      "execution_count": null,
      "outputs": [
        {
          "output_type": "execute_result",
          "data": {
            "text/plain": [
              "<tr style=\"\">\n",
              "<td style=\"font-size:12px;color: grey;text-align:center;vertical-align:middle;\">2</td>\n",
              "<td style=\"font-weight: bold; font-size:15px; text-align:left;\"><a class=\"mt_a\" href=\"country/india/\">India</a></td>\n",
              "<td style=\"font-weight: bold; text-align:right\">9,534,964</td>\n",
              "<td style=\"font-weight: bold; text-align:right;background-color:#FFEEAA;\">+1,493</td>\n",
              "<td style=\"font-weight: bold; text-align:right;\">138,657 </td>\n",
              "<td style=\"font-weight: bold; \n",
              "                                    text-align:right;\"></td>\n",
              "<td style=\"font-weight: bold; text-align:right\">8,973,373</td>\n",
              "<td style=\"font-weight: bold; text-align:right;background-color:#c8e6c9; color:#000\">+3,269</td>\n",
              "<td style=\"text-align:right;font-weight:bold;\">422,934</td>\n",
              "<td style=\"font-weight: bold; text-align:right\">8,944</td>\n",
              "<td style=\"font-weight: bold; text-align:right\">6,881</td>\n",
              "<td style=\"font-weight: bold; text-align:right\">100</td>\n",
              "<td style=\"font-weight: bold; text-align:right\">143,557,647</td>\n",
              "<td style=\"font-weight: bold; text-align:right\">103,598</td>\n",
              "<td style=\"font-weight: bold; text-align:right\"><a href=\"/world-population/india-population/\">1,385,715,753</a> </td>\n",
              "<td data-continent=\"Asia\" style=\"display:none\">Asia</td>\n",
              "<td>145</td><td>9,994</td><td>10</td>\n",
              "</tr>"
            ]
          },
          "metadata": {
            "tags": []
          },
          "execution_count": 11
        }
      ]
    },
    {
      "cell_type": "code",
      "metadata": {
        "id": "_TFiWjnnwXb1"
      },
      "source": [
        "with open('coronafile.txt', 'w') as r: \n",
        " for row in stat_table.find_all('tr', style='')[2:205]:  \n",
        "    for cell in row.find_all('td')[0:7]:\n",
        "       r.write(cell.text)\n",
        "       r.write('\\t')\n",
        "    r.write('\\n')    "
      ],
      "execution_count": null,
      "outputs": []
    },
    {
      "cell_type": "code",
      "metadata": {
        "id": "8cZ4e00ZDU3S",
        "colab": {
          "base_uri": "https://localhost:8080/",
          "height": 136
        },
        "outputId": "361824af-83d9-4ee9-8a30-d6547d138241"
      },
      "source": [
        "df = pd.read_table(\"/content/coronafile.txt\", sep='\\t', header=None)\n",
        "df[0:3]"
      ],
      "execution_count": null,
      "outputs": [
        {
          "output_type": "execute_result",
          "data": {
            "text/html": [
              "<div>\n",
              "<style scoped>\n",
              "    .dataframe tbody tr th:only-of-type {\n",
              "        vertical-align: middle;\n",
              "    }\n",
              "\n",
              "    .dataframe tbody tr th {\n",
              "        vertical-align: top;\n",
              "    }\n",
              "\n",
              "    .dataframe thead th {\n",
              "        text-align: right;\n",
              "    }\n",
              "</style>\n",
              "<table border=\"1\" class=\"dataframe\">\n",
              "  <thead>\n",
              "    <tr style=\"text-align: right;\">\n",
              "      <th></th>\n",
              "      <th>0</th>\n",
              "      <th>1</th>\n",
              "      <th>2</th>\n",
              "      <th>3</th>\n",
              "      <th>4</th>\n",
              "      <th>5</th>\n",
              "      <th>6</th>\n",
              "      <th>7</th>\n",
              "    </tr>\n",
              "  </thead>\n",
              "  <tbody>\n",
              "    <tr>\n",
              "      <th>0</th>\n",
              "      <td>1</td>\n",
              "      <td>USA</td>\n",
              "      <td>14,314,265</td>\n",
              "      <td>NaN</td>\n",
              "      <td>279,867</td>\n",
              "      <td>NaN</td>\n",
              "      <td>8,462,434</td>\n",
              "      <td>NaN</td>\n",
              "    </tr>\n",
              "    <tr>\n",
              "      <th>1</th>\n",
              "      <td>2</td>\n",
              "      <td>India</td>\n",
              "      <td>9,534,964</td>\n",
              "      <td>+1,493</td>\n",
              "      <td>138,657</td>\n",
              "      <td>NaN</td>\n",
              "      <td>8,973,373</td>\n",
              "      <td>NaN</td>\n",
              "    </tr>\n",
              "    <tr>\n",
              "      <th>2</th>\n",
              "      <td>3</td>\n",
              "      <td>Brazil</td>\n",
              "      <td>6,436,650</td>\n",
              "      <td>NaN</td>\n",
              "      <td>174,531</td>\n",
              "      <td>NaN</td>\n",
              "      <td>5,698,353</td>\n",
              "      <td>NaN</td>\n",
              "    </tr>\n",
              "  </tbody>\n",
              "</table>\n",
              "</div>"
            ],
            "text/plain": [
              "   0       1           2       3         4   5          6   7\n",
              "0  1     USA  14,314,265     NaN  279,867  NaN  8,462,434 NaN\n",
              "1  2   India   9,534,964  +1,493  138,657  NaN  8,973,373 NaN\n",
              "2  3  Brazil   6,436,650     NaN  174,531  NaN  5,698,353 NaN"
            ]
          },
          "metadata": {
            "tags": []
          },
          "execution_count": 13
        }
      ]
    },
    {
      "cell_type": "code",
      "metadata": {
        "id": "ebFIPybVZ27c",
        "colab": {
          "base_uri": "https://localhost:8080/",
          "height": 106
        },
        "outputId": "2b33c216-0536-40f6-91a2-02825c6d3e73"
      },
      "source": [
        "df['Covid_comma_removed']= df[2].str[-15:-12]+df[2].str[-11:-8]+df[2].str[-7:-4]+df[2].str[-3:-1]+df[2].str[-1]\n",
        "df['Covid_num']=pd.to_numeric(df['Covid_comma_removed'])\n",
        "df[0:2]"
      ],
      "execution_count": null,
      "outputs": [
        {
          "output_type": "execute_result",
          "data": {
            "text/html": [
              "<div>\n",
              "<style scoped>\n",
              "    .dataframe tbody tr th:only-of-type {\n",
              "        vertical-align: middle;\n",
              "    }\n",
              "\n",
              "    .dataframe tbody tr th {\n",
              "        vertical-align: top;\n",
              "    }\n",
              "\n",
              "    .dataframe thead th {\n",
              "        text-align: right;\n",
              "    }\n",
              "</style>\n",
              "<table border=\"1\" class=\"dataframe\">\n",
              "  <thead>\n",
              "    <tr style=\"text-align: right;\">\n",
              "      <th></th>\n",
              "      <th>0</th>\n",
              "      <th>1</th>\n",
              "      <th>2</th>\n",
              "      <th>3</th>\n",
              "      <th>4</th>\n",
              "      <th>5</th>\n",
              "      <th>6</th>\n",
              "      <th>7</th>\n",
              "      <th>Covid_comma_removed</th>\n",
              "      <th>Covid_num</th>\n",
              "    </tr>\n",
              "  </thead>\n",
              "  <tbody>\n",
              "    <tr>\n",
              "      <th>0</th>\n",
              "      <td>1</td>\n",
              "      <td>USA</td>\n",
              "      <td>14,314,265</td>\n",
              "      <td>NaN</td>\n",
              "      <td>279,867</td>\n",
              "      <td>NaN</td>\n",
              "      <td>8,462,434</td>\n",
              "      <td>NaN</td>\n",
              "      <td>14314265</td>\n",
              "      <td>14314265</td>\n",
              "    </tr>\n",
              "    <tr>\n",
              "      <th>1</th>\n",
              "      <td>2</td>\n",
              "      <td>India</td>\n",
              "      <td>9,534,964</td>\n",
              "      <td>+1,493</td>\n",
              "      <td>138,657</td>\n",
              "      <td>NaN</td>\n",
              "      <td>8,973,373</td>\n",
              "      <td>NaN</td>\n",
              "      <td>9534964</td>\n",
              "      <td>9534964</td>\n",
              "    </tr>\n",
              "  </tbody>\n",
              "</table>\n",
              "</div>"
            ],
            "text/plain": [
              "   0      1           2       3  ...          6   7 Covid_comma_removed  Covid_num\n",
              "0  1    USA  14,314,265     NaN  ...  8,462,434 NaN            14314265   14314265\n",
              "1  2  India   9,534,964  +1,493  ...  8,973,373 NaN             9534964    9534964\n",
              "\n",
              "[2 rows x 10 columns]"
            ]
          },
          "metadata": {
            "tags": []
          },
          "execution_count": 14
        }
      ]
    },
    {
      "cell_type": "code",
      "metadata": {
        "id": "S6oPaGyiiJuu",
        "colab": {
          "base_uri": "https://localhost:8080/"
        },
        "outputId": "259dc708-56dc-4a5b-c9fe-889dd0896545"
      },
      "source": [
        "df.columns"
      ],
      "execution_count": null,
      "outputs": [
        {
          "output_type": "execute_result",
          "data": {
            "text/plain": [
              "Index([0, 1, 2, 3, 4, 5, 6, 7, 'Covid_comma_removed', 'Covid_num'], dtype='object')"
            ]
          },
          "metadata": {
            "tags": []
          },
          "execution_count": 15
        }
      ]
    },
    {
      "cell_type": "code",
      "metadata": {
        "id": "k6BWf3PqhZHt",
        "colab": {
          "base_uri": "https://localhost:8080/",
          "height": 106
        },
        "outputId": "d386014a-8247-462c-c18e-ef98606b17d3"
      },
      "source": [
        "df.rename(columns={1:'Country'}, inplace=True)\n",
        "df[0:2]"
      ],
      "execution_count": null,
      "outputs": [
        {
          "output_type": "execute_result",
          "data": {
            "text/html": [
              "<div>\n",
              "<style scoped>\n",
              "    .dataframe tbody tr th:only-of-type {\n",
              "        vertical-align: middle;\n",
              "    }\n",
              "\n",
              "    .dataframe tbody tr th {\n",
              "        vertical-align: top;\n",
              "    }\n",
              "\n",
              "    .dataframe thead th {\n",
              "        text-align: right;\n",
              "    }\n",
              "</style>\n",
              "<table border=\"1\" class=\"dataframe\">\n",
              "  <thead>\n",
              "    <tr style=\"text-align: right;\">\n",
              "      <th></th>\n",
              "      <th>0</th>\n",
              "      <th>Country</th>\n",
              "      <th>2</th>\n",
              "      <th>3</th>\n",
              "      <th>4</th>\n",
              "      <th>5</th>\n",
              "      <th>6</th>\n",
              "      <th>7</th>\n",
              "      <th>Covid_comma_removed</th>\n",
              "      <th>Covid_num</th>\n",
              "    </tr>\n",
              "  </thead>\n",
              "  <tbody>\n",
              "    <tr>\n",
              "      <th>0</th>\n",
              "      <td>1</td>\n",
              "      <td>USA</td>\n",
              "      <td>14,314,265</td>\n",
              "      <td>NaN</td>\n",
              "      <td>279,867</td>\n",
              "      <td>NaN</td>\n",
              "      <td>8,462,434</td>\n",
              "      <td>NaN</td>\n",
              "      <td>14314265</td>\n",
              "      <td>14314265</td>\n",
              "    </tr>\n",
              "    <tr>\n",
              "      <th>1</th>\n",
              "      <td>2</td>\n",
              "      <td>India</td>\n",
              "      <td>9,534,964</td>\n",
              "      <td>+1,493</td>\n",
              "      <td>138,657</td>\n",
              "      <td>NaN</td>\n",
              "      <td>8,973,373</td>\n",
              "      <td>NaN</td>\n",
              "      <td>9534964</td>\n",
              "      <td>9534964</td>\n",
              "    </tr>\n",
              "  </tbody>\n",
              "</table>\n",
              "</div>"
            ],
            "text/plain": [
              "   0 Country           2       3  ...          6   7 Covid_comma_removed  Covid_num\n",
              "0  1     USA  14,314,265     NaN  ...  8,462,434 NaN            14314265   14314265\n",
              "1  2   India   9,534,964  +1,493  ...  8,973,373 NaN             9534964    9534964\n",
              "\n",
              "[2 rows x 10 columns]"
            ]
          },
          "metadata": {
            "tags": []
          },
          "execution_count": 16
        }
      ]
    },
    {
      "cell_type": "code",
      "metadata": {
        "id": "4cbMTEOXaZuE",
        "colab": {
          "base_uri": "https://localhost:8080/"
        },
        "outputId": "099a9356-0ee9-4c70-cf16-372b02324121"
      },
      "source": [
        "df.dtypes"
      ],
      "execution_count": null,
      "outputs": [
        {
          "output_type": "execute_result",
          "data": {
            "text/plain": [
              "0                        int64\n",
              "Country                 object\n",
              "2                       object\n",
              "3                       object\n",
              "4                       object\n",
              "5                      float64\n",
              "6                       object\n",
              "7                      float64\n",
              "Covid_comma_removed     object\n",
              "Covid_num                int64\n",
              "dtype: object"
            ]
          },
          "metadata": {
            "tags": []
          },
          "execution_count": 17
        }
      ]
    },
    {
      "cell_type": "code",
      "metadata": {
        "id": "DF8F9ssYQJxp",
        "colab": {
          "base_uri": "https://localhost:8080/",
          "height": 195
        },
        "outputId": "3f2d7dc5-037e-4fff-fe4a-2ee10ae63668"
      },
      "source": [
        "#the last row was not a country but total value. So left that out\n",
        "Covid_final= df[['Country', 'Covid_num']][0:-1]\n",
        "Covid_final.head()"
      ],
      "execution_count": null,
      "outputs": [
        {
          "output_type": "execute_result",
          "data": {
            "text/html": [
              "<div>\n",
              "<style scoped>\n",
              "    .dataframe tbody tr th:only-of-type {\n",
              "        vertical-align: middle;\n",
              "    }\n",
              "\n",
              "    .dataframe tbody tr th {\n",
              "        vertical-align: top;\n",
              "    }\n",
              "\n",
              "    .dataframe thead th {\n",
              "        text-align: right;\n",
              "    }\n",
              "</style>\n",
              "<table border=\"1\" class=\"dataframe\">\n",
              "  <thead>\n",
              "    <tr style=\"text-align: right;\">\n",
              "      <th></th>\n",
              "      <th>Country</th>\n",
              "      <th>Covid_num</th>\n",
              "    </tr>\n",
              "  </thead>\n",
              "  <tbody>\n",
              "    <tr>\n",
              "      <th>0</th>\n",
              "      <td>USA</td>\n",
              "      <td>14314265</td>\n",
              "    </tr>\n",
              "    <tr>\n",
              "      <th>1</th>\n",
              "      <td>India</td>\n",
              "      <td>9534964</td>\n",
              "    </tr>\n",
              "    <tr>\n",
              "      <th>2</th>\n",
              "      <td>Brazil</td>\n",
              "      <td>6436650</td>\n",
              "    </tr>\n",
              "    <tr>\n",
              "      <th>3</th>\n",
              "      <td>Russia</td>\n",
              "      <td>2375546</td>\n",
              "    </tr>\n",
              "    <tr>\n",
              "      <th>4</th>\n",
              "      <td>France</td>\n",
              "      <td>2244635</td>\n",
              "    </tr>\n",
              "  </tbody>\n",
              "</table>\n",
              "</div>"
            ],
            "text/plain": [
              "  Country  Covid_num\n",
              "0     USA   14314265\n",
              "1   India    9534964\n",
              "2  Brazil    6436650\n",
              "3  Russia    2375546\n",
              "4  France    2244635"
            ]
          },
          "metadata": {
            "tags": []
          },
          "execution_count": 18
        }
      ]
    },
    {
      "cell_type": "code",
      "metadata": {
        "id": "eSa6fu0Im7uz"
      },
      "source": [
        "#replacing the names to match with the world file names\n",
        "Covid_final= Covid_final.replace('USA', 'United States of America')\n",
        "Covid_final= Covid_final.replace('UK', 'United Kingdom')\n",
        "Covid_final= Covid_final.replace('DRC', 'Dem. Rep. Congo')\n",
        "Covid_final= Covid_final.replace('UAE', 'United Arab Emirates')\n",
        "Covid_final= Covid_final.replace('S. Korea', 'South Korea')\n",
        "Covid_final= Covid_final.replace('CAR', 'Central African Rep.')\n",
        "Covid_final= Covid_final.replace('South Sudan', 'S. Sudan')\n",
        "Covid_final= Covid_final.replace('Bosnia and Herzegovina', 'Bosnia and Herz.')\n",
        "Covid_final= Covid_final.replace('Dominican Republic', 'Dominican Rep.')\n",
        "Covid_final= Covid_final.replace('Western Sahara', 'W. Sahara')"
      ],
      "execution_count": null,
      "outputs": []
    },
    {
      "cell_type": "code",
      "metadata": {
        "id": "PT8rpT6rXkSR",
        "colab": {
          "base_uri": "https://localhost:8080/"
        },
        "outputId": "73aea1b2-c1f7-4715-d94f-4f977df11aa4"
      },
      "source": [
        "!pip install geopandas\n",
        "import geopandas as gpd\n",
        "import pandas as pd\n",
        "import numpy as np\n",
        "import matplotlib.pyplot as plt\n",
        "from shapely.geometry import linestring"
      ],
      "execution_count": null,
      "outputs": [
        {
          "output_type": "stream",
          "text": [
            "Collecting geopandas\n",
            "\u001b[?25l  Downloading https://files.pythonhosted.org/packages/f7/a4/e66aafbefcbb717813bf3a355c8c4fc3ed04ea1dd7feb2920f2f4f868921/geopandas-0.8.1-py2.py3-none-any.whl (962kB)\n",
            "\u001b[K     |████████████████████████████████| 972kB 8.8MB/s \n",
            "\u001b[?25hCollecting pyproj>=2.2.0\n",
            "\u001b[?25l  Downloading https://files.pythonhosted.org/packages/e4/ab/280e80a67cfc109d15428c0ec56391fc03a65857b7727cf4e6e6f99a4204/pyproj-3.0.0.post1-cp36-cp36m-manylinux2010_x86_64.whl (6.4MB)\n",
            "\u001b[K     |████████████████████████████████| 6.5MB 16.4MB/s \n",
            "\u001b[?25hRequirement already satisfied: pandas>=0.23.0 in /usr/local/lib/python3.6/dist-packages (from geopandas) (1.1.4)\n",
            "Requirement already satisfied: shapely in /usr/local/lib/python3.6/dist-packages (from geopandas) (1.7.1)\n",
            "Collecting fiona\n",
            "\u001b[?25l  Downloading https://files.pythonhosted.org/packages/37/94/4910fd55246c1d963727b03885ead6ef1cd3748a465f7b0239ab25dfc9a3/Fiona-1.8.18-cp36-cp36m-manylinux1_x86_64.whl (14.8MB)\n",
            "\u001b[K     |████████████████████████████████| 14.8MB 312kB/s \n",
            "\u001b[?25hRequirement already satisfied: certifi in /usr/local/lib/python3.6/dist-packages (from pyproj>=2.2.0->geopandas) (2020.11.8)\n",
            "Requirement already satisfied: python-dateutil>=2.7.3 in /usr/local/lib/python3.6/dist-packages (from pandas>=0.23.0->geopandas) (2.8.1)\n",
            "Requirement already satisfied: numpy>=1.15.4 in /usr/local/lib/python3.6/dist-packages (from pandas>=0.23.0->geopandas) (1.18.5)\n",
            "Requirement already satisfied: pytz>=2017.2 in /usr/local/lib/python3.6/dist-packages (from pandas>=0.23.0->geopandas) (2018.9)\n",
            "Requirement already satisfied: attrs>=17 in /usr/local/lib/python3.6/dist-packages (from fiona->geopandas) (20.3.0)\n",
            "Requirement already satisfied: six>=1.7 in /usr/local/lib/python3.6/dist-packages (from fiona->geopandas) (1.15.0)\n",
            "Requirement already satisfied: click<8,>=4.0 in /usr/local/lib/python3.6/dist-packages (from fiona->geopandas) (7.1.2)\n",
            "Collecting munch\n",
            "  Downloading https://files.pythonhosted.org/packages/cc/ab/85d8da5c9a45e072301beb37ad7f833cd344e04c817d97e0cc75681d248f/munch-2.5.0-py2.py3-none-any.whl\n",
            "Collecting cligj>=0.5\n",
            "  Downloading https://files.pythonhosted.org/packages/42/1e/947eadf10d6804bf276eb8a038bd5307996dceaaa41cfd21b7a15ec62f5d/cligj-0.7.1-py3-none-any.whl\n",
            "Collecting click-plugins>=1.0\n",
            "  Downloading https://files.pythonhosted.org/packages/e9/da/824b92d9942f4e472702488857914bdd50f73021efea15b4cad9aca8ecef/click_plugins-1.1.1-py2.py3-none-any.whl\n",
            "Installing collected packages: pyproj, munch, cligj, click-plugins, fiona, geopandas\n",
            "Successfully installed click-plugins-1.1.1 cligj-0.7.1 fiona-1.8.18 geopandas-0.8.1 munch-2.5.0 pyproj-3.0.0.post1\n"
          ],
          "name": "stdout"
        }
      ]
    },
    {
      "cell_type": "code",
      "metadata": {
        "id": "XIvMALHFsfam",
        "colab": {
          "base_uri": "https://localhost:8080/",
          "height": 402
        },
        "outputId": "050b6be5-5841-4a33-e434-e69374c26243"
      },
      "source": [
        "world = gpd.read_file(gpd.datasets.get_path('naturalearth_lowres'))\n",
        "world"
      ],
      "execution_count": null,
      "outputs": [
        {
          "output_type": "execute_result",
          "data": {
            "text/html": [
              "<div>\n",
              "<style scoped>\n",
              "    .dataframe tbody tr th:only-of-type {\n",
              "        vertical-align: middle;\n",
              "    }\n",
              "\n",
              "    .dataframe tbody tr th {\n",
              "        vertical-align: top;\n",
              "    }\n",
              "\n",
              "    .dataframe thead th {\n",
              "        text-align: right;\n",
              "    }\n",
              "</style>\n",
              "<table border=\"1\" class=\"dataframe\">\n",
              "  <thead>\n",
              "    <tr style=\"text-align: right;\">\n",
              "      <th></th>\n",
              "      <th>pop_est</th>\n",
              "      <th>continent</th>\n",
              "      <th>name</th>\n",
              "      <th>iso_a3</th>\n",
              "      <th>gdp_md_est</th>\n",
              "      <th>geometry</th>\n",
              "    </tr>\n",
              "  </thead>\n",
              "  <tbody>\n",
              "    <tr>\n",
              "      <th>0</th>\n",
              "      <td>920938</td>\n",
              "      <td>Oceania</td>\n",
              "      <td>Fiji</td>\n",
              "      <td>FJI</td>\n",
              "      <td>8374.0</td>\n",
              "      <td>MULTIPOLYGON (((180.00000 -16.06713, 180.00000...</td>\n",
              "    </tr>\n",
              "    <tr>\n",
              "      <th>1</th>\n",
              "      <td>53950935</td>\n",
              "      <td>Africa</td>\n",
              "      <td>Tanzania</td>\n",
              "      <td>TZA</td>\n",
              "      <td>150600.0</td>\n",
              "      <td>POLYGON ((33.90371 -0.95000, 34.07262 -1.05982...</td>\n",
              "    </tr>\n",
              "    <tr>\n",
              "      <th>2</th>\n",
              "      <td>603253</td>\n",
              "      <td>Africa</td>\n",
              "      <td>W. Sahara</td>\n",
              "      <td>ESH</td>\n",
              "      <td>906.5</td>\n",
              "      <td>POLYGON ((-8.66559 27.65643, -8.66512 27.58948...</td>\n",
              "    </tr>\n",
              "    <tr>\n",
              "      <th>3</th>\n",
              "      <td>35623680</td>\n",
              "      <td>North America</td>\n",
              "      <td>Canada</td>\n",
              "      <td>CAN</td>\n",
              "      <td>1674000.0</td>\n",
              "      <td>MULTIPOLYGON (((-122.84000 49.00000, -122.9742...</td>\n",
              "    </tr>\n",
              "    <tr>\n",
              "      <th>4</th>\n",
              "      <td>326625791</td>\n",
              "      <td>North America</td>\n",
              "      <td>United States of America</td>\n",
              "      <td>USA</td>\n",
              "      <td>18560000.0</td>\n",
              "      <td>MULTIPOLYGON (((-122.84000 49.00000, -120.0000...</td>\n",
              "    </tr>\n",
              "    <tr>\n",
              "      <th>...</th>\n",
              "      <td>...</td>\n",
              "      <td>...</td>\n",
              "      <td>...</td>\n",
              "      <td>...</td>\n",
              "      <td>...</td>\n",
              "      <td>...</td>\n",
              "    </tr>\n",
              "    <tr>\n",
              "      <th>172</th>\n",
              "      <td>7111024</td>\n",
              "      <td>Europe</td>\n",
              "      <td>Serbia</td>\n",
              "      <td>SRB</td>\n",
              "      <td>101800.0</td>\n",
              "      <td>POLYGON ((18.82982 45.90887, 18.82984 45.90888...</td>\n",
              "    </tr>\n",
              "    <tr>\n",
              "      <th>173</th>\n",
              "      <td>642550</td>\n",
              "      <td>Europe</td>\n",
              "      <td>Montenegro</td>\n",
              "      <td>MNE</td>\n",
              "      <td>10610.0</td>\n",
              "      <td>POLYGON ((20.07070 42.58863, 19.80161 42.50009...</td>\n",
              "    </tr>\n",
              "    <tr>\n",
              "      <th>174</th>\n",
              "      <td>1895250</td>\n",
              "      <td>Europe</td>\n",
              "      <td>Kosovo</td>\n",
              "      <td>-99</td>\n",
              "      <td>18490.0</td>\n",
              "      <td>POLYGON ((20.59025 41.85541, 20.52295 42.21787...</td>\n",
              "    </tr>\n",
              "    <tr>\n",
              "      <th>175</th>\n",
              "      <td>1218208</td>\n",
              "      <td>North America</td>\n",
              "      <td>Trinidad and Tobago</td>\n",
              "      <td>TTO</td>\n",
              "      <td>43570.0</td>\n",
              "      <td>POLYGON ((-61.68000 10.76000, -61.10500 10.890...</td>\n",
              "    </tr>\n",
              "    <tr>\n",
              "      <th>176</th>\n",
              "      <td>13026129</td>\n",
              "      <td>Africa</td>\n",
              "      <td>S. Sudan</td>\n",
              "      <td>SSD</td>\n",
              "      <td>20880.0</td>\n",
              "      <td>POLYGON ((30.83385 3.50917, 29.95350 4.17370, ...</td>\n",
              "    </tr>\n",
              "  </tbody>\n",
              "</table>\n",
              "<p>177 rows × 6 columns</p>\n",
              "</div>"
            ],
            "text/plain": [
              "       pop_est  ...                                           geometry\n",
              "0       920938  ...  MULTIPOLYGON (((180.00000 -16.06713, 180.00000...\n",
              "1     53950935  ...  POLYGON ((33.90371 -0.95000, 34.07262 -1.05982...\n",
              "2       603253  ...  POLYGON ((-8.66559 27.65643, -8.66512 27.58948...\n",
              "3     35623680  ...  MULTIPOLYGON (((-122.84000 49.00000, -122.9742...\n",
              "4    326625791  ...  MULTIPOLYGON (((-122.84000 49.00000, -120.0000...\n",
              "..         ...  ...                                                ...\n",
              "172    7111024  ...  POLYGON ((18.82982 45.90887, 18.82984 45.90888...\n",
              "173     642550  ...  POLYGON ((20.07070 42.58863, 19.80161 42.50009...\n",
              "174    1895250  ...  POLYGON ((20.59025 41.85541, 20.52295 42.21787...\n",
              "175    1218208  ...  POLYGON ((-61.68000 10.76000, -61.10500 10.890...\n",
              "176   13026129  ...  POLYGON ((30.83385 3.50917, 29.95350 4.17370, ...\n",
              "\n",
              "[177 rows x 6 columns]"
            ]
          },
          "metadata": {
            "tags": []
          },
          "execution_count": 21
        }
      ]
    },
    {
      "cell_type": "code",
      "metadata": {
        "id": "r33q8CgyKI-9"
      },
      "source": [
        "world.to_excel('WorldfileCode.xlsx', index = False)"
      ],
      "execution_count": null,
      "outputs": []
    },
    {
      "cell_type": "code",
      "metadata": {
        "id": "JVpBV4gCSzpj"
      },
      "source": [
        "#For attribute join. Note thta left on and right on are the name of the common data field in the \n",
        "#left and right dataframe respectively\n",
        "#table-1\n",
        "country_shapes = world[['geometry', 'name', 'continent', 'iso_a3']]\n",
        "#table-2\n",
        "Covid_final\n",
        "#Merging table-1 and table-2\n",
        "country_shapes = country_shapes.merge(Covid_final, left_on='name',right_on='Country')"
      ],
      "execution_count": null,
      "outputs": []
    },
    {
      "cell_type": "code",
      "metadata": {
        "id": "mpEzOBGBcRSG",
        "colab": {
          "base_uri": "https://localhost:8080/",
          "height": 402
        },
        "outputId": "11aad800-3080-44ca-c2ff-0f49a835e8cf"
      },
      "source": [
        "country_shapes"
      ],
      "execution_count": null,
      "outputs": [
        {
          "output_type": "execute_result",
          "data": {
            "text/html": [
              "<div>\n",
              "<style scoped>\n",
              "    .dataframe tbody tr th:only-of-type {\n",
              "        vertical-align: middle;\n",
              "    }\n",
              "\n",
              "    .dataframe tbody tr th {\n",
              "        vertical-align: top;\n",
              "    }\n",
              "\n",
              "    .dataframe thead th {\n",
              "        text-align: right;\n",
              "    }\n",
              "</style>\n",
              "<table border=\"1\" class=\"dataframe\">\n",
              "  <thead>\n",
              "    <tr style=\"text-align: right;\">\n",
              "      <th></th>\n",
              "      <th>geometry</th>\n",
              "      <th>name</th>\n",
              "      <th>continent</th>\n",
              "      <th>iso_a3</th>\n",
              "      <th>Country</th>\n",
              "      <th>Covid_num</th>\n",
              "    </tr>\n",
              "  </thead>\n",
              "  <tbody>\n",
              "    <tr>\n",
              "      <th>0</th>\n",
              "      <td>MULTIPOLYGON (((180.00000 -16.06713, 180.00000...</td>\n",
              "      <td>Fiji</td>\n",
              "      <td>Oceania</td>\n",
              "      <td>FJI</td>\n",
              "      <td>Fiji</td>\n",
              "      <td>42</td>\n",
              "    </tr>\n",
              "    <tr>\n",
              "      <th>1</th>\n",
              "      <td>POLYGON ((33.90371 -0.95000, 34.07262 -1.05982...</td>\n",
              "      <td>Tanzania</td>\n",
              "      <td>Africa</td>\n",
              "      <td>TZA</td>\n",
              "      <td>Tanzania</td>\n",
              "      <td>509</td>\n",
              "    </tr>\n",
              "    <tr>\n",
              "      <th>2</th>\n",
              "      <td>MULTIPOLYGON (((-122.84000 49.00000, -122.9742...</td>\n",
              "      <td>Canada</td>\n",
              "      <td>North America</td>\n",
              "      <td>CAN</td>\n",
              "      <td>Canada</td>\n",
              "      <td>389775</td>\n",
              "    </tr>\n",
              "    <tr>\n",
              "      <th>3</th>\n",
              "      <td>MULTIPOLYGON (((-122.84000 49.00000, -120.0000...</td>\n",
              "      <td>United States of America</td>\n",
              "      <td>North America</td>\n",
              "      <td>USA</td>\n",
              "      <td>United States of America</td>\n",
              "      <td>14314265</td>\n",
              "    </tr>\n",
              "    <tr>\n",
              "      <th>4</th>\n",
              "      <td>POLYGON ((87.35997 49.21498, 86.59878 48.54918...</td>\n",
              "      <td>Kazakhstan</td>\n",
              "      <td>Asia</td>\n",
              "      <td>KAZ</td>\n",
              "      <td>Kazakhstan</td>\n",
              "      <td>133887</td>\n",
              "    </tr>\n",
              "    <tr>\n",
              "      <th>...</th>\n",
              "      <td>...</td>\n",
              "      <td>...</td>\n",
              "      <td>...</td>\n",
              "      <td>...</td>\n",
              "      <td>...</td>\n",
              "      <td>...</td>\n",
              "    </tr>\n",
              "    <tr>\n",
              "      <th>153</th>\n",
              "      <td>POLYGON ((18.56000 42.65000, 17.67492 43.02856...</td>\n",
              "      <td>Bosnia and Herz.</td>\n",
              "      <td>Europe</td>\n",
              "      <td>BIH</td>\n",
              "      <td>Bosnia and Herz.</td>\n",
              "      <td>90378</td>\n",
              "    </tr>\n",
              "    <tr>\n",
              "      <th>154</th>\n",
              "      <td>POLYGON ((18.82982 45.90887, 18.82984 45.90888...</td>\n",
              "      <td>Serbia</td>\n",
              "      <td>Europe</td>\n",
              "      <td>SRB</td>\n",
              "      <td>Serbia</td>\n",
              "      <td>191356</td>\n",
              "    </tr>\n",
              "    <tr>\n",
              "      <th>155</th>\n",
              "      <td>POLYGON ((20.07070 42.58863, 19.80161 42.50009...</td>\n",
              "      <td>Montenegro</td>\n",
              "      <td>Europe</td>\n",
              "      <td>MNE</td>\n",
              "      <td>Montenegro</td>\n",
              "      <td>36351</td>\n",
              "    </tr>\n",
              "    <tr>\n",
              "      <th>156</th>\n",
              "      <td>POLYGON ((-61.68000 10.76000, -61.10500 10.890...</td>\n",
              "      <td>Trinidad and Tobago</td>\n",
              "      <td>North America</td>\n",
              "      <td>TTO</td>\n",
              "      <td>Trinidad and Tobago</td>\n",
              "      <td>6704</td>\n",
              "    </tr>\n",
              "    <tr>\n",
              "      <th>157</th>\n",
              "      <td>POLYGON ((30.83385 3.50917, 29.95350 4.17370, ...</td>\n",
              "      <td>S. Sudan</td>\n",
              "      <td>Africa</td>\n",
              "      <td>SSD</td>\n",
              "      <td>S. Sudan</td>\n",
              "      <td>3118</td>\n",
              "    </tr>\n",
              "  </tbody>\n",
              "</table>\n",
              "<p>158 rows × 6 columns</p>\n",
              "</div>"
            ],
            "text/plain": [
              "                                              geometry  ... Covid_num\n",
              "0    MULTIPOLYGON (((180.00000 -16.06713, 180.00000...  ...        42\n",
              "1    POLYGON ((33.90371 -0.95000, 34.07262 -1.05982...  ...       509\n",
              "2    MULTIPOLYGON (((-122.84000 49.00000, -122.9742...  ...    389775\n",
              "3    MULTIPOLYGON (((-122.84000 49.00000, -120.0000...  ...  14314265\n",
              "4    POLYGON ((87.35997 49.21498, 86.59878 48.54918...  ...    133887\n",
              "..                                                 ...  ...       ...\n",
              "153  POLYGON ((18.56000 42.65000, 17.67492 43.02856...  ...     90378\n",
              "154  POLYGON ((18.82982 45.90887, 18.82984 45.90888...  ...    191356\n",
              "155  POLYGON ((20.07070 42.58863, 19.80161 42.50009...  ...     36351\n",
              "156  POLYGON ((-61.68000 10.76000, -61.10500 10.890...  ...      6704\n",
              "157  POLYGON ((30.83385 3.50917, 29.95350 4.17370, ...  ...      3118\n",
              "\n",
              "[158 rows x 6 columns]"
            ]
          },
          "metadata": {
            "tags": []
          },
          "execution_count": 24
        }
      ]
    },
    {
      "cell_type": "code",
      "metadata": {
        "id": "U_X78kUaryAL",
        "colab": {
          "base_uri": "https://localhost:8080/"
        },
        "outputId": "f5ff8576-1ed2-4a99-9cee-23a995f223fa"
      },
      "source": [
        "import plotly.express as px\n",
        "fig = px.scatter_geo(country_shapes, color=\"continent\",\n",
        "                     hover_name=\"Country\", locations='iso_a3', size=\"Covid_num\",\n",
        "                     projection=\"natural earth\")\n",
        "fig.show()"
      ],
      "execution_count": null,
      "outputs": [
        {
          "output_type": "display_data",
          "data": {
            "text/html": [
              "<html>\n",
              "<head><meta charset=\"utf-8\" /></head>\n",
              "<body>\n",
              "    <div>\n",
              "            <script src=\"https://cdnjs.cloudflare.com/ajax/libs/mathjax/2.7.5/MathJax.js?config=TeX-AMS-MML_SVG\"></script><script type=\"text/javascript\">if (window.MathJax) {MathJax.Hub.Config({SVG: {font: \"STIX-Web\"}});}</script>\n",
              "                <script type=\"text/javascript\">window.PlotlyConfig = {MathJaxConfig: 'local'};</script>\n",
              "        <script src=\"https://cdn.plot.ly/plotly-latest.min.js\"></script>    \n",
              "            <div id=\"23aa953c-f9ba-4bb8-9cf5-e34647a7242e\" class=\"plotly-graph-div\" style=\"height:525px; width:100%;\"></div>\n",
              "            <script type=\"text/javascript\">\n",
              "                \n",
              "                    window.PLOTLYENV=window.PLOTLYENV || {};\n",
              "                    \n",
              "                if (document.getElementById(\"23aa953c-f9ba-4bb8-9cf5-e34647a7242e\")) {\n",
              "                    Plotly.newPlot(\n",
              "                        '23aa953c-f9ba-4bb8-9cf5-e34647a7242e',\n",
              "                        [{\"geo\": \"geo\", \"hoverlabel\": {\"namelength\": 0}, \"hovertemplate\": \"<b>%{hovertext}</b><br><br>continent=Oceania<br>Covid_num=%{marker.size}<br>iso_a3=%{location}\", \"hovertext\": [\"Fiji\", \"Papua New Guinea\", \"New Caledonia\", \"New Zealand\", \"Australia\"], \"legendgroup\": \"continent=Oceania\", \"locations\": [\"FJI\", \"PNG\", \"NCL\", \"NZL\", \"AUS\"], \"marker\": {\"color\": \"#636efa\", \"size\": [42, 669, 33, 2069, 27939], \"sizemode\": \"area\", \"sizeref\": 35785.6625}, \"name\": \"continent=Oceania\", \"showlegend\": true, \"type\": \"scattergeo\"}, {\"geo\": \"geo\", \"hoverlabel\": {\"namelength\": 0}, \"hovertemplate\": \"<b>%{hovertext}</b><br><br>continent=Africa<br>Covid_num=%{marker.size}<br>iso_a3=%{location}\", \"hovertext\": [\"Tanzania\", \"Dem. Rep. Congo\", \"Somalia\", \"Kenya\", \"Sudan\", \"Chad\", \"South Africa\", \"Lesotho\", \"Zimbabwe\", \"Botswana\", \"Namibia\", \"Senegal\", \"Mali\", \"Mauritania\", \"Benin\", \"Niger\", \"Nigeria\", \"Cameroon\", \"Togo\", \"Ghana\", \"Guinea\", \"Guinea-Bissau\", \"Liberia\", \"Sierra Leone\", \"Burkina Faso\", \"Central African Rep.\", \"Congo\", \"Gabon\", \"Zambia\", \"Malawi\", \"Mozambique\", \"Angola\", \"Burundi\", \"Madagascar\", \"Gambia\", \"Tunisia\", \"Algeria\", \"Eritrea\", \"Morocco\", \"Egypt\", \"Libya\", \"Ethiopia\", \"Djibouti\", \"Uganda\", \"Rwanda\", \"S. Sudan\"], \"legendgroup\": \"continent=Africa\", \"locations\": [\"TZA\", \"COD\", \"SOM\", \"KEN\", \"SDN\", \"TCD\", \"ZAF\", \"LSO\", \"ZWE\", \"BWA\", \"NAM\", \"SEN\", \"MLI\", \"MRT\", \"BEN\", \"NER\", \"NGA\", \"CMR\", \"TGO\", \"GHA\", \"GIN\", \"GNB\", \"LBR\", \"SLE\", \"BFA\", \"CAF\", \"COG\", \"GAB\", \"ZMB\", \"MWI\", \"MOZ\", \"AGO\", \"BDI\", \"MDG\", \"GMB\", \"TUN\", \"DZA\", \"ERI\", \"MAR\", \"EGY\", \"LBY\", \"ETH\", \"DJI\", \"UGA\", \"RWA\", \"SSD\"], \"marker\": {\"color\": \"#EF553B\", \"size\": [509, 12987, 4525, 85130, 18254, 1705, 796472, 2142, 10129, 10742, 14477, 16217, 4837, 8863, 3055, 1640, 67960, 24487, 3014, 51667, 13167, 2441, 1595, 2416, 3010, 4918, 5774, 9239, 17730, 6040, 15866, 15319, 689, 17341, 3765, 99280, 85084, 577, 364190, 116724, 84849, 110984, 5682, 21409, 5994, 3118], \"sizemode\": \"area\", \"sizeref\": 35785.6625}, \"name\": \"continent=Africa\", \"showlegend\": true, \"type\": \"scattergeo\"}, {\"geo\": \"geo\", \"hoverlabel\": {\"namelength\": 0}, \"hovertemplate\": \"<b>%{hovertext}</b><br><br>continent=North America<br>Covid_num=%{marker.size}<br>iso_a3=%{location}\", \"hovertext\": [\"Canada\", \"United States of America\", \"Haiti\", \"Dominican Rep.\", \"Bahamas\", \"Mexico\", \"Panama\", \"Costa Rica\", \"Nicaragua\", \"Honduras\", \"El Salvador\", \"Guatemala\", \"Belize\", \"Jamaica\", \"Cuba\", \"Trinidad and Tobago\"], \"legendgroup\": \"continent=North America\", \"locations\": [\"CAN\", \"USA\", \"HTI\", \"DOM\", \"BHS\", \"MEX\", \"PAN\", \"CRI\", \"NIC\", \"HND\", \"SLV\", \"GTM\", \"BLZ\", \"JAM\", \"CUB\", \"TTO\"], \"marker\": {\"color\": \"#00cc96\", \"size\": [389775, 14314265, 9313, 145197, 7543, 1133613, 169339, 141340, 5838, 109144, 39130, 123460, 5854, 10864, 8456, 6704], \"sizemode\": \"area\", \"sizeref\": 35785.6625}, \"name\": \"continent=North America\", \"showlegend\": true, \"type\": \"scattergeo\"}, {\"geo\": \"geo\", \"hoverlabel\": {\"namelength\": 0}, \"hovertemplate\": \"<b>%{hovertext}</b><br><br>continent=Asia<br>Covid_num=%{marker.size}<br>iso_a3=%{location}\", \"hovertext\": [\"Kazakhstan\", \"Uzbekistan\", \"Indonesia\", \"Timor-Leste\", \"Israel\", \"Lebanon\", \"Palestine\", \"Jordan\", \"United Arab Emirates\", \"Qatar\", \"Kuwait\", \"Iraq\", \"Oman\", \"Cambodia\", \"Thailand\", \"Laos\", \"Myanmar\", \"Vietnam\", \"South Korea\", \"Mongolia\", \"India\", \"Bangladesh\", \"Bhutan\", \"Nepal\", \"Pakistan\", \"Afghanistan\", \"Tajikistan\", \"Kyrgyzstan\", \"Iran\", \"Syria\", \"Armenia\", \"Turkey\", \"Sri Lanka\", \"Taiwan\", \"Azerbaijan\", \"Georgia\", \"Philippines\", \"Malaysia\", \"Japan\", \"Yemen\", \"Saudi Arabia\", \"Cyprus\"], \"legendgroup\": \"continent=Asia\", \"locations\": [\"KAZ\", \"UZB\", \"IDN\", \"TLS\", \"ISR\", \"LBN\", \"PSE\", \"JOR\", \"ARE\", \"QAT\", \"KWT\", \"IRQ\", \"OMN\", \"KHM\", \"THA\", \"LAO\", \"MMR\", \"VNM\", \"KOR\", \"MNG\", \"IND\", \"BGD\", \"BTN\", \"NPL\", \"PAK\", \"AFG\", \"TJK\", \"KGZ\", \"IRN\", \"SYR\", \"ARM\", \"TUR\", \"LKA\", \"TWN\", \"AZE\", \"GEO\", \"PHL\", \"MYS\", \"JPN\", \"YEM\", \"SAU\", \"CYP\"], \"marker\": {\"color\": \"#ab63fa\", \"size\": [133887, 73431, 557877, 31, 340424, 131297, 92708, 227208, 172751, 139477, 143574, 556728, 124329, 331, 4039, 39, 93600, 1361, 35703, 819, 9534964, 471739, 415, 237589, 406810, 47258, 12269, 73933, 1003494, 8059, 138508, 700880, 25410, 686, 133733, 147636, 435413, 69095, 150386, 2217, 357872, 11175], \"sizemode\": \"area\", \"sizeref\": 35785.6625}, \"name\": \"continent=Asia\", \"showlegend\": true, \"type\": \"scattergeo\"}, {\"geo\": \"geo\", \"hoverlabel\": {\"namelength\": 0}, \"hovertemplate\": \"<b>%{hovertext}</b><br><br>continent=South America<br>Covid_num=%{marker.size}<br>iso_a3=%{location}\", \"hovertext\": [\"Argentina\", \"Chile\", \"Uruguay\", \"Brazil\", \"Bolivia\", \"Peru\", \"Colombia\", \"Venezuela\", \"Guyana\", \"Suriname\", \"Ecuador\", \"Paraguay\"], \"legendgroup\": \"continent=South America\", \"locations\": [\"ARG\", \"CHL\", \"URY\", \"BRA\", \"BOL\", \"PER\", \"COL\", \"VEN\", \"GUY\", \"SUR\", \"ECU\", \"PRY\"], \"marker\": {\"color\": \"#FFA15A\", \"size\": [1440103, 553898, 6225, 6436650, 144994, 967075, 1334089, 103067, 5449, 5320, 194876, 84482], \"sizemode\": \"area\", \"sizeref\": 35785.6625}, \"name\": \"continent=South America\", \"showlegend\": true, \"type\": \"scattergeo\"}, {\"geo\": \"geo\", \"hoverlabel\": {\"namelength\": 0}, \"hovertemplate\": \"<b>%{hovertext}</b><br><br>continent=Europe<br>Covid_num=%{marker.size}<br>iso_a3=%{location}\", \"hovertext\": [\"Russia\", \"Norway\", \"France\", \"Sweden\", \"Belarus\", \"Ukraine\", \"Poland\", \"Austria\", \"Hungary\", \"Moldova\", \"Romania\", \"Lithuania\", \"Latvia\", \"Estonia\", \"Germany\", \"Bulgaria\", \"Greece\", \"Albania\", \"Croatia\", \"Switzerland\", \"Luxembourg\", \"Belgium\", \"Netherlands\", \"Portugal\", \"Spain\", \"Ireland\", \"Italy\", \"Denmark\", \"United Kingdom\", \"Iceland\", \"Slovenia\", \"Finland\", \"Slovakia\", \"Czechia\", \"Bosnia and Herz.\", \"Serbia\", \"Montenegro\"], \"legendgroup\": \"continent=Europe\", \"locations\": [\"RUS\", \"-99\", \"-99\", \"SWE\", \"BLR\", \"UKR\", \"POL\", \"AUT\", \"HUN\", \"MDA\", \"ROU\", \"LTU\", \"LVA\", \"EST\", \"DEU\", \"BGR\", \"GRC\", \"ALB\", \"HRV\", \"CHE\", \"LUX\", \"BEL\", \"NLD\", \"PRT\", \"ESP\", \"IRL\", \"ITA\", \"DNK\", \"GBR\", \"ISL\", \"SVN\", \"FIN\", \"SVK\", \"CZE\", \"BIH\", \"SRB\", \"MNE\"], \"marker\": {\"color\": \"#19d3f3\", \"size\": [2375546, 36969, 2244635, 266158, 141609, 772760, 1028610, 293430, 231844, 110580, 492211, 67066, 19307, 13469, 1106342, 151913, 109655, 39719, 139415, 340115, 35802, 582252, 532444, 303846, 1682533, 73066, 1641610, 83535, 1659256, 5448, 81338, 26422, 111208, 533042, 90378, 191356, 36351], \"sizemode\": \"area\", \"sizeref\": 35785.6625}, \"name\": \"continent=Europe\", \"showlegend\": true, \"type\": \"scattergeo\"}],\n",
              "                        {\"geo\": {\"center\": {}, \"domain\": {\"x\": [0.0, 1.0], \"y\": [0.0, 1.0]}, \"projection\": {\"type\": \"natural earth\"}}, \"legend\": {\"itemsizing\": \"constant\", \"tracegroupgap\": 0}, \"margin\": {\"t\": 60}, \"template\": {\"data\": {\"bar\": [{\"error_x\": {\"color\": \"#2a3f5f\"}, \"error_y\": {\"color\": \"#2a3f5f\"}, \"marker\": {\"line\": {\"color\": \"#E5ECF6\", \"width\": 0.5}}, \"type\": \"bar\"}], \"barpolar\": [{\"marker\": {\"line\": {\"color\": \"#E5ECF6\", \"width\": 0.5}}, \"type\": \"barpolar\"}], \"carpet\": [{\"aaxis\": {\"endlinecolor\": \"#2a3f5f\", \"gridcolor\": \"white\", \"linecolor\": \"white\", \"minorgridcolor\": \"white\", \"startlinecolor\": \"#2a3f5f\"}, \"baxis\": {\"endlinecolor\": \"#2a3f5f\", \"gridcolor\": \"white\", \"linecolor\": \"white\", \"minorgridcolor\": \"white\", \"startlinecolor\": \"#2a3f5f\"}, \"type\": \"carpet\"}], \"choropleth\": [{\"colorbar\": {\"outlinewidth\": 0, \"ticks\": \"\"}, \"type\": \"choropleth\"}], \"contour\": [{\"colorbar\": {\"outlinewidth\": 0, \"ticks\": \"\"}, \"colorscale\": [[0.0, \"#0d0887\"], [0.1111111111111111, \"#46039f\"], [0.2222222222222222, \"#7201a8\"], [0.3333333333333333, \"#9c179e\"], [0.4444444444444444, \"#bd3786\"], [0.5555555555555556, \"#d8576b\"], [0.6666666666666666, \"#ed7953\"], [0.7777777777777778, \"#fb9f3a\"], [0.8888888888888888, \"#fdca26\"], [1.0, \"#f0f921\"]], \"type\": \"contour\"}], \"contourcarpet\": [{\"colorbar\": {\"outlinewidth\": 0, \"ticks\": \"\"}, \"type\": \"contourcarpet\"}], \"heatmap\": [{\"colorbar\": {\"outlinewidth\": 0, \"ticks\": \"\"}, \"colorscale\": [[0.0, \"#0d0887\"], [0.1111111111111111, \"#46039f\"], [0.2222222222222222, \"#7201a8\"], [0.3333333333333333, \"#9c179e\"], [0.4444444444444444, \"#bd3786\"], [0.5555555555555556, \"#d8576b\"], [0.6666666666666666, \"#ed7953\"], [0.7777777777777778, \"#fb9f3a\"], [0.8888888888888888, \"#fdca26\"], [1.0, \"#f0f921\"]], \"type\": \"heatmap\"}], \"heatmapgl\": [{\"colorbar\": {\"outlinewidth\": 0, \"ticks\": \"\"}, \"colorscale\": [[0.0, \"#0d0887\"], [0.1111111111111111, \"#46039f\"], [0.2222222222222222, \"#7201a8\"], [0.3333333333333333, \"#9c179e\"], [0.4444444444444444, \"#bd3786\"], [0.5555555555555556, \"#d8576b\"], [0.6666666666666666, \"#ed7953\"], [0.7777777777777778, \"#fb9f3a\"], [0.8888888888888888, \"#fdca26\"], [1.0, \"#f0f921\"]], \"type\": \"heatmapgl\"}], \"histogram\": [{\"marker\": {\"colorbar\": {\"outlinewidth\": 0, \"ticks\": \"\"}}, \"type\": \"histogram\"}], \"histogram2d\": [{\"colorbar\": {\"outlinewidth\": 0, \"ticks\": \"\"}, \"colorscale\": [[0.0, \"#0d0887\"], [0.1111111111111111, \"#46039f\"], [0.2222222222222222, \"#7201a8\"], [0.3333333333333333, \"#9c179e\"], [0.4444444444444444, \"#bd3786\"], [0.5555555555555556, \"#d8576b\"], [0.6666666666666666, \"#ed7953\"], [0.7777777777777778, \"#fb9f3a\"], [0.8888888888888888, \"#fdca26\"], [1.0, \"#f0f921\"]], \"type\": \"histogram2d\"}], \"histogram2dcontour\": [{\"colorbar\": {\"outlinewidth\": 0, \"ticks\": \"\"}, \"colorscale\": [[0.0, \"#0d0887\"], [0.1111111111111111, \"#46039f\"], [0.2222222222222222, \"#7201a8\"], [0.3333333333333333, \"#9c179e\"], [0.4444444444444444, \"#bd3786\"], [0.5555555555555556, \"#d8576b\"], [0.6666666666666666, \"#ed7953\"], [0.7777777777777778, \"#fb9f3a\"], [0.8888888888888888, \"#fdca26\"], [1.0, \"#f0f921\"]], \"type\": \"histogram2dcontour\"}], \"mesh3d\": [{\"colorbar\": {\"outlinewidth\": 0, \"ticks\": \"\"}, \"type\": \"mesh3d\"}], \"parcoords\": [{\"line\": {\"colorbar\": {\"outlinewidth\": 0, \"ticks\": \"\"}}, \"type\": \"parcoords\"}], \"pie\": [{\"automargin\": true, \"type\": \"pie\"}], \"scatter\": [{\"marker\": {\"colorbar\": {\"outlinewidth\": 0, \"ticks\": \"\"}}, \"type\": \"scatter\"}], \"scatter3d\": [{\"line\": {\"colorbar\": {\"outlinewidth\": 0, \"ticks\": \"\"}}, \"marker\": {\"colorbar\": {\"outlinewidth\": 0, \"ticks\": \"\"}}, \"type\": \"scatter3d\"}], \"scattercarpet\": [{\"marker\": {\"colorbar\": {\"outlinewidth\": 0, \"ticks\": \"\"}}, \"type\": \"scattercarpet\"}], \"scattergeo\": [{\"marker\": {\"colorbar\": {\"outlinewidth\": 0, \"ticks\": \"\"}}, \"type\": \"scattergeo\"}], \"scattergl\": [{\"marker\": {\"colorbar\": {\"outlinewidth\": 0, \"ticks\": \"\"}}, \"type\": \"scattergl\"}], \"scattermapbox\": [{\"marker\": {\"colorbar\": {\"outlinewidth\": 0, \"ticks\": \"\"}}, \"type\": \"scattermapbox\"}], \"scatterpolar\": [{\"marker\": {\"colorbar\": {\"outlinewidth\": 0, \"ticks\": \"\"}}, \"type\": \"scatterpolar\"}], \"scatterpolargl\": [{\"marker\": {\"colorbar\": {\"outlinewidth\": 0, \"ticks\": \"\"}}, \"type\": \"scatterpolargl\"}], \"scatterternary\": [{\"marker\": {\"colorbar\": {\"outlinewidth\": 0, \"ticks\": \"\"}}, \"type\": \"scatterternary\"}], \"surface\": [{\"colorbar\": {\"outlinewidth\": 0, \"ticks\": \"\"}, \"colorscale\": [[0.0, \"#0d0887\"], [0.1111111111111111, \"#46039f\"], [0.2222222222222222, \"#7201a8\"], [0.3333333333333333, \"#9c179e\"], [0.4444444444444444, \"#bd3786\"], [0.5555555555555556, \"#d8576b\"], [0.6666666666666666, \"#ed7953\"], [0.7777777777777778, \"#fb9f3a\"], [0.8888888888888888, \"#fdca26\"], [1.0, \"#f0f921\"]], \"type\": \"surface\"}], \"table\": [{\"cells\": {\"fill\": {\"color\": \"#EBF0F8\"}, \"line\": {\"color\": \"white\"}}, \"header\": {\"fill\": {\"color\": \"#C8D4E3\"}, \"line\": {\"color\": \"white\"}}, \"type\": \"table\"}]}, \"layout\": {\"annotationdefaults\": {\"arrowcolor\": \"#2a3f5f\", \"arrowhead\": 0, \"arrowwidth\": 1}, \"coloraxis\": {\"colorbar\": {\"outlinewidth\": 0, \"ticks\": \"\"}}, \"colorscale\": {\"diverging\": [[0, \"#8e0152\"], [0.1, \"#c51b7d\"], [0.2, \"#de77ae\"], [0.3, \"#f1b6da\"], [0.4, \"#fde0ef\"], [0.5, \"#f7f7f7\"], [0.6, \"#e6f5d0\"], [0.7, \"#b8e186\"], [0.8, \"#7fbc41\"], [0.9, \"#4d9221\"], [1, \"#276419\"]], \"sequential\": [[0.0, \"#0d0887\"], [0.1111111111111111, \"#46039f\"], [0.2222222222222222, \"#7201a8\"], [0.3333333333333333, \"#9c179e\"], [0.4444444444444444, \"#bd3786\"], [0.5555555555555556, \"#d8576b\"], [0.6666666666666666, \"#ed7953\"], [0.7777777777777778, \"#fb9f3a\"], [0.8888888888888888, \"#fdca26\"], [1.0, \"#f0f921\"]], \"sequentialminus\": [[0.0, \"#0d0887\"], [0.1111111111111111, \"#46039f\"], [0.2222222222222222, \"#7201a8\"], [0.3333333333333333, \"#9c179e\"], [0.4444444444444444, \"#bd3786\"], [0.5555555555555556, \"#d8576b\"], [0.6666666666666666, \"#ed7953\"], [0.7777777777777778, \"#fb9f3a\"], [0.8888888888888888, \"#fdca26\"], [1.0, \"#f0f921\"]]}, \"colorway\": [\"#636efa\", \"#EF553B\", \"#00cc96\", \"#ab63fa\", \"#FFA15A\", \"#19d3f3\", \"#FF6692\", \"#B6E880\", \"#FF97FF\", \"#FECB52\"], \"font\": {\"color\": \"#2a3f5f\"}, \"geo\": {\"bgcolor\": \"white\", \"lakecolor\": \"white\", \"landcolor\": \"#E5ECF6\", \"showlakes\": true, \"showland\": true, \"subunitcolor\": \"white\"}, \"hoverlabel\": {\"align\": \"left\"}, \"hovermode\": \"closest\", \"mapbox\": {\"style\": \"light\"}, \"paper_bgcolor\": \"white\", \"plot_bgcolor\": \"#E5ECF6\", \"polar\": {\"angularaxis\": {\"gridcolor\": \"white\", \"linecolor\": \"white\", \"ticks\": \"\"}, \"bgcolor\": \"#E5ECF6\", \"radialaxis\": {\"gridcolor\": \"white\", \"linecolor\": \"white\", \"ticks\": \"\"}}, \"scene\": {\"xaxis\": {\"backgroundcolor\": \"#E5ECF6\", \"gridcolor\": \"white\", \"gridwidth\": 2, \"linecolor\": \"white\", \"showbackground\": true, \"ticks\": \"\", \"zerolinecolor\": \"white\"}, \"yaxis\": {\"backgroundcolor\": \"#E5ECF6\", \"gridcolor\": \"white\", \"gridwidth\": 2, \"linecolor\": \"white\", \"showbackground\": true, \"ticks\": \"\", \"zerolinecolor\": \"white\"}, \"zaxis\": {\"backgroundcolor\": \"#E5ECF6\", \"gridcolor\": \"white\", \"gridwidth\": 2, \"linecolor\": \"white\", \"showbackground\": true, \"ticks\": \"\", \"zerolinecolor\": \"white\"}}, \"shapedefaults\": {\"line\": {\"color\": \"#2a3f5f\"}}, \"ternary\": {\"aaxis\": {\"gridcolor\": \"white\", \"linecolor\": \"white\", \"ticks\": \"\"}, \"baxis\": {\"gridcolor\": \"white\", \"linecolor\": \"white\", \"ticks\": \"\"}, \"bgcolor\": \"#E5ECF6\", \"caxis\": {\"gridcolor\": \"white\", \"linecolor\": \"white\", \"ticks\": \"\"}}, \"title\": {\"x\": 0.05}, \"xaxis\": {\"automargin\": true, \"gridcolor\": \"white\", \"linecolor\": \"white\", \"ticks\": \"\", \"title\": {\"standoff\": 15}, \"zerolinecolor\": \"white\", \"zerolinewidth\": 2}, \"yaxis\": {\"automargin\": true, \"gridcolor\": \"white\", \"linecolor\": \"white\", \"ticks\": \"\", \"title\": {\"standoff\": 15}, \"zerolinecolor\": \"white\", \"zerolinewidth\": 2}}}},\n",
              "                        {\"responsive\": true}\n",
              "                    ).then(function(){\n",
              "                            \n",
              "var gd = document.getElementById('23aa953c-f9ba-4bb8-9cf5-e34647a7242e');\n",
              "var x = new MutationObserver(function (mutations, observer) {{\n",
              "        var display = window.getComputedStyle(gd).display;\n",
              "        if (!display || display === 'none') {{\n",
              "            console.log([gd, 'removed!']);\n",
              "            Plotly.purge(gd);\n",
              "            observer.disconnect();\n",
              "        }}\n",
              "}});\n",
              "\n",
              "// Listen for the removal of the full notebook cells\n",
              "var notebookContainer = gd.closest('#notebook-container');\n",
              "if (notebookContainer) {{\n",
              "    x.observe(notebookContainer, {childList: true});\n",
              "}}\n",
              "\n",
              "// Listen for the clearing of the current output cell\n",
              "var outputEl = gd.closest('.output');\n",
              "if (outputEl) {{\n",
              "    x.observe(outputEl, {childList: true});\n",
              "}}\n",
              "\n",
              "                        })\n",
              "                };\n",
              "                \n",
              "            </script>\n",
              "        </div>\n",
              "</body>\n",
              "</html>"
            ]
          },
          "metadata": {
            "tags": []
          }
        }
      ]
    },
    {
      "cell_type": "code",
      "metadata": {
        "id": "pZCaj0FsdI4J",
        "colab": {
          "base_uri": "https://localhost:8080/",
          "height": 874
        },
        "outputId": "6749aa07-91a7-49f2-a6b4-9230c0692ac7"
      },
      "source": [
        "country_shapes.plot('Covid_num', legend=True, cmap='OrRd', figsize=(20,15), edgecolor='black', linewidth=0.8)\n"
      ],
      "execution_count": null,
      "outputs": [
        {
          "output_type": "execute_result",
          "data": {
            "text/plain": [
              "<matplotlib.axes._subplots.AxesSubplot at 0x7f17ebb4be10>"
            ]
          },
          "metadata": {
            "tags": []
          },
          "execution_count": 26
        },
        {
          "output_type": "display_data",
          "data": {
            "image/png": "[encoded data removed]",
            "text/plain": [
              "<Figure size 1440x1080 with 2 Axes>"
            ]
          },
          "metadata": {
            "tags": [],
            "needs_background": "light"
          }
        }
      ]
    },
    {
      "cell_type": "code",
      "metadata": {
        "id": "TXtERiQ6e4er",
        "colab": {
          "base_uri": "https://localhost:8080/",
          "height": 196
        },
        "outputId": "e5dbd213-f23a-4b54-fb83-f3d51ffebfbe"
      },
      "source": [
        "# Plot covid data with an accurate legend\n",
        "from mpl_toolkits.axes_grid1 import make_axes_locatable\n",
        "fig, ax = plt.subplots(1, 1)\n",
        "divider = make_axes_locatable(ax)\n",
        "cax = divider.append_axes(\"right\", size=\"5%\", pad=0.1)\n",
        "country_shapes.plot(column='Covid_num', ax=ax, legend=True, cax=cax)"
      ],
      "execution_count": null,
      "outputs": [
        {
          "output_type": "execute_result",
          "data": {
            "text/plain": [
              "<matplotlib.axes._subplots.AxesSubplot at 0x7f17e8709898>"
            ]
          },
          "metadata": {
            "tags": []
          },
          "execution_count": 27
        },
        {
          "output_type": "display_data",
          "data": {
            "image/png": "[encoded data removed]",
            "text/plain": [
              "<Figure size 432x288 with 2 Axes>"
            ]
          },
          "metadata": {
            "tags": [],
            "needs_background": "light"
          }
        }
      ]
    },
    {
      "cell_type": "code",
      "metadata": {
        "id": "o4VJEM8ZWP6P",
        "colab": {
          "base_uri": "https://localhost:8080/",
          "height": 1000
        },
        "outputId": "d5652060-2607-492a-a598-1b06d5b47aad"
      },
      "source": [
        "#to find the left out cases arising due to common field difference in item name\n",
        "country_shapes_left_out = country_shapes.merge(Covid_final, left_on='name',right_on='Country', how='right')\n",
        "country_shapes_left_out[155:]"
      ],
      "execution_count": null,
      "outputs": [
        {
          "output_type": "execute_result",
          "data": {
            "text/html": [
              "<div>\n",
              "<style scoped>\n",
              "    .dataframe tbody tr th:only-of-type {\n",
              "        vertical-align: middle;\n",
              "    }\n",
              "\n",
              "    .dataframe tbody tr th {\n",
              "        vertical-align: top;\n",
              "    }\n",
              "\n",
              "    .dataframe thead th {\n",
              "        text-align: right;\n",
              "    }\n",
              "</style>\n",
              "<table border=\"1\" class=\"dataframe\">\n",
              "  <thead>\n",
              "    <tr style=\"text-align: right;\">\n",
              "      <th></th>\n",
              "      <th>geometry</th>\n",
              "      <th>name</th>\n",
              "      <th>continent</th>\n",
              "      <th>iso_a3</th>\n",
              "      <th>Country_x</th>\n",
              "      <th>Covid_num_x</th>\n",
              "      <th>Country_y</th>\n",
              "      <th>Covid_num_y</th>\n",
              "    </tr>\n",
              "  </thead>\n",
              "  <tbody>\n",
              "    <tr>\n",
              "      <th>155</th>\n",
              "      <td>None</td>\n",
              "      <td>NaN</td>\n",
              "      <td>NaN</td>\n",
              "      <td>NaN</td>\n",
              "      <td>NaN</td>\n",
              "      <td>NaN</td>\n",
              "      <td>Curaçao</td>\n",
              "      <td>2658</td>\n",
              "    </tr>\n",
              "    <tr>\n",
              "      <th>156</th>\n",
              "      <td>POLYGON ((-16.67745 12.38485, -16.14772 12.547...</td>\n",
              "      <td>Guinea-Bissau</td>\n",
              "      <td>Africa</td>\n",
              "      <td>GNB</td>\n",
              "      <td>Guinea-Bissau</td>\n",
              "      <td>2441.0</td>\n",
              "      <td>Guinea-Bissau</td>\n",
              "      <td>2441</td>\n",
              "    </tr>\n",
              "    <tr>\n",
              "      <th>157</th>\n",
              "      <td>POLYGON ((-13.24655 8.90305, -12.71196 9.34271...</td>\n",
              "      <td>Sierra Leone</td>\n",
              "      <td>Africa</td>\n",
              "      <td>SLE</td>\n",
              "      <td>Sierra Leone</td>\n",
              "      <td>2416.0</td>\n",
              "      <td>Sierra Leone</td>\n",
              "      <td>2416</td>\n",
              "    </tr>\n",
              "    <tr>\n",
              "      <th>158</th>\n",
              "      <td>POLYGON ((52.00001 19.00000, 52.78218 17.34974...</td>\n",
              "      <td>Yemen</td>\n",
              "      <td>Asia</td>\n",
              "      <td>YEM</td>\n",
              "      <td>Yemen</td>\n",
              "      <td>2217.0</td>\n",
              "      <td>Yemen</td>\n",
              "      <td>2217</td>\n",
              "    </tr>\n",
              "    <tr>\n",
              "      <th>159</th>\n",
              "      <td>POLYGON ((28.97826 -28.95560, 29.32517 -29.257...</td>\n",
              "      <td>Lesotho</td>\n",
              "      <td>Africa</td>\n",
              "      <td>LSO</td>\n",
              "      <td>Lesotho</td>\n",
              "      <td>2142.0</td>\n",
              "      <td>Lesotho</td>\n",
              "      <td>2142</td>\n",
              "    </tr>\n",
              "    <tr>\n",
              "      <th>160</th>\n",
              "      <td>MULTIPOLYGON (((176.88582 -40.06598, 176.50802...</td>\n",
              "      <td>New Zealand</td>\n",
              "      <td>Oceania</td>\n",
              "      <td>NZL</td>\n",
              "      <td>New Zealand</td>\n",
              "      <td>2069.0</td>\n",
              "      <td>New Zealand</td>\n",
              "      <td>2069</td>\n",
              "    </tr>\n",
              "    <tr>\n",
              "      <th>161</th>\n",
              "      <td>POLYGON ((23.83766 19.58047, 23.88689 15.61084...</td>\n",
              "      <td>Chad</td>\n",
              "      <td>Africa</td>\n",
              "      <td>TCD</td>\n",
              "      <td>Chad</td>\n",
              "      <td>1705.0</td>\n",
              "      <td>Chad</td>\n",
              "      <td>1705</td>\n",
              "    </tr>\n",
              "    <tr>\n",
              "      <th>162</th>\n",
              "      <td>None</td>\n",
              "      <td>NaN</td>\n",
              "      <td>NaN</td>\n",
              "      <td>NaN</td>\n",
              "      <td>NaN</td>\n",
              "      <td>NaN</td>\n",
              "      <td>San Marino</td>\n",
              "      <td>1687</td>\n",
              "    </tr>\n",
              "    <tr>\n",
              "      <th>163</th>\n",
              "      <td>POLYGON ((14.85130 22.86295, 15.09689 21.30852...</td>\n",
              "      <td>Niger</td>\n",
              "      <td>Africa</td>\n",
              "      <td>NER</td>\n",
              "      <td>Niger</td>\n",
              "      <td>1640.0</td>\n",
              "      <td>Niger</td>\n",
              "      <td>1640</td>\n",
              "    </tr>\n",
              "    <tr>\n",
              "      <th>164</th>\n",
              "      <td>POLYGON ((-8.43930 7.68604, -8.48545 7.39521, ...</td>\n",
              "      <td>Liberia</td>\n",
              "      <td>Africa</td>\n",
              "      <td>LBR</td>\n",
              "      <td>Liberia</td>\n",
              "      <td>1595.0</td>\n",
              "      <td>Liberia</td>\n",
              "      <td>1595</td>\n",
              "    </tr>\n",
              "    <tr>\n",
              "      <th>165</th>\n",
              "      <td>None</td>\n",
              "      <td>NaN</td>\n",
              "      <td>NaN</td>\n",
              "      <td>NaN</td>\n",
              "      <td>NaN</td>\n",
              "      <td>NaN</td>\n",
              "      <td>Channel Islands</td>\n",
              "      <td>1397</td>\n",
              "    </tr>\n",
              "    <tr>\n",
              "      <th>166</th>\n",
              "      <td>POLYGON ((104.33433 10.48654, 105.19991 10.889...</td>\n",
              "      <td>Vietnam</td>\n",
              "      <td>Asia</td>\n",
              "      <td>VNM</td>\n",
              "      <td>Vietnam</td>\n",
              "      <td>1361.0</td>\n",
              "      <td>Vietnam</td>\n",
              "      <td>1361</td>\n",
              "    </tr>\n",
              "    <tr>\n",
              "      <th>167</th>\n",
              "      <td>None</td>\n",
              "      <td>NaN</td>\n",
              "      <td>NaN</td>\n",
              "      <td>NaN</td>\n",
              "      <td>NaN</td>\n",
              "      <td>NaN</td>\n",
              "      <td>Liechtenstein</td>\n",
              "      <td>1318</td>\n",
              "    </tr>\n",
              "    <tr>\n",
              "      <th>168</th>\n",
              "      <td>None</td>\n",
              "      <td>NaN</td>\n",
              "      <td>NaN</td>\n",
              "      <td>NaN</td>\n",
              "      <td>NaN</td>\n",
              "      <td>NaN</td>\n",
              "      <td>Sint Maarten</td>\n",
              "      <td>1092</td>\n",
              "    </tr>\n",
              "    <tr>\n",
              "      <th>169</th>\n",
              "      <td>None</td>\n",
              "      <td>NaN</td>\n",
              "      <td>NaN</td>\n",
              "      <td>NaN</td>\n",
              "      <td>NaN</td>\n",
              "      <td>NaN</td>\n",
              "      <td>Gibraltar</td>\n",
              "      <td>1038</td>\n",
              "    </tr>\n",
              "    <tr>\n",
              "      <th>170</th>\n",
              "      <td>None</td>\n",
              "      <td>NaN</td>\n",
              "      <td>NaN</td>\n",
              "      <td>NaN</td>\n",
              "      <td>NaN</td>\n",
              "      <td>NaN</td>\n",
              "      <td>Sao Tome and Principe</td>\n",
              "      <td>997</td>\n",
              "    </tr>\n",
              "    <tr>\n",
              "      <th>171</th>\n",
              "      <td>POLYGON ((87.75126 49.29720, 88.80557 49.47052...</td>\n",
              "      <td>Mongolia</td>\n",
              "      <td>Asia</td>\n",
              "      <td>MNG</td>\n",
              "      <td>Mongolia</td>\n",
              "      <td>819.0</td>\n",
              "      <td>Mongolia</td>\n",
              "      <td>819</td>\n",
              "    </tr>\n",
              "    <tr>\n",
              "      <th>172</th>\n",
              "      <td>None</td>\n",
              "      <td>NaN</td>\n",
              "      <td>NaN</td>\n",
              "      <td>NaN</td>\n",
              "      <td>NaN</td>\n",
              "      <td>NaN</td>\n",
              "      <td>Turks and Caicos</td>\n",
              "      <td>751</td>\n",
              "    </tr>\n",
              "    <tr>\n",
              "      <th>173</th>\n",
              "      <td>None</td>\n",
              "      <td>NaN</td>\n",
              "      <td>NaN</td>\n",
              "      <td>NaN</td>\n",
              "      <td>NaN</td>\n",
              "      <td>NaN</td>\n",
              "      <td>Saint Martin</td>\n",
              "      <td>717</td>\n",
              "    </tr>\n",
              "    <tr>\n",
              "      <th>174</th>\n",
              "      <td>None</td>\n",
              "      <td>NaN</td>\n",
              "      <td>NaN</td>\n",
              "      <td>NaN</td>\n",
              "      <td>NaN</td>\n",
              "      <td>NaN</td>\n",
              "      <td>Diamond Princess</td>\n",
              "      <td>712</td>\n",
              "    </tr>\n",
              "    <tr>\n",
              "      <th>175</th>\n",
              "      <td>POLYGON ((30.46967 -2.41385, 30.52766 -2.80762...</td>\n",
              "      <td>Burundi</td>\n",
              "      <td>Africa</td>\n",
              "      <td>BDI</td>\n",
              "      <td>Burundi</td>\n",
              "      <td>689.0</td>\n",
              "      <td>Burundi</td>\n",
              "      <td>689</td>\n",
              "    </tr>\n",
              "    <tr>\n",
              "      <th>176</th>\n",
              "      <td>POLYGON ((121.77782 24.39427, 121.17563 22.790...</td>\n",
              "      <td>Taiwan</td>\n",
              "      <td>Asia</td>\n",
              "      <td>TWN</td>\n",
              "      <td>Taiwan</td>\n",
              "      <td>686.0</td>\n",
              "      <td>Taiwan</td>\n",
              "      <td>686</td>\n",
              "    </tr>\n",
              "    <tr>\n",
              "      <th>177</th>\n",
              "      <td>MULTIPOLYGON (((141.00021 -2.60015, 142.73525 ...</td>\n",
              "      <td>Papua New Guinea</td>\n",
              "      <td>Oceania</td>\n",
              "      <td>PNG</td>\n",
              "      <td>Papua New Guinea</td>\n",
              "      <td>669.0</td>\n",
              "      <td>Papua New Guinea</td>\n",
              "      <td>669</td>\n",
              "    </tr>\n",
              "    <tr>\n",
              "      <th>178</th>\n",
              "      <td>None</td>\n",
              "      <td>NaN</td>\n",
              "      <td>NaN</td>\n",
              "      <td>NaN</td>\n",
              "      <td>NaN</td>\n",
              "      <td>NaN</td>\n",
              "      <td>Monaco</td>\n",
              "      <td>621</td>\n",
              "    </tr>\n",
              "    <tr>\n",
              "      <th>179</th>\n",
              "      <td>None</td>\n",
              "      <td>NaN</td>\n",
              "      <td>NaN</td>\n",
              "      <td>NaN</td>\n",
              "      <td>NaN</td>\n",
              "      <td>NaN</td>\n",
              "      <td>Comoros</td>\n",
              "      <td>613</td>\n",
              "    </tr>\n",
              "    <tr>\n",
              "      <th>180</th>\n",
              "      <td>POLYGON ((36.42951 14.42211, 36.32322 14.82249...</td>\n",
              "      <td>Eritrea</td>\n",
              "      <td>Africa</td>\n",
              "      <td>ERI</td>\n",
              "      <td>Eritrea</td>\n",
              "      <td>577.0</td>\n",
              "      <td>Eritrea</td>\n",
              "      <td>577</td>\n",
              "    </tr>\n",
              "    <tr>\n",
              "      <th>181</th>\n",
              "      <td>POLYGON ((33.90371 -0.95000, 34.07262 -1.05982...</td>\n",
              "      <td>Tanzania</td>\n",
              "      <td>Africa</td>\n",
              "      <td>TZA</td>\n",
              "      <td>Tanzania</td>\n",
              "      <td>509.0</td>\n",
              "      <td>Tanzania</td>\n",
              "      <td>509</td>\n",
              "    </tr>\n",
              "    <tr>\n",
              "      <th>182</th>\n",
              "      <td>None</td>\n",
              "      <td>NaN</td>\n",
              "      <td>NaN</td>\n",
              "      <td>NaN</td>\n",
              "      <td>NaN</td>\n",
              "      <td>NaN</td>\n",
              "      <td>Mauritius</td>\n",
              "      <td>508</td>\n",
              "    </tr>\n",
              "    <tr>\n",
              "      <th>183</th>\n",
              "      <td>None</td>\n",
              "      <td>NaN</td>\n",
              "      <td>NaN</td>\n",
              "      <td>NaN</td>\n",
              "      <td>NaN</td>\n",
              "      <td>NaN</td>\n",
              "      <td>Faeroe Islands</td>\n",
              "      <td>503</td>\n",
              "    </tr>\n",
              "    <tr>\n",
              "      <th>184</th>\n",
              "      <td>POLYGON ((91.69666 27.77174, 92.10371 27.45261...</td>\n",
              "      <td>Bhutan</td>\n",
              "      <td>Asia</td>\n",
              "      <td>BTN</td>\n",
              "      <td>Bhutan</td>\n",
              "      <td>415.0</td>\n",
              "      <td>Bhutan</td>\n",
              "      <td>415</td>\n",
              "    </tr>\n",
              "    <tr>\n",
              "      <th>185</th>\n",
              "      <td>POLYGON ((102.58493 12.18659, 102.34810 13.394...</td>\n",
              "      <td>Cambodia</td>\n",
              "      <td>Asia</td>\n",
              "      <td>KHM</td>\n",
              "      <td>Cambodia</td>\n",
              "      <td>331.0</td>\n",
              "      <td>Cambodia</td>\n",
              "      <td>331</td>\n",
              "    </tr>\n",
              "    <tr>\n",
              "      <th>186</th>\n",
              "      <td>None</td>\n",
              "      <td>NaN</td>\n",
              "      <td>NaN</td>\n",
              "      <td>NaN</td>\n",
              "      <td>NaN</td>\n",
              "      <td>NaN</td>\n",
              "      <td>Cayman Islands</td>\n",
              "      <td>285</td>\n",
              "    </tr>\n",
              "    <tr>\n",
              "      <th>187</th>\n",
              "      <td>None</td>\n",
              "      <td>NaN</td>\n",
              "      <td>NaN</td>\n",
              "      <td>NaN</td>\n",
              "      <td>NaN</td>\n",
              "      <td>NaN</td>\n",
              "      <td>Barbados</td>\n",
              "      <td>279</td>\n",
              "    </tr>\n",
              "    <tr>\n",
              "      <th>188</th>\n",
              "      <td>None</td>\n",
              "      <td>NaN</td>\n",
              "      <td>NaN</td>\n",
              "      <td>NaN</td>\n",
              "      <td>NaN</td>\n",
              "      <td>NaN</td>\n",
              "      <td>Bermuda</td>\n",
              "      <td>267</td>\n",
              "    </tr>\n",
              "    <tr>\n",
              "      <th>189</th>\n",
              "      <td>None</td>\n",
              "      <td>NaN</td>\n",
              "      <td>NaN</td>\n",
              "      <td>NaN</td>\n",
              "      <td>NaN</td>\n",
              "      <td>NaN</td>\n",
              "      <td>Saint Lucia</td>\n",
              "      <td>261</td>\n",
              "    </tr>\n",
              "    <tr>\n",
              "      <th>190</th>\n",
              "      <td>None</td>\n",
              "      <td>NaN</td>\n",
              "      <td>NaN</td>\n",
              "      <td>NaN</td>\n",
              "      <td>NaN</td>\n",
              "      <td>NaN</td>\n",
              "      <td>Seychelles</td>\n",
              "      <td>183</td>\n",
              "    </tr>\n",
              "    <tr>\n",
              "      <th>191</th>\n",
              "      <td>None</td>\n",
              "      <td>NaN</td>\n",
              "      <td>NaN</td>\n",
              "      <td>NaN</td>\n",
              "      <td>NaN</td>\n",
              "      <td>NaN</td>\n",
              "      <td>Caribbean Netherlands</td>\n",
              "      <td>162</td>\n",
              "    </tr>\n",
              "    <tr>\n",
              "      <th>192</th>\n",
              "      <td>None</td>\n",
              "      <td>NaN</td>\n",
              "      <td>NaN</td>\n",
              "      <td>NaN</td>\n",
              "      <td>NaN</td>\n",
              "      <td>NaN</td>\n",
              "      <td>Brunei</td>\n",
              "      <td>151</td>\n",
              "    </tr>\n",
              "    <tr>\n",
              "      <th>193</th>\n",
              "      <td>None</td>\n",
              "      <td>NaN</td>\n",
              "      <td>NaN</td>\n",
              "      <td>NaN</td>\n",
              "      <td>NaN</td>\n",
              "      <td>NaN</td>\n",
              "      <td>St. Barth</td>\n",
              "      <td>147</td>\n",
              "    </tr>\n",
              "    <tr>\n",
              "      <th>194</th>\n",
              "      <td>None</td>\n",
              "      <td>NaN</td>\n",
              "      <td>NaN</td>\n",
              "      <td>NaN</td>\n",
              "      <td>NaN</td>\n",
              "      <td>NaN</td>\n",
              "      <td>Antigua and Barbuda</td>\n",
              "      <td>144</td>\n",
              "    </tr>\n",
              "    <tr>\n",
              "      <th>195</th>\n",
              "      <td>None</td>\n",
              "      <td>NaN</td>\n",
              "      <td>NaN</td>\n",
              "      <td>NaN</td>\n",
              "      <td>NaN</td>\n",
              "      <td>NaN</td>\n",
              "      <td>Dominica</td>\n",
              "      <td>85</td>\n",
              "    </tr>\n",
              "    <tr>\n",
              "      <th>196</th>\n",
              "      <td>None</td>\n",
              "      <td>NaN</td>\n",
              "      <td>NaN</td>\n",
              "      <td>NaN</td>\n",
              "      <td>NaN</td>\n",
              "      <td>NaN</td>\n",
              "      <td>St. Vincent Grenadines</td>\n",
              "      <td>85</td>\n",
              "    </tr>\n",
              "    <tr>\n",
              "      <th>197</th>\n",
              "      <td>MULTIPOLYGON (((180.00000 -16.06713, 180.00000...</td>\n",
              "      <td>Fiji</td>\n",
              "      <td>Oceania</td>\n",
              "      <td>FJI</td>\n",
              "      <td>Fiji</td>\n",
              "      <td>42.0</td>\n",
              "      <td>Fiji</td>\n",
              "      <td>42</td>\n",
              "    </tr>\n",
              "    <tr>\n",
              "      <th>198</th>\n",
              "      <td>None</td>\n",
              "      <td>NaN</td>\n",
              "      <td>NaN</td>\n",
              "      <td>NaN</td>\n",
              "      <td>NaN</td>\n",
              "      <td>NaN</td>\n",
              "      <td>Grenada</td>\n",
              "      <td>41</td>\n",
              "    </tr>\n",
              "    <tr>\n",
              "      <th>199</th>\n",
              "      <td>POLYGON ((107.38273 14.20244, 106.49637 14.570...</td>\n",
              "      <td>Laos</td>\n",
              "      <td>Asia</td>\n",
              "      <td>LAO</td>\n",
              "      <td>Laos</td>\n",
              "      <td>39.0</td>\n",
              "      <td>Laos</td>\n",
              "      <td>39</td>\n",
              "    </tr>\n",
              "    <tr>\n",
              "      <th>200</th>\n",
              "      <td>POLYGON ((165.77999 -21.08000, 166.59999 -21.7...</td>\n",
              "      <td>New Caledonia</td>\n",
              "      <td>Oceania</td>\n",
              "      <td>NCL</td>\n",
              "      <td>New Caledonia</td>\n",
              "      <td>33.0</td>\n",
              "      <td>New Caledonia</td>\n",
              "      <td>33</td>\n",
              "    </tr>\n",
              "    <tr>\n",
              "      <th>201</th>\n",
              "      <td>POLYGON ((124.96868 -8.89279, 125.08625 -8.656...</td>\n",
              "      <td>Timor-Leste</td>\n",
              "      <td>Asia</td>\n",
              "      <td>TLS</td>\n",
              "      <td>Timor-Leste</td>\n",
              "      <td>31.0</td>\n",
              "      <td>Timor-Leste</td>\n",
              "      <td>31</td>\n",
              "    </tr>\n",
              "  </tbody>\n",
              "</table>\n",
              "</div>"
            ],
            "text/plain": [
              "                                              geometry  ... Covid_num_y\n",
              "155                                               None  ...        2658\n",
              "156  POLYGON ((-16.67745 12.38485, -16.14772 12.547...  ...        2441\n",
              "157  POLYGON ((-13.24655 8.90305, -12.71196 9.34271...  ...        2416\n",
              "158  POLYGON ((52.00001 19.00000, 52.78218 17.34974...  ...        2217\n",
              "159  POLYGON ((28.97826 -28.95560, 29.32517 -29.257...  ...        2142\n",
              "160  MULTIPOLYGON (((176.88582 -40.06598, 176.50802...  ...        2069\n",
              "161  POLYGON ((23.83766 19.58047, 23.88689 15.61084...  ...        1705\n",
              "162                                               None  ...        1687\n",
              "163  POLYGON ((14.85130 22.86295, 15.09689 21.30852...  ...        1640\n",
              "164  POLYGON ((-8.43930 7.68604, -8.48545 7.39521, ...  ...        1595\n",
              "165                                               None  ...        1397\n",
              "166  POLYGON ((104.33433 10.48654, 105.19991 10.889...  ...        1361\n",
              "167                                               None  ...        1318\n",
              "168                                               None  ...        1092\n",
              "169                                               None  ...        1038\n",
              "170                                               None  ...         997\n",
              "171  POLYGON ((87.75126 49.29720, 88.80557 49.47052...  ...         819\n",
              "172                                               None  ...         751\n",
              "173                                               None  ...         717\n",
              "174                                               None  ...         712\n",
              "175  POLYGON ((30.46967 -2.41385, 30.52766 -2.80762...  ...         689\n",
              "176  POLYGON ((121.77782 24.39427, 121.17563 22.790...  ...         686\n",
              "177  MULTIPOLYGON (((141.00021 -2.60015, 142.73525 ...  ...         669\n",
              "178                                               None  ...         621\n",
              "179                                               None  ...         613\n",
              "180  POLYGON ((36.42951 14.42211, 36.32322 14.82249...  ...         577\n",
              "181  POLYGON ((33.90371 -0.95000, 34.07262 -1.05982...  ...         509\n",
              "182                                               None  ...         508\n",
              "183                                               None  ...         503\n",
              "184  POLYGON ((91.69666 27.77174, 92.10371 27.45261...  ...         415\n",
              "185  POLYGON ((102.58493 12.18659, 102.34810 13.394...  ...         331\n",
              "186                                               None  ...         285\n",
              "187                                               None  ...         279\n",
              "188                                               None  ...         267\n",
              "189                                               None  ...         261\n",
              "190                                               None  ...         183\n",
              "191                                               None  ...         162\n",
              "192                                               None  ...         151\n",
              "193                                               None  ...         147\n",
              "194                                               None  ...         144\n",
              "195                                               None  ...          85\n",
              "196                                               None  ...          85\n",
              "197  MULTIPOLYGON (((180.00000 -16.06713, 180.00000...  ...          42\n",
              "198                                               None  ...          41\n",
              "199  POLYGON ((107.38273 14.20244, 106.49637 14.570...  ...          39\n",
              "200  POLYGON ((165.77999 -21.08000, 166.59999 -21.7...  ...          33\n",
              "201  POLYGON ((124.96868 -8.89279, 125.08625 -8.656...  ...          31\n",
              "\n",
              "[47 rows x 8 columns]"
            ]
          },
          "metadata": {
            "tags": []
          },
          "execution_count": 28
        }
      ]
    },
    {
      "cell_type": "code",
      "metadata": {
        "id": "_IHl8kA_JWKB"
      },
      "source": [
        "#For attribute join about Africa only\n",
        "#table-1\n",
        "country_shapes = world[['geometry', 'name', 'continent']]\n",
        "country_shapes_africa= country_shapes[(country_shapes.continent == \"Africa\")]\n",
        "#table-2\n",
        "Covid_final\n",
        "#Merging table-1 and table-2\n",
        "country_shapes_africa = country_shapes_africa.merge(Covid_final, left_on='name',right_on='Country')"
      ],
      "execution_count": null,
      "outputs": []
    },
    {
      "cell_type": "code",
      "metadata": {
        "id": "BrtKT91XOeBs",
        "colab": {
          "base_uri": "https://localhost:8080/",
          "height": 609
        },
        "outputId": "e34c8e99-e2ea-4ce3-d967-19f25d8d96a2"
      },
      "source": [
        "country_shapes_africa.plot('Covid_num', legend=True, cmap='PuRd', figsize=(15,10), edgecolor='black')"
      ],
      "execution_count": null,
      "outputs": [
        {
          "output_type": "execute_result",
          "data": {
            "text/plain": [
              "<matplotlib.axes._subplots.AxesSubplot at 0x7f17e6e2cac8>"
            ]
          },
          "metadata": {
            "tags": []
          },
          "execution_count": 30
        },
        {
          "output_type": "display_data",
          "data": {
            "image/png": "[encoded data removed]",
            "text/plain": [
              "<Figure size 1080x720 with 2 Axes>"
            ]
          },
          "metadata": {
            "tags": [],
            "needs_background": "light"
          }
        }
      ]
    }
  ]
}
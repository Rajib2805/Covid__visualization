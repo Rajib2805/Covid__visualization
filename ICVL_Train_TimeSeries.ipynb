{
  "nbformat": 4,
  "nbformat_minor": 0,
  "metadata": {
    "colab": {
      "name": "ICVL_Train_TimeSeries.ipynb",
      "provenance": [],
      "collapsed_sections": [],
      "mount_file_id": "1s3xtcmPtToqc-U9ZFkMKOcJ9727Y3Lbe",
      "authorship_tag": "ABX9TyOhHC56Zzzscy+OYPeyqIfC",
      "include_colab_link": true
    },
    "kernelspec": {
      "name": "python3",
      "display_name": "Python 3"
    }
  },
  "cells": [
    {
      "cell_type": "markdown",
      "metadata": {
        "id": "view-in-github",
        "colab_type": "text"
      },
      "source": [
        "<a href=\"https://colab.research.google.com/github/Rajib2805/Covid__visualization/blob/main/ICVL_Train_TimeSeries.ipynb\" target=\"_parent\"><img src=\"https://colab.research.google.com/assets/colab-badge.svg\" alt=\"Open In Colab\"/></a>"
      ]
    },
    {
      "cell_type": "markdown",
      "metadata": {
        "id": "0yAQkOkhTk16"
      },
      "source": [
        "**TIME SERIES PREDICTION OF NUMBER OF TRAINS ARRIVING AT THE PORT**"
      ]
    },
    {
      "cell_type": "code",
      "metadata": {
        "id": "R_O0PVpZKY8d"
      },
      "source": [
        "import pandas as pd\n",
        "import numpy as np\n",
        "import matplotlib.pyplot as plt"
      ],
      "execution_count": 203,
      "outputs": []
    },
    {
      "cell_type": "code",
      "metadata": {
        "id": "7yfAxK_QS6gR"
      },
      "source": [
        "target= pd.read_excel('/content/drive/MyDrive/TrainICVL.xlsx')"
      ],
      "execution_count": 204,
      "outputs": []
    },
    {
      "cell_type": "code",
      "metadata": {
        "colab": {
          "base_uri": "https://localhost:8080/",
          "height": 400
        },
        "id": "jhs7-EIHTZ-I",
        "outputId": "5eea5d0e-ebb2-411b-8e07-761fa1bfb9ef"
      },
      "source": [
        "target.head()"
      ],
      "execution_count": 205,
      "outputs": [
        {
          "output_type": "execute_result",
          "data": {
            "text/html": [
              "<div>\n",
              "<style scoped>\n",
              "    .dataframe tbody tr th:only-of-type {\n",
              "        vertical-align: middle;\n",
              "    }\n",
              "\n",
              "    .dataframe tbody tr th {\n",
              "        vertical-align: top;\n",
              "    }\n",
              "\n",
              "    .dataframe thead th {\n",
              "        text-align: right;\n",
              "    }\n",
              "</style>\n",
              "<table border=\"1\" class=\"dataframe\">\n",
              "  <thead>\n",
              "    <tr style=\"text-align: right;\">\n",
              "      <th></th>\n",
              "      <th>TrainSlNo</th>\n",
              "      <th>Date of Despatch from Rail Siding Tete</th>\n",
              "      <th>TrainNo</th>\n",
              "      <th>Product</th>\n",
              "      <th>Depatched from Rail_Siding_Tete</th>\n",
              "      <th>Quantity Despatched as per Rail Siding Tete report</th>\n",
              "      <th>Arrival at Beira</th>\n",
              "      <th>Date of arrival at Beira</th>\n",
              "      <th>Quantity Received as per Beira report</th>\n",
              "      <th>RailNomenclature</th>\n",
              "      <th>Nectar RailNo</th>\n",
              "      <th>Remarks</th>\n",
              "      <th>CFMBIll_Unclaimed</th>\n",
              "      <th>OtherVendor_Weight</th>\n",
              "      <th>NectarWt</th>\n",
              "    </tr>\n",
              "  </thead>\n",
              "  <tbody>\n",
              "    <tr>\n",
              "      <th>0</th>\n",
              "      <td>999001</td>\n",
              "      <td>2018-01-01</td>\n",
              "      <td>NaN</td>\n",
              "      <td>CC</td>\n",
              "      <td>True</td>\n",
              "      <td>3415612.0</td>\n",
              "      <td>True</td>\n",
              "      <td>2018-01-01</td>\n",
              "      <td>3415612.0</td>\n",
              "      <td>NaN</td>\n",
              "      <td>NaN</td>\n",
              "      <td>NaN</td>\n",
              "      <td>True</td>\n",
              "      <td>NaN</td>\n",
              "      <td>NaN</td>\n",
              "    </tr>\n",
              "    <tr>\n",
              "      <th>1</th>\n",
              "      <td>999002</td>\n",
              "      <td>2018-01-01</td>\n",
              "      <td>NaN</td>\n",
              "      <td>TC</td>\n",
              "      <td>True</td>\n",
              "      <td>670298.0</td>\n",
              "      <td>True</td>\n",
              "      <td>2018-01-01</td>\n",
              "      <td>670298.0</td>\n",
              "      <td>NaN</td>\n",
              "      <td>NaN</td>\n",
              "      <td>NaN</td>\n",
              "      <td>True</td>\n",
              "      <td>NaN</td>\n",
              "      <td>NaN</td>\n",
              "    </tr>\n",
              "    <tr>\n",
              "      <th>2</th>\n",
              "      <td>111001</td>\n",
              "      <td>2018-01-03</td>\n",
              "      <td>820.0</td>\n",
              "      <td>TC</td>\n",
              "      <td>True</td>\n",
              "      <td>3042.0</td>\n",
              "      <td>True</td>\n",
              "      <td>2018-01-03</td>\n",
              "      <td>3042.0</td>\n",
              "      <td>NaN</td>\n",
              "      <td>11001.0</td>\n",
              "      <td>NaN</td>\n",
              "      <td>True</td>\n",
              "      <td>NaN</td>\n",
              "      <td>NaN</td>\n",
              "    </tr>\n",
              "    <tr>\n",
              "      <th>3</th>\n",
              "      <td>111002</td>\n",
              "      <td>2018-01-03</td>\n",
              "      <td>822.0</td>\n",
              "      <td>TC</td>\n",
              "      <td>True</td>\n",
              "      <td>2936.0</td>\n",
              "      <td>True</td>\n",
              "      <td>2018-01-03</td>\n",
              "      <td>2936.0</td>\n",
              "      <td>NaN</td>\n",
              "      <td>11002.0</td>\n",
              "      <td>NaN</td>\n",
              "      <td>True</td>\n",
              "      <td>NaN</td>\n",
              "      <td>NaN</td>\n",
              "    </tr>\n",
              "    <tr>\n",
              "      <th>4</th>\n",
              "      <td>111003</td>\n",
              "      <td>2018-01-04</td>\n",
              "      <td>830.0</td>\n",
              "      <td>TC</td>\n",
              "      <td>True</td>\n",
              "      <td>2969.0</td>\n",
              "      <td>True</td>\n",
              "      <td>2018-01-04</td>\n",
              "      <td>2969.0</td>\n",
              "      <td>NaN</td>\n",
              "      <td>11003.0</td>\n",
              "      <td>NaN</td>\n",
              "      <td>True</td>\n",
              "      <td>NaN</td>\n",
              "      <td>NaN</td>\n",
              "    </tr>\n",
              "  </tbody>\n",
              "</table>\n",
              "</div>"
            ],
            "text/plain": [
              "   TrainSlNo  ... NectarWt\n",
              "0     999001  ...      NaN\n",
              "1     999002  ...      NaN\n",
              "2     111001  ...      NaN\n",
              "3     111002  ...      NaN\n",
              "4     111003  ...      NaN\n",
              "\n",
              "[5 rows x 15 columns]"
            ]
          },
          "metadata": {
            "tags": []
          },
          "execution_count": 205
        }
      ]
    },
    {
      "cell_type": "code",
      "metadata": {
        "colab": {
          "base_uri": "https://localhost:8080/",
          "height": 402
        },
        "id": "eKmwYPKvT9IJ",
        "outputId": "80bc1f54-dca5-4245-f9d5-342268ae1e6b"
      },
      "source": [
        "target= target[['TrainSlNo', 'Date of Despatch from Rail Siding Tete']]\n",
        "target['date']= pd.DatetimeIndex(target['Date of Despatch from Rail Siding Tete']).day\n",
        "target['month']= pd.DatetimeIndex(target['Date of Despatch from Rail Siding Tete']).month\n",
        "target['year']= pd.DatetimeIndex(target['Date of Despatch from Rail Siding Tete']).year\n",
        "target"
      ],
      "execution_count": 206,
      "outputs": [
        {
          "output_type": "execute_result",
          "data": {
            "text/html": [
              "<div>\n",
              "<style scoped>\n",
              "    .dataframe tbody tr th:only-of-type {\n",
              "        vertical-align: middle;\n",
              "    }\n",
              "\n",
              "    .dataframe tbody tr th {\n",
              "        vertical-align: top;\n",
              "    }\n",
              "\n",
              "    .dataframe thead th {\n",
              "        text-align: right;\n",
              "    }\n",
              "</style>\n",
              "<table border=\"1\" class=\"dataframe\">\n",
              "  <thead>\n",
              "    <tr style=\"text-align: right;\">\n",
              "      <th></th>\n",
              "      <th>TrainSlNo</th>\n",
              "      <th>Date of Despatch from Rail Siding Tete</th>\n",
              "      <th>date</th>\n",
              "      <th>month</th>\n",
              "      <th>year</th>\n",
              "    </tr>\n",
              "  </thead>\n",
              "  <tbody>\n",
              "    <tr>\n",
              "      <th>0</th>\n",
              "      <td>999001</td>\n",
              "      <td>2018-01-01</td>\n",
              "      <td>1</td>\n",
              "      <td>1</td>\n",
              "      <td>2018</td>\n",
              "    </tr>\n",
              "    <tr>\n",
              "      <th>1</th>\n",
              "      <td>999002</td>\n",
              "      <td>2018-01-01</td>\n",
              "      <td>1</td>\n",
              "      <td>1</td>\n",
              "      <td>2018</td>\n",
              "    </tr>\n",
              "    <tr>\n",
              "      <th>2</th>\n",
              "      <td>111001</td>\n",
              "      <td>2018-01-03</td>\n",
              "      <td>3</td>\n",
              "      <td>1</td>\n",
              "      <td>2018</td>\n",
              "    </tr>\n",
              "    <tr>\n",
              "      <th>3</th>\n",
              "      <td>111002</td>\n",
              "      <td>2018-01-03</td>\n",
              "      <td>3</td>\n",
              "      <td>1</td>\n",
              "      <td>2018</td>\n",
              "    </tr>\n",
              "    <tr>\n",
              "      <th>4</th>\n",
              "      <td>111003</td>\n",
              "      <td>2018-01-04</td>\n",
              "      <td>4</td>\n",
              "      <td>1</td>\n",
              "      <td>2018</td>\n",
              "    </tr>\n",
              "    <tr>\n",
              "      <th>...</th>\n",
              "      <td>...</td>\n",
              "      <td>...</td>\n",
              "      <td>...</td>\n",
              "      <td>...</td>\n",
              "      <td>...</td>\n",
              "    </tr>\n",
              "    <tr>\n",
              "      <th>1782</th>\n",
              "      <td>1086</td>\n",
              "      <td>2021-03-23</td>\n",
              "      <td>23</td>\n",
              "      <td>3</td>\n",
              "      <td>2021</td>\n",
              "    </tr>\n",
              "    <tr>\n",
              "      <th>1783</th>\n",
              "      <td>1087</td>\n",
              "      <td>2021-03-23</td>\n",
              "      <td>23</td>\n",
              "      <td>3</td>\n",
              "      <td>2021</td>\n",
              "    </tr>\n",
              "    <tr>\n",
              "      <th>1784</th>\n",
              "      <td>1088</td>\n",
              "      <td>2021-03-24</td>\n",
              "      <td>24</td>\n",
              "      <td>3</td>\n",
              "      <td>2021</td>\n",
              "    </tr>\n",
              "    <tr>\n",
              "      <th>1785</th>\n",
              "      <td>1089</td>\n",
              "      <td>2021-03-24</td>\n",
              "      <td>24</td>\n",
              "      <td>3</td>\n",
              "      <td>2021</td>\n",
              "    </tr>\n",
              "    <tr>\n",
              "      <th>1786</th>\n",
              "      <td>1090</td>\n",
              "      <td>2021-03-25</td>\n",
              "      <td>25</td>\n",
              "      <td>3</td>\n",
              "      <td>2021</td>\n",
              "    </tr>\n",
              "  </tbody>\n",
              "</table>\n",
              "<p>1787 rows × 5 columns</p>\n",
              "</div>"
            ],
            "text/plain": [
              "      TrainSlNo Date of Despatch from Rail Siding Tete  date  month  year\n",
              "0        999001                             2018-01-01     1      1  2018\n",
              "1        999002                             2018-01-01     1      1  2018\n",
              "2        111001                             2018-01-03     3      1  2018\n",
              "3        111002                             2018-01-03     3      1  2018\n",
              "4        111003                             2018-01-04     4      1  2018\n",
              "...         ...                                    ...   ...    ...   ...\n",
              "1782       1086                             2021-03-23    23      3  2021\n",
              "1783       1087                             2021-03-23    23      3  2021\n",
              "1784       1088                             2021-03-24    24      3  2021\n",
              "1785       1089                             2021-03-24    24      3  2021\n",
              "1786       1090                             2021-03-25    25      3  2021\n",
              "\n",
              "[1787 rows x 5 columns]"
            ]
          },
          "metadata": {
            "tags": []
          },
          "execution_count": 206
        }
      ]
    },
    {
      "cell_type": "code",
      "metadata": {
        "colab": {
          "base_uri": "https://localhost:8080/"
        },
        "id": "kS7CkxVJcI33",
        "outputId": "828777f8-0a92-42ed-b610-53a42265fc61"
      },
      "source": [
        "target.dtypes"
      ],
      "execution_count": 207,
      "outputs": [
        {
          "output_type": "execute_result",
          "data": {
            "text/plain": [
              "TrainSlNo                                          int64\n",
              "Date of Despatch from Rail Siding Tete    datetime64[ns]\n",
              "date                                               int64\n",
              "month                                              int64\n",
              "year                                               int64\n",
              "dtype: object"
            ]
          },
          "metadata": {
            "tags": []
          },
          "execution_count": 207
        }
      ]
    },
    {
      "cell_type": "code",
      "metadata": {
        "colab": {
          "base_uri": "https://localhost:8080/",
          "height": 402
        },
        "id": "5Wf2rLh7g-p1",
        "outputId": "55e60167-5bbe-460d-b23a-35faf69caaeb"
      },
      "source": [
        "target= target[target['TrainSlNo'] < 999000]\n",
        "target"
      ],
      "execution_count": 208,
      "outputs": [
        {
          "output_type": "execute_result",
          "data": {
            "text/html": [
              "<div>\n",
              "<style scoped>\n",
              "    .dataframe tbody tr th:only-of-type {\n",
              "        vertical-align: middle;\n",
              "    }\n",
              "\n",
              "    .dataframe tbody tr th {\n",
              "        vertical-align: top;\n",
              "    }\n",
              "\n",
              "    .dataframe thead th {\n",
              "        text-align: right;\n",
              "    }\n",
              "</style>\n",
              "<table border=\"1\" class=\"dataframe\">\n",
              "  <thead>\n",
              "    <tr style=\"text-align: right;\">\n",
              "      <th></th>\n",
              "      <th>TrainSlNo</th>\n",
              "      <th>Date of Despatch from Rail Siding Tete</th>\n",
              "      <th>date</th>\n",
              "      <th>month</th>\n",
              "      <th>year</th>\n",
              "    </tr>\n",
              "  </thead>\n",
              "  <tbody>\n",
              "    <tr>\n",
              "      <th>2</th>\n",
              "      <td>111001</td>\n",
              "      <td>2018-01-03</td>\n",
              "      <td>3</td>\n",
              "      <td>1</td>\n",
              "      <td>2018</td>\n",
              "    </tr>\n",
              "    <tr>\n",
              "      <th>3</th>\n",
              "      <td>111002</td>\n",
              "      <td>2018-01-03</td>\n",
              "      <td>3</td>\n",
              "      <td>1</td>\n",
              "      <td>2018</td>\n",
              "    </tr>\n",
              "    <tr>\n",
              "      <th>4</th>\n",
              "      <td>111003</td>\n",
              "      <td>2018-01-04</td>\n",
              "      <td>4</td>\n",
              "      <td>1</td>\n",
              "      <td>2018</td>\n",
              "    </tr>\n",
              "    <tr>\n",
              "      <th>5</th>\n",
              "      <td>111004</td>\n",
              "      <td>2018-01-04</td>\n",
              "      <td>4</td>\n",
              "      <td>1</td>\n",
              "      <td>2018</td>\n",
              "    </tr>\n",
              "    <tr>\n",
              "      <th>6</th>\n",
              "      <td>111005</td>\n",
              "      <td>2018-01-05</td>\n",
              "      <td>5</td>\n",
              "      <td>1</td>\n",
              "      <td>2018</td>\n",
              "    </tr>\n",
              "    <tr>\n",
              "      <th>...</th>\n",
              "      <td>...</td>\n",
              "      <td>...</td>\n",
              "      <td>...</td>\n",
              "      <td>...</td>\n",
              "      <td>...</td>\n",
              "    </tr>\n",
              "    <tr>\n",
              "      <th>1782</th>\n",
              "      <td>1086</td>\n",
              "      <td>2021-03-23</td>\n",
              "      <td>23</td>\n",
              "      <td>3</td>\n",
              "      <td>2021</td>\n",
              "    </tr>\n",
              "    <tr>\n",
              "      <th>1783</th>\n",
              "      <td>1087</td>\n",
              "      <td>2021-03-23</td>\n",
              "      <td>23</td>\n",
              "      <td>3</td>\n",
              "      <td>2021</td>\n",
              "    </tr>\n",
              "    <tr>\n",
              "      <th>1784</th>\n",
              "      <td>1088</td>\n",
              "      <td>2021-03-24</td>\n",
              "      <td>24</td>\n",
              "      <td>3</td>\n",
              "      <td>2021</td>\n",
              "    </tr>\n",
              "    <tr>\n",
              "      <th>1785</th>\n",
              "      <td>1089</td>\n",
              "      <td>2021-03-24</td>\n",
              "      <td>24</td>\n",
              "      <td>3</td>\n",
              "      <td>2021</td>\n",
              "    </tr>\n",
              "    <tr>\n",
              "      <th>1786</th>\n",
              "      <td>1090</td>\n",
              "      <td>2021-03-25</td>\n",
              "      <td>25</td>\n",
              "      <td>3</td>\n",
              "      <td>2021</td>\n",
              "    </tr>\n",
              "  </tbody>\n",
              "</table>\n",
              "<p>1733 rows × 5 columns</p>\n",
              "</div>"
            ],
            "text/plain": [
              "      TrainSlNo Date of Despatch from Rail Siding Tete  date  month  year\n",
              "2        111001                             2018-01-03     3      1  2018\n",
              "3        111002                             2018-01-03     3      1  2018\n",
              "4        111003                             2018-01-04     4      1  2018\n",
              "5        111004                             2018-01-04     4      1  2018\n",
              "6        111005                             2018-01-05     5      1  2018\n",
              "...         ...                                    ...   ...    ...   ...\n",
              "1782       1086                             2021-03-23    23      3  2021\n",
              "1783       1087                             2021-03-23    23      3  2021\n",
              "1784       1088                             2021-03-24    24      3  2021\n",
              "1785       1089                             2021-03-24    24      3  2021\n",
              "1786       1090                             2021-03-25    25      3  2021\n",
              "\n",
              "[1733 rows x 5 columns]"
            ]
          },
          "metadata": {
            "tags": []
          },
          "execution_count": 208
        }
      ]
    },
    {
      "cell_type": "code",
      "metadata": {
        "id": "2dwCR4BhRvxe",
        "colab": {
          "base_uri": "https://localhost:8080/"
        },
        "outputId": "9bb7c941-3a76-462a-8c8f-e9b41ea8050a"
      },
      "source": [
        "target['TrainCount']= 1"
      ],
      "execution_count": 209,
      "outputs": [
        {
          "output_type": "stream",
          "text": [
            "/usr/local/lib/python3.7/dist-packages/ipykernel_launcher.py:1: SettingWithCopyWarning: \n",
            "A value is trying to be set on a copy of a slice from a DataFrame.\n",
            "Try using .loc[row_indexer,col_indexer] = value instead\n",
            "\n",
            "See the caveats in the documentation: https://pandas.pydata.org/pandas-docs/stable/user_guide/indexing.html#returning-a-view-versus-a-copy\n",
            "  \"\"\"Entry point for launching an IPython kernel.\n"
          ],
          "name": "stderr"
        }
      ]
    },
    {
      "cell_type": "code",
      "metadata": {
        "colab": {
          "base_uri": "https://localhost:8080/",
          "height": 195
        },
        "id": "qqte1W3jWIcx",
        "outputId": "3ae6e42d-96f6-447a-9831-c0e9b9f81923"
      },
      "source": [
        "target.head()"
      ],
      "execution_count": 210,
      "outputs": [
        {
          "output_type": "execute_result",
          "data": {
            "text/html": [
              "<div>\n",
              "<style scoped>\n",
              "    .dataframe tbody tr th:only-of-type {\n",
              "        vertical-align: middle;\n",
              "    }\n",
              "\n",
              "    .dataframe tbody tr th {\n",
              "        vertical-align: top;\n",
              "    }\n",
              "\n",
              "    .dataframe thead th {\n",
              "        text-align: right;\n",
              "    }\n",
              "</style>\n",
              "<table border=\"1\" class=\"dataframe\">\n",
              "  <thead>\n",
              "    <tr style=\"text-align: right;\">\n",
              "      <th></th>\n",
              "      <th>TrainSlNo</th>\n",
              "      <th>Date of Despatch from Rail Siding Tete</th>\n",
              "      <th>date</th>\n",
              "      <th>month</th>\n",
              "      <th>year</th>\n",
              "      <th>TrainCount</th>\n",
              "    </tr>\n",
              "  </thead>\n",
              "  <tbody>\n",
              "    <tr>\n",
              "      <th>2</th>\n",
              "      <td>111001</td>\n",
              "      <td>2018-01-03</td>\n",
              "      <td>3</td>\n",
              "      <td>1</td>\n",
              "      <td>2018</td>\n",
              "      <td>1</td>\n",
              "    </tr>\n",
              "    <tr>\n",
              "      <th>3</th>\n",
              "      <td>111002</td>\n",
              "      <td>2018-01-03</td>\n",
              "      <td>3</td>\n",
              "      <td>1</td>\n",
              "      <td>2018</td>\n",
              "      <td>1</td>\n",
              "    </tr>\n",
              "    <tr>\n",
              "      <th>4</th>\n",
              "      <td>111003</td>\n",
              "      <td>2018-01-04</td>\n",
              "      <td>4</td>\n",
              "      <td>1</td>\n",
              "      <td>2018</td>\n",
              "      <td>1</td>\n",
              "    </tr>\n",
              "    <tr>\n",
              "      <th>5</th>\n",
              "      <td>111004</td>\n",
              "      <td>2018-01-04</td>\n",
              "      <td>4</td>\n",
              "      <td>1</td>\n",
              "      <td>2018</td>\n",
              "      <td>1</td>\n",
              "    </tr>\n",
              "    <tr>\n",
              "      <th>6</th>\n",
              "      <td>111005</td>\n",
              "      <td>2018-01-05</td>\n",
              "      <td>5</td>\n",
              "      <td>1</td>\n",
              "      <td>2018</td>\n",
              "      <td>1</td>\n",
              "    </tr>\n",
              "  </tbody>\n",
              "</table>\n",
              "</div>"
            ],
            "text/plain": [
              "   TrainSlNo Date of Despatch from Rail Siding Tete  ...  year  TrainCount\n",
              "2     111001                             2018-01-03  ...  2018           1\n",
              "3     111002                             2018-01-03  ...  2018           1\n",
              "4     111003                             2018-01-04  ...  2018           1\n",
              "5     111004                             2018-01-04  ...  2018           1\n",
              "6     111005                             2018-01-05  ...  2018           1\n",
              "\n",
              "[5 rows x 6 columns]"
            ]
          },
          "metadata": {
            "tags": []
          },
          "execution_count": 210
        }
      ]
    },
    {
      "cell_type": "code",
      "metadata": {
        "colab": {
          "base_uri": "https://localhost:8080/",
          "height": 195
        },
        "id": "_nmQ49nY7sU2",
        "outputId": "0c1326d0-87a1-4965-ce71-0d2942d394c5"
      },
      "source": [
        "target= target[['Date of Despatch from Rail Siding Tete', 'TrainCount']]\n",
        "target.head()"
      ],
      "execution_count": 211,
      "outputs": [
        {
          "output_type": "execute_result",
          "data": {
            "text/html": [
              "<div>\n",
              "<style scoped>\n",
              "    .dataframe tbody tr th:only-of-type {\n",
              "        vertical-align: middle;\n",
              "    }\n",
              "\n",
              "    .dataframe tbody tr th {\n",
              "        vertical-align: top;\n",
              "    }\n",
              "\n",
              "    .dataframe thead th {\n",
              "        text-align: right;\n",
              "    }\n",
              "</style>\n",
              "<table border=\"1\" class=\"dataframe\">\n",
              "  <thead>\n",
              "    <tr style=\"text-align: right;\">\n",
              "      <th></th>\n",
              "      <th>Date of Despatch from Rail Siding Tete</th>\n",
              "      <th>TrainCount</th>\n",
              "    </tr>\n",
              "  </thead>\n",
              "  <tbody>\n",
              "    <tr>\n",
              "      <th>2</th>\n",
              "      <td>2018-01-03</td>\n",
              "      <td>1</td>\n",
              "    </tr>\n",
              "    <tr>\n",
              "      <th>3</th>\n",
              "      <td>2018-01-03</td>\n",
              "      <td>1</td>\n",
              "    </tr>\n",
              "    <tr>\n",
              "      <th>4</th>\n",
              "      <td>2018-01-04</td>\n",
              "      <td>1</td>\n",
              "    </tr>\n",
              "    <tr>\n",
              "      <th>5</th>\n",
              "      <td>2018-01-04</td>\n",
              "      <td>1</td>\n",
              "    </tr>\n",
              "    <tr>\n",
              "      <th>6</th>\n",
              "      <td>2018-01-05</td>\n",
              "      <td>1</td>\n",
              "    </tr>\n",
              "  </tbody>\n",
              "</table>\n",
              "</div>"
            ],
            "text/plain": [
              "  Date of Despatch from Rail Siding Tete  TrainCount\n",
              "2                             2018-01-03           1\n",
              "3                             2018-01-03           1\n",
              "4                             2018-01-04           1\n",
              "5                             2018-01-04           1\n",
              "6                             2018-01-05           1"
            ]
          },
          "metadata": {
            "tags": []
          },
          "execution_count": 211
        }
      ]
    },
    {
      "cell_type": "code",
      "metadata": {
        "colab": {
          "base_uri": "https://localhost:8080/",
          "height": 225
        },
        "id": "7WkV3p1MeqCy",
        "outputId": "612181ad-d9be-44c7-ad55-37cc32871002"
      },
      "source": [
        "target= target.groupby(['Date of Despatch from Rail Siding Tete']).sum()\n",
        "target.head()\n"
      ],
      "execution_count": 212,
      "outputs": [
        {
          "output_type": "execute_result",
          "data": {
            "text/html": [
              "<div>\n",
              "<style scoped>\n",
              "    .dataframe tbody tr th:only-of-type {\n",
              "        vertical-align: middle;\n",
              "    }\n",
              "\n",
              "    .dataframe tbody tr th {\n",
              "        vertical-align: top;\n",
              "    }\n",
              "\n",
              "    .dataframe thead th {\n",
              "        text-align: right;\n",
              "    }\n",
              "</style>\n",
              "<table border=\"1\" class=\"dataframe\">\n",
              "  <thead>\n",
              "    <tr style=\"text-align: right;\">\n",
              "      <th></th>\n",
              "      <th>TrainCount</th>\n",
              "    </tr>\n",
              "    <tr>\n",
              "      <th>Date of Despatch from Rail Siding Tete</th>\n",
              "      <th></th>\n",
              "    </tr>\n",
              "  </thead>\n",
              "  <tbody>\n",
              "    <tr>\n",
              "      <th>2018-01-03</th>\n",
              "      <td>2</td>\n",
              "    </tr>\n",
              "    <tr>\n",
              "      <th>2018-01-04</th>\n",
              "      <td>2</td>\n",
              "    </tr>\n",
              "    <tr>\n",
              "      <th>2018-01-05</th>\n",
              "      <td>1</td>\n",
              "    </tr>\n",
              "    <tr>\n",
              "      <th>2018-01-06</th>\n",
              "      <td>2</td>\n",
              "    </tr>\n",
              "    <tr>\n",
              "      <th>2018-01-07</th>\n",
              "      <td>2</td>\n",
              "    </tr>\n",
              "  </tbody>\n",
              "</table>\n",
              "</div>"
            ],
            "text/plain": [
              "                                        TrainCount\n",
              "Date of Despatch from Rail Siding Tete            \n",
              "2018-01-03                                       2\n",
              "2018-01-04                                       2\n",
              "2018-01-05                                       1\n",
              "2018-01-06                                       2\n",
              "2018-01-07                                       2"
            ]
          },
          "metadata": {
            "tags": []
          },
          "execution_count": 212
        }
      ]
    },
    {
      "cell_type": "code",
      "metadata": {
        "colab": {
          "base_uri": "https://localhost:8080/",
          "height": 402
        },
        "id": "niDKqLp6fYpK",
        "outputId": "a60672e9-e96b-4244-ebf0-115485ce24ac"
      },
      "source": [
        "target= target.reset_index()\n",
        "target"
      ],
      "execution_count": 213,
      "outputs": [
        {
          "output_type": "execute_result",
          "data": {
            "text/html": [
              "<div>\n",
              "<style scoped>\n",
              "    .dataframe tbody tr th:only-of-type {\n",
              "        vertical-align: middle;\n",
              "    }\n",
              "\n",
              "    .dataframe tbody tr th {\n",
              "        vertical-align: top;\n",
              "    }\n",
              "\n",
              "    .dataframe thead th {\n",
              "        text-align: right;\n",
              "    }\n",
              "</style>\n",
              "<table border=\"1\" class=\"dataframe\">\n",
              "  <thead>\n",
              "    <tr style=\"text-align: right;\">\n",
              "      <th></th>\n",
              "      <th>Date of Despatch from Rail Siding Tete</th>\n",
              "      <th>TrainCount</th>\n",
              "    </tr>\n",
              "  </thead>\n",
              "  <tbody>\n",
              "    <tr>\n",
              "      <th>0</th>\n",
              "      <td>2018-01-03</td>\n",
              "      <td>2</td>\n",
              "    </tr>\n",
              "    <tr>\n",
              "      <th>1</th>\n",
              "      <td>2018-01-04</td>\n",
              "      <td>2</td>\n",
              "    </tr>\n",
              "    <tr>\n",
              "      <th>2</th>\n",
              "      <td>2018-01-05</td>\n",
              "      <td>1</td>\n",
              "    </tr>\n",
              "    <tr>\n",
              "      <th>3</th>\n",
              "      <td>2018-01-06</td>\n",
              "      <td>2</td>\n",
              "    </tr>\n",
              "    <tr>\n",
              "      <th>4</th>\n",
              "      <td>2018-01-07</td>\n",
              "      <td>2</td>\n",
              "    </tr>\n",
              "    <tr>\n",
              "      <th>...</th>\n",
              "      <td>...</td>\n",
              "      <td>...</td>\n",
              "    </tr>\n",
              "    <tr>\n",
              "      <th>885</th>\n",
              "      <td>2021-03-21</td>\n",
              "      <td>2</td>\n",
              "    </tr>\n",
              "    <tr>\n",
              "      <th>886</th>\n",
              "      <td>2021-03-22</td>\n",
              "      <td>1</td>\n",
              "    </tr>\n",
              "    <tr>\n",
              "      <th>887</th>\n",
              "      <td>2021-03-23</td>\n",
              "      <td>2</td>\n",
              "    </tr>\n",
              "    <tr>\n",
              "      <th>888</th>\n",
              "      <td>2021-03-24</td>\n",
              "      <td>2</td>\n",
              "    </tr>\n",
              "    <tr>\n",
              "      <th>889</th>\n",
              "      <td>2021-03-25</td>\n",
              "      <td>1</td>\n",
              "    </tr>\n",
              "  </tbody>\n",
              "</table>\n",
              "<p>890 rows × 2 columns</p>\n",
              "</div>"
            ],
            "text/plain": [
              "    Date of Despatch from Rail Siding Tete  TrainCount\n",
              "0                               2018-01-03           2\n",
              "1                               2018-01-04           2\n",
              "2                               2018-01-05           1\n",
              "3                               2018-01-06           2\n",
              "4                               2018-01-07           2\n",
              "..                                     ...         ...\n",
              "885                             2021-03-21           2\n",
              "886                             2021-03-22           1\n",
              "887                             2021-03-23           2\n",
              "888                             2021-03-24           2\n",
              "889                             2021-03-25           1\n",
              "\n",
              "[890 rows x 2 columns]"
            ]
          },
          "metadata": {
            "tags": []
          },
          "execution_count": 213
        }
      ]
    },
    {
      "cell_type": "code",
      "metadata": {
        "id": "H6npAgFNEDQy"
      },
      "source": [
        "target['cumsum'] = target.groupby([target['Date of Despatch from Rail Siding Tete'].dt.month,\n",
        "                           target['Date of Despatch from Rail Siding Tete'].dt.year])['TrainCount'].cumsum()"
      ],
      "execution_count": 214,
      "outputs": []
    },
    {
      "cell_type": "code",
      "metadata": {
        "colab": {
          "base_uri": "https://localhost:8080/",
          "height": 195
        },
        "id": "OgYLztfGjKkT",
        "outputId": "9e244189-8dcb-4d5a-90e2-0e5ac078fa03"
      },
      "source": [
        "target.tail(5)"
      ],
      "execution_count": 215,
      "outputs": [
        {
          "output_type": "execute_result",
          "data": {
            "text/html": [
              "<div>\n",
              "<style scoped>\n",
              "    .dataframe tbody tr th:only-of-type {\n",
              "        vertical-align: middle;\n",
              "    }\n",
              "\n",
              "    .dataframe tbody tr th {\n",
              "        vertical-align: top;\n",
              "    }\n",
              "\n",
              "    .dataframe thead th {\n",
              "        text-align: right;\n",
              "    }\n",
              "</style>\n",
              "<table border=\"1\" class=\"dataframe\">\n",
              "  <thead>\n",
              "    <tr style=\"text-align: right;\">\n",
              "      <th></th>\n",
              "      <th>Date of Despatch from Rail Siding Tete</th>\n",
              "      <th>TrainCount</th>\n",
              "      <th>cumsum</th>\n",
              "    </tr>\n",
              "  </thead>\n",
              "  <tbody>\n",
              "    <tr>\n",
              "      <th>885</th>\n",
              "      <td>2021-03-21</td>\n",
              "      <td>2</td>\n",
              "      <td>28</td>\n",
              "    </tr>\n",
              "    <tr>\n",
              "      <th>886</th>\n",
              "      <td>2021-03-22</td>\n",
              "      <td>1</td>\n",
              "      <td>29</td>\n",
              "    </tr>\n",
              "    <tr>\n",
              "      <th>887</th>\n",
              "      <td>2021-03-23</td>\n",
              "      <td>2</td>\n",
              "      <td>31</td>\n",
              "    </tr>\n",
              "    <tr>\n",
              "      <th>888</th>\n",
              "      <td>2021-03-24</td>\n",
              "      <td>2</td>\n",
              "      <td>33</td>\n",
              "    </tr>\n",
              "    <tr>\n",
              "      <th>889</th>\n",
              "      <td>2021-03-25</td>\n",
              "      <td>1</td>\n",
              "      <td>34</td>\n",
              "    </tr>\n",
              "  </tbody>\n",
              "</table>\n",
              "</div>"
            ],
            "text/plain": [
              "    Date of Despatch from Rail Siding Tete  TrainCount  cumsum\n",
              "885                             2021-03-21           2      28\n",
              "886                             2021-03-22           1      29\n",
              "887                             2021-03-23           2      31\n",
              "888                             2021-03-24           2      33\n",
              "889                             2021-03-25           1      34"
            ]
          },
          "metadata": {
            "tags": []
          },
          "execution_count": 215
        }
      ]
    },
    {
      "cell_type": "code",
      "metadata": {
        "id": "YbYwe9VxbWnh",
        "colab": {
          "base_uri": "https://localhost:8080/",
          "height": 466
        },
        "outputId": "159c6e0a-7fa6-4012-d57b-1134d04667fa"
      },
      "source": [
        "import seaborn as sns\n",
        "sns.relplot(x='Date of Despatch from Rail Siding Tete', y='cumsum', kind= 'line', data= target, color='green')\n",
        "plt.xticks(rotation=70)"
      ],
      "execution_count": 216,
      "outputs": [
        {
          "output_type": "execute_result",
          "data": {
            "text/plain": [
              "(array([736695., 736815., 736938., 737060., 737180., 737303., 737425.,\n",
              "        737546., 737669., 737791., 737911.]),\n",
              " <a list of 11 Text major ticklabel objects>)"
            ]
          },
          "metadata": {
            "tags": []
          },
          "execution_count": 216
        },
        {
          "output_type": "display_data",
          "data": {
            "image/png": "[encoded data removed]",
            "text/plain": [
              "<Figure size 360x360 with 1 Axes>"
            ]
          },
          "metadata": {
            "tags": [],
            "needs_background": "light"
          }
        }
      ]
    },
    {
      "cell_type": "code",
      "metadata": {
        "id": "mj0dHBc8mexe",
        "colab": {
          "base_uri": "https://localhost:8080/",
          "height": 195
        },
        "outputId": "d7487f90-7161-4028-cd85-dea1eba95c47"
      },
      "source": [
        "#selecting only the fields which are relevant for our time-series forecasting analysis\n",
        "temp_df= target[['Date of Despatch from Rail Siding Tete', 'TrainCount' ]]\n",
        "temp_df.head()"
      ],
      "execution_count": 217,
      "outputs": [
        {
          "output_type": "execute_result",
          "data": {
            "text/html": [
              "<div>\n",
              "<style scoped>\n",
              "    .dataframe tbody tr th:only-of-type {\n",
              "        vertical-align: middle;\n",
              "    }\n",
              "\n",
              "    .dataframe tbody tr th {\n",
              "        vertical-align: top;\n",
              "    }\n",
              "\n",
              "    .dataframe thead th {\n",
              "        text-align: right;\n",
              "    }\n",
              "</style>\n",
              "<table border=\"1\" class=\"dataframe\">\n",
              "  <thead>\n",
              "    <tr style=\"text-align: right;\">\n",
              "      <th></th>\n",
              "      <th>Date of Despatch from Rail Siding Tete</th>\n",
              "      <th>TrainCount</th>\n",
              "    </tr>\n",
              "  </thead>\n",
              "  <tbody>\n",
              "    <tr>\n",
              "      <th>0</th>\n",
              "      <td>2018-01-03</td>\n",
              "      <td>2</td>\n",
              "    </tr>\n",
              "    <tr>\n",
              "      <th>1</th>\n",
              "      <td>2018-01-04</td>\n",
              "      <td>2</td>\n",
              "    </tr>\n",
              "    <tr>\n",
              "      <th>2</th>\n",
              "      <td>2018-01-05</td>\n",
              "      <td>1</td>\n",
              "    </tr>\n",
              "    <tr>\n",
              "      <th>3</th>\n",
              "      <td>2018-01-06</td>\n",
              "      <td>2</td>\n",
              "    </tr>\n",
              "    <tr>\n",
              "      <th>4</th>\n",
              "      <td>2018-01-07</td>\n",
              "      <td>2</td>\n",
              "    </tr>\n",
              "  </tbody>\n",
              "</table>\n",
              "</div>"
            ],
            "text/plain": [
              "  Date of Despatch from Rail Siding Tete  TrainCount\n",
              "0                             2018-01-03           2\n",
              "1                             2018-01-04           2\n",
              "2                             2018-01-05           1\n",
              "3                             2018-01-06           2\n",
              "4                             2018-01-07           2"
            ]
          },
          "metadata": {
            "tags": []
          },
          "execution_count": 217
        }
      ]
    },
    {
      "cell_type": "markdown",
      "metadata": {
        "id": "rbhxEPa3mwW1"
      },
      "source": [
        " However, using the past train data for as far as 2018 might not be a good indicator for today’s train data, as there have been other recent factors that should be taken into account, for example, the gradually changig logistic events due to condition in the line.\n",
        "\n",
        "Thus, to have a possibly better analysis and forecast result because of the understanding of recent influential factors, we would take only a subset of data from 2019 to 2021:"
      ]
    },
    {
      "cell_type": "code",
      "metadata": {
        "id": "__JgcFk3m6nJ",
        "colab": {
          "base_uri": "https://localhost:8080/"
        },
        "outputId": "5e44d365-70c5-4a48-b0db-03b608b9fee8"
      },
      "source": [
        "#taking the data from 2019 to 2021 only which is relevant for our analysis\n",
        "mask= (target['Date of Despatch from Rail Siding Tete'] >= '2019-01-01')\n",
        "\n",
        "\"\"\"\n",
        "# Not Using the end date parameter. Can use it if required\n",
        "\n",
        " & (target['Date of Despatch from Rail Siding Tete'] <='2021-02-28')\n",
        "\n",
        "\"\"\"\n",
        "mask"
      ],
      "execution_count": 218,
      "outputs": [
        {
          "output_type": "execute_result",
          "data": {
            "text/plain": [
              "0      False\n",
              "1      False\n",
              "2      False\n",
              "3      False\n",
              "4      False\n",
              "       ...  \n",
              "885     True\n",
              "886     True\n",
              "887     True\n",
              "888     True\n",
              "889     True\n",
              "Name: Date of Despatch from Rail Siding Tete, Length: 890, dtype: bool"
            ]
          },
          "metadata": {
            "tags": []
          },
          "execution_count": 218
        }
      ]
    },
    {
      "cell_type": "code",
      "metadata": {
        "id": "wi0VdlblpJZU",
        "colab": {
          "base_uri": "https://localhost:8080/",
          "height": 402
        },
        "outputId": "73419c46-d5cc-46e4-a6c4-514a95c84dee"
      },
      "source": [
        "temp_df= temp_df.loc[mask]\n",
        "temp_df"
      ],
      "execution_count": 219,
      "outputs": [
        {
          "output_type": "execute_result",
          "data": {
            "text/html": [
              "<div>\n",
              "<style scoped>\n",
              "    .dataframe tbody tr th:only-of-type {\n",
              "        vertical-align: middle;\n",
              "    }\n",
              "\n",
              "    .dataframe tbody tr th {\n",
              "        vertical-align: top;\n",
              "    }\n",
              "\n",
              "    .dataframe thead th {\n",
              "        text-align: right;\n",
              "    }\n",
              "</style>\n",
              "<table border=\"1\" class=\"dataframe\">\n",
              "  <thead>\n",
              "    <tr style=\"text-align: right;\">\n",
              "      <th></th>\n",
              "      <th>Date of Despatch from Rail Siding Tete</th>\n",
              "      <th>TrainCount</th>\n",
              "    </tr>\n",
              "  </thead>\n",
              "  <tbody>\n",
              "    <tr>\n",
              "      <th>237</th>\n",
              "      <td>2019-01-02</td>\n",
              "      <td>3</td>\n",
              "    </tr>\n",
              "    <tr>\n",
              "      <th>238</th>\n",
              "      <td>2019-01-03</td>\n",
              "      <td>2</td>\n",
              "    </tr>\n",
              "    <tr>\n",
              "      <th>239</th>\n",
              "      <td>2019-01-05</td>\n",
              "      <td>2</td>\n",
              "    </tr>\n",
              "    <tr>\n",
              "      <th>240</th>\n",
              "      <td>2019-01-06</td>\n",
              "      <td>3</td>\n",
              "    </tr>\n",
              "    <tr>\n",
              "      <th>241</th>\n",
              "      <td>2019-01-07</td>\n",
              "      <td>1</td>\n",
              "    </tr>\n",
              "    <tr>\n",
              "      <th>...</th>\n",
              "      <td>...</td>\n",
              "      <td>...</td>\n",
              "    </tr>\n",
              "    <tr>\n",
              "      <th>885</th>\n",
              "      <td>2021-03-21</td>\n",
              "      <td>2</td>\n",
              "    </tr>\n",
              "    <tr>\n",
              "      <th>886</th>\n",
              "      <td>2021-03-22</td>\n",
              "      <td>1</td>\n",
              "    </tr>\n",
              "    <tr>\n",
              "      <th>887</th>\n",
              "      <td>2021-03-23</td>\n",
              "      <td>2</td>\n",
              "    </tr>\n",
              "    <tr>\n",
              "      <th>888</th>\n",
              "      <td>2021-03-24</td>\n",
              "      <td>2</td>\n",
              "    </tr>\n",
              "    <tr>\n",
              "      <th>889</th>\n",
              "      <td>2021-03-25</td>\n",
              "      <td>1</td>\n",
              "    </tr>\n",
              "  </tbody>\n",
              "</table>\n",
              "<p>653 rows × 2 columns</p>\n",
              "</div>"
            ],
            "text/plain": [
              "    Date of Despatch from Rail Siding Tete  TrainCount\n",
              "237                             2019-01-02           3\n",
              "238                             2019-01-03           2\n",
              "239                             2019-01-05           2\n",
              "240                             2019-01-06           3\n",
              "241                             2019-01-07           1\n",
              "..                                     ...         ...\n",
              "885                             2021-03-21           2\n",
              "886                             2021-03-22           1\n",
              "887                             2021-03-23           2\n",
              "888                             2021-03-24           2\n",
              "889                             2021-03-25           1\n",
              "\n",
              "[653 rows x 2 columns]"
            ]
          },
          "metadata": {
            "tags": []
          },
          "execution_count": 219
        }
      ]
    },
    {
      "cell_type": "code",
      "metadata": {
        "id": "SlRZNHiVpTa0"
      },
      "source": [
        "#reset the index (because time series analysis can only be done when the datefield is in an ordered index)\n",
        "temp_df.set_index('Date of Despatch from Rail Siding Tete', inplace=True)"
      ],
      "execution_count": 220,
      "outputs": []
    },
    {
      "cell_type": "code",
      "metadata": {
        "colab": {
          "base_uri": "https://localhost:8080/",
          "height": 373
        },
        "id": "Z-mP97DSqvrg",
        "outputId": "1a2a7f8e-d0ad-4075-a8f0-c13fced38b6d"
      },
      "source": [
        "temp_df.tail(10)"
      ],
      "execution_count": 221,
      "outputs": [
        {
          "output_type": "execute_result",
          "data": {
            "text/html": [
              "<div>\n",
              "<style scoped>\n",
              "    .dataframe tbody tr th:only-of-type {\n",
              "        vertical-align: middle;\n",
              "    }\n",
              "\n",
              "    .dataframe tbody tr th {\n",
              "        vertical-align: top;\n",
              "    }\n",
              "\n",
              "    .dataframe thead th {\n",
              "        text-align: right;\n",
              "    }\n",
              "</style>\n",
              "<table border=\"1\" class=\"dataframe\">\n",
              "  <thead>\n",
              "    <tr style=\"text-align: right;\">\n",
              "      <th></th>\n",
              "      <th>TrainCount</th>\n",
              "    </tr>\n",
              "    <tr>\n",
              "      <th>Date of Despatch from Rail Siding Tete</th>\n",
              "      <th></th>\n",
              "    </tr>\n",
              "  </thead>\n",
              "  <tbody>\n",
              "    <tr>\n",
              "      <th>2021-03-16</th>\n",
              "      <td>1</td>\n",
              "    </tr>\n",
              "    <tr>\n",
              "      <th>2021-03-17</th>\n",
              "      <td>2</td>\n",
              "    </tr>\n",
              "    <tr>\n",
              "      <th>2021-03-18</th>\n",
              "      <td>2</td>\n",
              "    </tr>\n",
              "    <tr>\n",
              "      <th>2021-03-19</th>\n",
              "      <td>1</td>\n",
              "    </tr>\n",
              "    <tr>\n",
              "      <th>2021-03-20</th>\n",
              "      <td>2</td>\n",
              "    </tr>\n",
              "    <tr>\n",
              "      <th>2021-03-21</th>\n",
              "      <td>2</td>\n",
              "    </tr>\n",
              "    <tr>\n",
              "      <th>2021-03-22</th>\n",
              "      <td>1</td>\n",
              "    </tr>\n",
              "    <tr>\n",
              "      <th>2021-03-23</th>\n",
              "      <td>2</td>\n",
              "    </tr>\n",
              "    <tr>\n",
              "      <th>2021-03-24</th>\n",
              "      <td>2</td>\n",
              "    </tr>\n",
              "    <tr>\n",
              "      <th>2021-03-25</th>\n",
              "      <td>1</td>\n",
              "    </tr>\n",
              "  </tbody>\n",
              "</table>\n",
              "</div>"
            ],
            "text/plain": [
              "                                        TrainCount\n",
              "Date of Despatch from Rail Siding Tete            \n",
              "2021-03-16                                       1\n",
              "2021-03-17                                       2\n",
              "2021-03-18                                       2\n",
              "2021-03-19                                       1\n",
              "2021-03-20                                       2\n",
              "2021-03-21                                       2\n",
              "2021-03-22                                       1\n",
              "2021-03-23                                       2\n",
              "2021-03-24                                       2\n",
              "2021-03-25                                       1"
            ]
          },
          "metadata": {
            "tags": []
          },
          "execution_count": 221
        }
      ]
    },
    {
      "cell_type": "code",
      "metadata": {
        "id": "WP03ZjLLErsy"
      },
      "source": [
        "temp_df.index = temp_df.index.to_period('D')"
      ],
      "execution_count": 222,
      "outputs": []
    },
    {
      "cell_type": "code",
      "metadata": {
        "id": "46k1Svzw5OIT",
        "colab": {
          "base_uri": "https://localhost:8080/",
          "height": 417
        },
        "outputId": "77db801f-c3bc-44ef-ad3c-5c6eb385823d"
      },
      "source": [
        "#Making 2-day moving avarage to make the data cleaner and less noisy\n",
        "temp_df_mean= temp_df.rolling(window=2).mean()\n",
        "temp_df_mean.plot(figsize=(12,6), color='brown')"
      ],
      "execution_count": 223,
      "outputs": [
        {
          "output_type": "execute_result",
          "data": {
            "text/plain": [
              "<matplotlib.axes._subplots.AxesSubplot at 0x7f0327f03e10>"
            ]
          },
          "metadata": {
            "tags": []
          },
          "execution_count": 223
        },
        {
          "output_type": "display_data",
          "data": {
            "image/png": "[encoded data removed]",
            "text/plain": [
              "<Figure size 864x432 with 1 Axes>"
            ]
          },
          "metadata": {
            "tags": [],
            "needs_background": "light"
          }
        }
      ]
    },
    {
      "cell_type": "code",
      "metadata": {
        "id": "H21aE_3v0XfP"
      },
      "source": [
        "temp_df_mean= temp_df_mean.dropna()"
      ],
      "execution_count": 224,
      "outputs": []
    },
    {
      "cell_type": "code",
      "metadata": {
        "colab": {
          "base_uri": "https://localhost:8080/",
          "height": 225
        },
        "id": "CzZFXVZ2kysP",
        "outputId": "65f5020b-472c-45ea-cdb4-0a6ecb3a66f8"
      },
      "source": [
        "temp_df_mean.head()"
      ],
      "execution_count": 225,
      "outputs": [
        {
          "output_type": "execute_result",
          "data": {
            "text/html": [
              "<div>\n",
              "<style scoped>\n",
              "    .dataframe tbody tr th:only-of-type {\n",
              "        vertical-align: middle;\n",
              "    }\n",
              "\n",
              "    .dataframe tbody tr th {\n",
              "        vertical-align: top;\n",
              "    }\n",
              "\n",
              "    .dataframe thead th {\n",
              "        text-align: right;\n",
              "    }\n",
              "</style>\n",
              "<table border=\"1\" class=\"dataframe\">\n",
              "  <thead>\n",
              "    <tr style=\"text-align: right;\">\n",
              "      <th></th>\n",
              "      <th>TrainCount</th>\n",
              "    </tr>\n",
              "    <tr>\n",
              "      <th>Date of Despatch from Rail Siding Tete</th>\n",
              "      <th></th>\n",
              "    </tr>\n",
              "  </thead>\n",
              "  <tbody>\n",
              "    <tr>\n",
              "      <th>2019-01-03</th>\n",
              "      <td>2.5</td>\n",
              "    </tr>\n",
              "    <tr>\n",
              "      <th>2019-01-05</th>\n",
              "      <td>2.0</td>\n",
              "    </tr>\n",
              "    <tr>\n",
              "      <th>2019-01-06</th>\n",
              "      <td>2.5</td>\n",
              "    </tr>\n",
              "    <tr>\n",
              "      <th>2019-01-07</th>\n",
              "      <td>2.0</td>\n",
              "    </tr>\n",
              "    <tr>\n",
              "      <th>2019-01-08</th>\n",
              "      <td>1.0</td>\n",
              "    </tr>\n",
              "  </tbody>\n",
              "</table>\n",
              "</div>"
            ],
            "text/plain": [
              "                                        TrainCount\n",
              "Date of Despatch from Rail Siding Tete            \n",
              "2019-01-03                                     2.5\n",
              "2019-01-05                                     2.0\n",
              "2019-01-06                                     2.5\n",
              "2019-01-07                                     2.0\n",
              "2019-01-08                                     1.0"
            ]
          },
          "metadata": {
            "tags": []
          },
          "execution_count": 225
        }
      ]
    },
    {
      "cell_type": "code",
      "metadata": {
        "colab": {
          "base_uri": "https://localhost:8080/"
        },
        "id": "LrDshS2ccqmA",
        "outputId": "409ae455-0005-4499-f93f-b2b348afda77"
      },
      "source": [
        "#Augmented Dickey Fuller Test to check stationarity of data\n",
        "from statsmodels.tsa.stattools import adfuller\n",
        "def adf_test(dataset):\n",
        "     dftest = adfuller(dataset, autolag = 'AIC')\n",
        "     print(\"1. ADF : \",dftest[0])\n",
        "     print(\"2. P-Value : \", dftest[1])\n",
        "     print(\"3. Num Of Lags : \", dftest[2])\n",
        "     print(\"4. Num Of Observations Used For ADF Regression:\",      dftest[3])\n",
        "     print(\"5. Critical Values :\")\n",
        "     for key, val in dftest[4].items():\n",
        "         print(\"\\t\",key, \": \", val)\n",
        "adf_test(temp_df_mean['TrainCount'])"
      ],
      "execution_count": 226,
      "outputs": [
        {
          "output_type": "stream",
          "text": [
            "1. ADF :  -4.67045420301453\n",
            "2. P-Value :  9.559125070674559e-05\n",
            "3. Num Of Lags :  19\n",
            "4. Num Of Observations Used For ADF Regression: 632\n",
            "5. Critical Values :\n",
            "\t 1% :  -3.4407393338535655\n",
            "\t 5% :  -2.8661240183725325\n",
            "\t 10% :  -2.5692112098421727\n"
          ],
          "name": "stdout"
        }
      ]
    },
    {
      "cell_type": "markdown",
      "metadata": {
        "id": "PqC0sO_TdPTT"
      },
      "source": [
        "Since the p value above is less than 0.05, we can take that the data is stationary."
      ]
    },
    {
      "cell_type": "code",
      "metadata": {
        "colab": {
          "base_uri": "https://localhost:8080/",
          "height": 52
        },
        "id": "qKFZSOpNeJil",
        "outputId": "ac4e7085-8a14-41ff-a6e2-86f60ed46b0b"
      },
      "source": [
        "\"\"\"\n",
        "#Find out the best value of p, d and q for ARIMA model\n",
        "!pip install pmdarima\n",
        "from pmdarima import auto_arima\n",
        "stepwise_fit = auto_arima(temp_df_mean['TrainCount'], trace=True,\n",
        "suppress_warnings=True)\n",
        "\"\"\""
      ],
      "execution_count": 227,
      "outputs": [
        {
          "output_type": "execute_result",
          "data": {
            "application/vnd.google.colaboratory.intrinsic+json": {
              "type": "string"
            },
            "text/plain": [
              "\"\\n#Find out the best value of p, d and q for ARIMA model\\n!pip install pmdarima\\nfrom pmdarima import auto_arima\\nstepwise_fit = auto_arima(temp_df_mean['TrainCount'], trace=True,\\nsuppress_warnings=True)\\n\""
            ]
          },
          "metadata": {
            "tags": []
          },
          "execution_count": 227
        }
      ]
    },
    {
      "cell_type": "code",
      "metadata": {
        "id": "KjbD0hLGkyy7"
      },
      "source": [
        "# create a running differenced series for 1 day running difference\n",
        "import numpy as np\n",
        "def difference(dataset, interval=1):\n",
        " diff = list()\n",
        " for i in range(interval, len(dataset)):\n",
        "    value = dataset[i] - dataset[i - interval]\n",
        "    diff.append(value)\n",
        " return np.array(diff)\n",
        "\n",
        "# calling the above function for 365 day running seasonal difference\n",
        "differenced = difference(temp_df_mean.values, 365)"
      ],
      "execution_count": 228,
      "outputs": []
    },
    {
      "cell_type": "code",
      "metadata": {
        "id": "SelrYvBKky5T",
        "colab": {
          "base_uri": "https://localhost:8080/"
        },
        "outputId": "5c937895-3179-4979-d31e-05bf02e1300a"
      },
      "source": [
        "# fit the ARIMA model\n",
        "from statsmodels.tsa.arima_model import ARIMA\n",
        "model = ARIMA(differenced, order=(5,0,0))\n",
        "model_fit = model.fit()\n",
        "\n",
        "# print summary of fit model\n",
        "print(model_fit.summary())"
      ],
      "execution_count": 229,
      "outputs": [
        {
          "output_type": "stream",
          "text": [
            "                              ARMA Model Results                              \n",
            "==============================================================================\n",
            "Dep. Variable:                      y   No. Observations:                  287\n",
            "Model:                     ARMA(5, 0)   Log Likelihood                -224.472\n",
            "Method:                       css-mle   S.D. of innovations              0.528\n",
            "Date:                Thu, 25 Mar 2021   AIC                            462.945\n",
            "Time:                        10:17:32   BIC                            488.561\n",
            "Sample:                             0   HQIC                           473.212\n",
            "                                                                              \n",
            "==============================================================================\n",
            "                 coef    std err          z      P>|z|      [0.025      0.975]\n",
            "------------------------------------------------------------------------------\n",
            "const          0.0222      0.059      0.380      0.704      -0.093       0.137\n",
            "ar.L1.y        0.5199      0.058      8.908      0.000       0.405       0.634\n",
            "ar.L2.y       -0.4540      0.065     -7.025      0.000      -0.581      -0.327\n",
            "ar.L3.y        0.4492      0.065      6.926      0.000       0.322       0.576\n",
            "ar.L4.y       -0.2327      0.065     -3.601      0.000      -0.359      -0.106\n",
            "ar.L5.y        0.1880      0.059      3.206      0.002       0.073       0.303\n",
            "                                    Roots                                    \n",
            "=============================================================================\n",
            "                  Real          Imaginary           Modulus         Frequency\n",
            "-----------------------------------------------------------------------------\n",
            "AR.1           -0.6423           -1.1447j            1.3126           -0.3314\n",
            "AR.2           -0.6423           +1.1447j            1.3126            0.3314\n",
            "AR.3            1.3302           -0.0000j            1.3302           -0.0000\n",
            "AR.4            0.5960           -1.4019j            1.5233           -0.1860\n",
            "AR.5            0.5960           +1.4019j            1.5233            0.1860\n",
            "-----------------------------------------------------------------------------\n"
          ],
          "name": "stdout"
        }
      ]
    },
    {
      "cell_type": "code",
      "metadata": {
        "id": "EgJelJPoky71"
      },
      "source": [
        "# invert the differenced forecast to the original form\n",
        "def inverse_difference(history, yhat, interval=1):\n",
        " return yhat + history[-interval]"
      ],
      "execution_count": 230,
      "outputs": []
    },
    {
      "cell_type": "markdown",
      "metadata": {
        "id": "rDsWEgtDa6hN"
      },
      "source": [
        "**FORECAST FOR THE NEXT DAY**"
      ]
    },
    {
      "cell_type": "markdown",
      "metadata": {
        "id": "HTT47WDRPR6R"
      },
      "source": [
        "Making one step out of forecast with forecast function\n",
        "\n",
        "ARIMA models are great for one-step forecasts.\n",
        "\n",
        "A one-step forecast is a forecast of the very next time step in the sequence from the available data used to fit the model."
      ]
    },
    {
      "cell_type": "code",
      "metadata": {
        "colab": {
          "base_uri": "https://localhost:8080/"
        },
        "id": "VFlAEIpLRGkC",
        "outputId": "de8064cf-0aaf-4773-886e-cd80c83c0be5"
      },
      "source": [
        "# one-step out-of sample forecast i.e forecast for the next day\n",
        "X = temp_df_mean.values\n",
        "forecast = model_fit.forecast()[0] #zero means the forecast for the first value\n",
        "forecast = inverse_difference(X, forecast, 365)\n",
        "print('Forecast: %f' % forecast)"
      ],
      "execution_count": 231,
      "outputs": [
        {
          "output_type": "stream",
          "text": [
            "Forecast: 1.527265\n"
          ],
          "name": "stdout"
        }
      ]
    },
    {
      "cell_type": "code",
      "metadata": {
        "colab": {
          "base_uri": "https://localhost:8080/"
        },
        "id": "VRDhAo8z7Ad_",
        "outputId": "747f687d-74fc-40de-eaae-8f9c48891c53"
      },
      "source": [
        "#Check the accuracy metric\n",
        "\n",
        "\"\"\"\n",
        "Since we are taking all values of the dataframe for prediction, we cannot technically \n",
        "use the accuracy metric\n",
        "\n",
        "\"\"\"\n",
        "from sklearn.metrics import mean_squared_error\n",
        "from math import sqrt\n",
        "rmse=sqrt(mean_squared_error(forecast,X[-1]))\n",
        "print(rmse)"
      ],
      "execution_count": 232,
      "outputs": [
        {
          "output_type": "stream",
          "text": [
            "0.027265080012626397\n"
          ],
          "name": "stdout"
        }
      ]
    },
    {
      "cell_type": "markdown",
      "metadata": {
        "id": "nAZXEhzmRyRt"
      },
      "source": [
        "Predict Function:\n",
        "\n",
        "The statsmodel ARIMAResults object also provides a predict() function for making forecasts.\n",
        "\n",
        "The predict function can be used to predict arbitrary in-sample and out-of-sample time steps, including the next out-of-sample forecast time step.\n",
        "\n",
        "The predict function requires a start and an end to be specified, these can be the indexes of the time steps relative to the beginning of the training data used to fit the model."
      ]
    },
    {
      "cell_type": "code",
      "metadata": {
        "colab": {
          "base_uri": "https://localhost:8080/"
        },
        "id": "C-PPyT0VQtsk",
        "outputId": "2eda96c9-8dca-4bc5-c8be-4a8ecd221709"
      },
      "source": [
        "# one-step out of sample forecast\n",
        "from pandas import datetime\n",
        "start_index = len(differenced)\n",
        "end_index = len(differenced)\n",
        "\n",
        "forecast = model_fit.predict(start=start_index, end=end_index)\n",
        "print('Forecast: %f' % forecast)"
      ],
      "execution_count": 233,
      "outputs": [
        {
          "output_type": "stream",
          "text": [
            "Forecast: -0.472735\n"
          ],
          "name": "stdout"
        },
        {
          "output_type": "stream",
          "text": [
            "/usr/local/lib/python3.7/dist-packages/ipykernel_launcher.py:2: FutureWarning: The pandas.datetime class is deprecated and will be removed from pandas in a future version. Import from datetime module instead.\n",
            "  \n"
          ],
          "name": "stderr"
        }
      ]
    },
    {
      "cell_type": "code",
      "metadata": {
        "colab": {
          "base_uri": "https://localhost:8080/"
        },
        "id": "DglI0CumfQWy",
        "outputId": "3a2e2795-3b59-4b63-8eea-8b4866ccbed3"
      },
      "source": [
        "#Finding today is which day\n",
        "import datetime\n",
        "last_data_date = target['Date of Despatch from Rail Siding Tete'].max()\n",
        "last_day= last_data_date.day\n",
        "\n",
        "\n",
        "#Number of days in the running month\n",
        "import calendar\n",
        "year = last_data_date.year\n",
        "month= last_data_date.month\n",
        "days_in_month= calendar.monthrange(year, month)[1]\n",
        "\n",
        "#Number of days remaining in the month\n",
        "diff = days_in_month - last_day\n",
        "print(diff)"
      ],
      "execution_count": 234,
      "outputs": [
        {
          "output_type": "stream",
          "text": [
            "6\n"
          ],
          "name": "stdout"
        }
      ]
    },
    {
      "cell_type": "markdown",
      "metadata": {
        "id": "2YJFFXOZbKr-"
      },
      "source": [
        "**MULTI STEP FORECAST**"
      ]
    },
    {
      "cell_type": "markdown",
      "metadata": {
        "id": "cc-If6SIepe0"
      },
      "source": [
        "**FORECAST FUNCTION**"
      ]
    },
    {
      "cell_type": "code",
      "metadata": {
        "id": "S0eEdnrsVOGF"
      },
      "source": [
        "# With forecast function (multi-step out-of-sample forecast)\n",
        "forecast = model_fit.forecast(steps=diff)[0]"
      ],
      "execution_count": 235,
      "outputs": []
    },
    {
      "cell_type": "code",
      "metadata": {
        "colab": {
          "base_uri": "https://localhost:8080/"
        },
        "id": "7QRZtcBH93Sv",
        "outputId": "0ea0f361-f983-4d39-c8a5-48d62f025ec3"
      },
      "source": [
        "import datetime\n",
        "#get current time\n",
        "d = datetime.datetime.now()\n",
        "print(d)\n",
        "\n",
        "#get month name short version\n",
        "print(d.strftime(\"%b\"))"
      ],
      "execution_count": 236,
      "outputs": [
        {
          "output_type": "stream",
          "text": [
            "2021-03-25 10:17:32.688509\n",
            "Mar\n"
          ],
          "name": "stdout"
        }
      ]
    },
    {
      "cell_type": "code",
      "metadata": {
        "colab": {
          "base_uri": "https://localhost:8080/"
        },
        "id": "CmB5GpaXbzYk",
        "outputId": "28e3ca50-ca82-4a61-aec1-554957e34059"
      },
      "source": [
        "# invert the differenced forecast to something usable\n",
        "X = temp_df_mean.values\n",
        "sum=0\n",
        "history = [x for x in X]\n",
        "day = last_day + 1\n",
        "for yhat in forecast:\n",
        " inverted = inverse_difference(history, yhat, 365)\n",
        " print('%s %d: %.1f' % (d.strftime(\"%b\"), day, inverted)) # % s is placeholder for string, %d for number/integer, %f float\n",
        " history.append(inverted)\n",
        " sum=sum+inverted\n",
        " day= day+1"
      ],
      "execution_count": 237,
      "outputs": [
        {
          "output_type": "stream",
          "text": [
            "Mar 26: 1.5\n",
            "Mar 27: 1.1\n",
            "Mar 28: 2.0\n",
            "Mar 29: 1.8\n",
            "Mar 30: 1.0\n",
            "Mar 31: 2.0\n"
          ],
          "name": "stdout"
        }
      ]
    },
    {
      "cell_type": "code",
      "metadata": {
        "colab": {
          "base_uri": "https://localhost:8080/"
        },
        "id": "PiDGlpIMOpXG",
        "outputId": "5a30b0ad-4101-48ab-effe-3595a0a00e2a"
      },
      "source": [
        "#The sum is coming in decimal. We convert it to integer\n",
        "print(int(sum))"
      ],
      "execution_count": 238,
      "outputs": [
        {
          "output_type": "stream",
          "text": [
            "9\n"
          ],
          "name": "stdout"
        }
      ]
    },
    {
      "cell_type": "markdown",
      "metadata": {
        "id": "H01KIu5LcHvX"
      },
      "source": [
        "**PREDICT FUNCTION:**\n",
        "\n",
        "The predict() function can also forecast the next 7 out-of-sample time steps.\n",
        "\n",
        "Using time step indexes, we can specify the end index as 6 more time steps in the future; for example:"
      ]
    },
    {
      "cell_type": "code",
      "metadata": {
        "id": "Ilo6NnaPck4k"
      },
      "source": [
        "# multi-step out-of-sample forecast\n",
        "start_index= last_day\n",
        "end_index = days_in_month-1\n",
        "forecast = model_fit.predict(start=start_index, end=end_index)"
      ],
      "execution_count": 239,
      "outputs": []
    },
    {
      "cell_type": "code",
      "metadata": {
        "colab": {
          "base_uri": "https://localhost:8080/"
        },
        "id": "PL4IPFMTmZtL",
        "outputId": "eda8a47e-250b-445d-f84a-e91a57511c19"
      },
      "source": [
        "#The sum is coming in decimal, We convert it to integer\n",
        "print(int(sum))"
      ],
      "execution_count": 240,
      "outputs": [
        {
          "output_type": "stream",
          "text": [
            "9\n"
          ],
          "name": "stdout"
        }
      ]
    },
    {
      "cell_type": "code",
      "metadata": {
        "colab": {
          "base_uri": "https://localhost:8080/"
        },
        "id": "PFS_HMOgKcew",
        "outputId": "0d4a9149-0376-4f26-943f-48bc849d2c58"
      },
      "source": [
        "#Finding the first day of the current month\n",
        "import datetime\n",
        "date = datetime.date.today().replace(day=1)\n",
        "print(date)\n",
        "\n",
        "#Finding the dataframe for the data imported for the current month (first day of the month to the data import day)\n",
        "start_date = datetime.date.today().replace(day=1)\n",
        "end_date = datetime.date.today()\n",
        "mask = (target['Date of Despatch from Rail Siding Tete'] >= pd.to_datetime(start_date)) & (target['Date of Despatch from Rail Siding Tete'] <= pd.to_datetime(end_date))\n",
        "df = target.loc[mask]"
      ],
      "execution_count": 241,
      "outputs": [
        {
          "output_type": "stream",
          "text": [
            "2021-03-01\n"
          ],
          "name": "stdout"
        }
      ]
    },
    {
      "cell_type": "code",
      "metadata": {
        "colab": {
          "base_uri": "https://localhost:8080/"
        },
        "id": "j4T7aG91K1Ej",
        "outputId": "214bd12a-1bce-4795-8677-4b86eb4f25d5"
      },
      "source": [
        "#invert the differenced forecast to something usable\n",
        "X = temp_df_mean.values\n",
        "sum=0\n",
        "history = [x for x in X]\n",
        "day = last_day + 1\n",
        "for yhat in forecast:\n",
        " inverted = inverse_difference(history, yhat, 365)\n",
        " print('%s %d: %.1f trains' % (d.strftime(\"%b\"), day, inverted)) # % s is placeholder for string, %d for number/integer, %f float\n",
        " history.append(inverted)\n",
        " sum= sum + inverted\n",
        " cum_daily= sum+ df['TrainCount'].sum()\n",
        " print('Cumulative trains at the end of %s %d: %.1f' % (d.strftime(\"%b\"), day, cum_daily)) # % s is placeholder for string, %d for number/integer, %f float\n",
        " day += 1\n"
      ],
      "execution_count": 242,
      "outputs": [
        {
          "output_type": "stream",
          "text": [
            "Mar 26: 2.1 trains\n",
            "Cumulative trains at the end of Mar 26: 36.1\n",
            "Mar 27: 0.7 trains\n",
            "Cumulative trains at the end of Mar 27: 36.8\n",
            "Mar 28: 2.3 trains\n",
            "Cumulative trains at the end of Mar 28: 39.1\n",
            "Mar 29: 1.5 trains\n",
            "Cumulative trains at the end of Mar 29: 40.6\n",
            "Mar 30: 0.8 trains\n",
            "Cumulative trains at the end of Mar 30: 41.4\n",
            "Mar 31: 2.4 trains\n",
            "Cumulative trains at the end of Mar 31: 43.8\n"
          ],
          "name": "stdout"
        }
      ]
    },
    {
      "cell_type": "code",
      "metadata": {
        "colab": {
          "base_uri": "https://localhost:8080/"
        },
        "id": "bDPtWg8Pg-Hl",
        "outputId": "86d989ba-9895-43e5-cce1-2a8dfd637a2a"
      },
      "source": [
        "print('Trains already sent during the month: ', round(df['TrainCount'].sum()))\n",
        "print('Trains projected during the rest of the month: ', round(int(sum)))\n",
        "print('Total trains expected for the month: ',  round(df['TrainCount'].sum() + int(sum)))"
      ],
      "execution_count": 243,
      "outputs": [
        {
          "output_type": "stream",
          "text": [
            "Trains already sent during the month:  34\n",
            "Trains projected during the rest of the month:  9\n",
            "Total trains expected for the month:  43\n"
          ],
          "name": "stdout"
        }
      ]
    }
  ]
}
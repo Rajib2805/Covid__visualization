{
  "nbformat": 4,
  "nbformat_minor": 0,
  "metadata": {
    "colab": {
      "name": "ICVL_Train_TimeSeries.ipynb",
      "provenance": [],
      "collapsed_sections": [],
      "mount_file_id": "1s3xtcmPtToqc-U9ZFkMKOcJ9727Y3Lbe",
      "authorship_tag": "ABX9TyPBb2P/y/4Xa+YLLhIkEXCd",
      "include_colab_link": true
    },
    "kernelspec": {
      "name": "python3",
      "display_name": "Python 3"
    }
  },
  "cells": [
    {
      "cell_type": "markdown",
      "metadata": {
        "id": "view-in-github",
        "colab_type": "text"
      },
      "source": [
        "<a href=\"https://colab.research.google.com/github/Rajib2805/Covid__visualization/blob/main/ICVL_Train_TimeSeries.ipynb\" target=\"_parent\"><img src=\"https://colab.research.google.com/assets/colab-badge.svg\" alt=\"Open In Colab\"/></a>"
      ]
    },
    {
      "cell_type": "markdown",
      "metadata": {
        "id": "0yAQkOkhTk16"
      },
      "source": [
        "**TIME SERIES PREDICTION OF NUMBER OF TRAINS ARRIVING AT THE PORT**"
      ]
    },
    {
      "cell_type": "code",
      "metadata": {
        "id": "R_O0PVpZKY8d"
      },
      "source": [
        "import pandas as pd\n",
        "import numpy as np\n",
        "import matplotlib.pyplot as plt"
      ],
      "execution_count": null,
      "outputs": []
    },
    {
      "cell_type": "code",
      "metadata": {
        "id": "7yfAxK_QS6gR"
      },
      "source": [
        "target= pd.read_excel('/content/drive/MyDrive/TrainICVL.xlsx')"
      ],
      "execution_count": null,
      "outputs": []
    },
    {
      "cell_type": "code",
      "metadata": {
        "colab": {
          "base_uri": "https://localhost:8080/",
          "height": 400
        },
        "id": "jhs7-EIHTZ-I",
        "outputId": "25a322bd-78a2-4ea6-8b4e-f2b212a346d8"
      },
      "source": [
        "target.head()"
      ],
      "execution_count": null,
      "outputs": [
        {
          "output_type": "execute_result",
          "data": {
            "text/html": [
              "<div>\n",
              "<style scoped>\n",
              "    .dataframe tbody tr th:only-of-type {\n",
              "        vertical-align: middle;\n",
              "    }\n",
              "\n",
              "    .dataframe tbody tr th {\n",
              "        vertical-align: top;\n",
              "    }\n",
              "\n",
              "    .dataframe thead th {\n",
              "        text-align: right;\n",
              "    }\n",
              "</style>\n",
              "<table border=\"1\" class=\"dataframe\">\n",
              "  <thead>\n",
              "    <tr style=\"text-align: right;\">\n",
              "      <th></th>\n",
              "      <th>TrainSlNo</th>\n",
              "      <th>Date of Despatch from Rail Siding Tete</th>\n",
              "      <th>TrainNo</th>\n",
              "      <th>Product</th>\n",
              "      <th>Depatched from Rail_Siding_Tete</th>\n",
              "      <th>Quantity Despatched as per Rail Siding Tete report</th>\n",
              "      <th>Arrival at Beira</th>\n",
              "      <th>Date of arrival at Beira</th>\n",
              "      <th>Quantity Received as per Beira report</th>\n",
              "      <th>RailNomenclature</th>\n",
              "      <th>Nectar RailNo</th>\n",
              "      <th>Remarks</th>\n",
              "      <th>CFMBIll_Unclaimed</th>\n",
              "      <th>OtherVendor_Weight</th>\n",
              "      <th>NectarWt</th>\n",
              "    </tr>\n",
              "  </thead>\n",
              "  <tbody>\n",
              "    <tr>\n",
              "      <th>0</th>\n",
              "      <td>999001</td>\n",
              "      <td>2018-01-01</td>\n",
              "      <td>NaN</td>\n",
              "      <td>CC</td>\n",
              "      <td>True</td>\n",
              "      <td>3415612.0</td>\n",
              "      <td>True</td>\n",
              "      <td>2018-01-01</td>\n",
              "      <td>3415612.0</td>\n",
              "      <td>NaN</td>\n",
              "      <td>NaN</td>\n",
              "      <td>NaN</td>\n",
              "      <td>1.0</td>\n",
              "      <td>NaN</td>\n",
              "      <td>NaN</td>\n",
              "    </tr>\n",
              "    <tr>\n",
              "      <th>1</th>\n",
              "      <td>999002</td>\n",
              "      <td>2018-01-01</td>\n",
              "      <td>NaN</td>\n",
              "      <td>TC</td>\n",
              "      <td>True</td>\n",
              "      <td>670298.0</td>\n",
              "      <td>True</td>\n",
              "      <td>2018-01-01</td>\n",
              "      <td>670298.0</td>\n",
              "      <td>NaN</td>\n",
              "      <td>NaN</td>\n",
              "      <td>NaN</td>\n",
              "      <td>1.0</td>\n",
              "      <td>NaN</td>\n",
              "      <td>NaN</td>\n",
              "    </tr>\n",
              "    <tr>\n",
              "      <th>2</th>\n",
              "      <td>111001</td>\n",
              "      <td>2018-01-03</td>\n",
              "      <td>820.0</td>\n",
              "      <td>TC</td>\n",
              "      <td>True</td>\n",
              "      <td>3042.0</td>\n",
              "      <td>True</td>\n",
              "      <td>2018-01-03</td>\n",
              "      <td>3042.0</td>\n",
              "      <td>NaN</td>\n",
              "      <td>11001.0</td>\n",
              "      <td>NaN</td>\n",
              "      <td>1.0</td>\n",
              "      <td>NaN</td>\n",
              "      <td>NaN</td>\n",
              "    </tr>\n",
              "    <tr>\n",
              "      <th>3</th>\n",
              "      <td>111002</td>\n",
              "      <td>2018-01-03</td>\n",
              "      <td>822.0</td>\n",
              "      <td>TC</td>\n",
              "      <td>True</td>\n",
              "      <td>2936.0</td>\n",
              "      <td>True</td>\n",
              "      <td>2018-01-03</td>\n",
              "      <td>2936.0</td>\n",
              "      <td>NaN</td>\n",
              "      <td>11002.0</td>\n",
              "      <td>NaN</td>\n",
              "      <td>1.0</td>\n",
              "      <td>NaN</td>\n",
              "      <td>NaN</td>\n",
              "    </tr>\n",
              "    <tr>\n",
              "      <th>4</th>\n",
              "      <td>111003</td>\n",
              "      <td>2018-01-04</td>\n",
              "      <td>830.0</td>\n",
              "      <td>TC</td>\n",
              "      <td>True</td>\n",
              "      <td>2969.0</td>\n",
              "      <td>True</td>\n",
              "      <td>2018-01-04</td>\n",
              "      <td>2969.0</td>\n",
              "      <td>NaN</td>\n",
              "      <td>11003.0</td>\n",
              "      <td>NaN</td>\n",
              "      <td>1.0</td>\n",
              "      <td>NaN</td>\n",
              "      <td>NaN</td>\n",
              "    </tr>\n",
              "  </tbody>\n",
              "</table>\n",
              "</div>"
            ],
            "text/plain": [
              "   TrainSlNo  ... NectarWt\n",
              "0     999001  ...      NaN\n",
              "1     999002  ...      NaN\n",
              "2     111001  ...      NaN\n",
              "3     111002  ...      NaN\n",
              "4     111003  ...      NaN\n",
              "\n",
              "[5 rows x 15 columns]"
            ]
          },
          "metadata": {
            "tags": []
          },
          "execution_count": 169
        }
      ]
    },
    {
      "cell_type": "code",
      "metadata": {
        "colab": {
          "base_uri": "https://localhost:8080/",
          "height": 402
        },
        "id": "eKmwYPKvT9IJ",
        "outputId": "0e99e3ec-3e00-4ceb-c164-481cb5e80dc0"
      },
      "source": [
        "target= target[['TrainSlNo', 'Date of Despatch from Rail Siding Tete']]\r\n",
        "target['date']= pd.DatetimeIndex(target['Date of Despatch from Rail Siding Tete']).day\r\n",
        "target['month']= pd.DatetimeIndex(target['Date of Despatch from Rail Siding Tete']).month\r\n",
        "target['year']= pd.DatetimeIndex(target['Date of Despatch from Rail Siding Tete']).year\r\n",
        "target"
      ],
      "execution_count": null,
      "outputs": [
        {
          "output_type": "execute_result",
          "data": {
            "text/html": [
              "<div>\n",
              "<style scoped>\n",
              "    .dataframe tbody tr th:only-of-type {\n",
              "        vertical-align: middle;\n",
              "    }\n",
              "\n",
              "    .dataframe tbody tr th {\n",
              "        vertical-align: top;\n",
              "    }\n",
              "\n",
              "    .dataframe thead th {\n",
              "        text-align: right;\n",
              "    }\n",
              "</style>\n",
              "<table border=\"1\" class=\"dataframe\">\n",
              "  <thead>\n",
              "    <tr style=\"text-align: right;\">\n",
              "      <th></th>\n",
              "      <th>TrainSlNo</th>\n",
              "      <th>Date of Despatch from Rail Siding Tete</th>\n",
              "      <th>date</th>\n",
              "      <th>month</th>\n",
              "      <th>year</th>\n",
              "    </tr>\n",
              "  </thead>\n",
              "  <tbody>\n",
              "    <tr>\n",
              "      <th>0</th>\n",
              "      <td>999001</td>\n",
              "      <td>2018-01-01</td>\n",
              "      <td>1</td>\n",
              "      <td>1</td>\n",
              "      <td>2018</td>\n",
              "    </tr>\n",
              "    <tr>\n",
              "      <th>1</th>\n",
              "      <td>999002</td>\n",
              "      <td>2018-01-01</td>\n",
              "      <td>1</td>\n",
              "      <td>1</td>\n",
              "      <td>2018</td>\n",
              "    </tr>\n",
              "    <tr>\n",
              "      <th>2</th>\n",
              "      <td>111001</td>\n",
              "      <td>2018-01-03</td>\n",
              "      <td>3</td>\n",
              "      <td>1</td>\n",
              "      <td>2018</td>\n",
              "    </tr>\n",
              "    <tr>\n",
              "      <th>3</th>\n",
              "      <td>111002</td>\n",
              "      <td>2018-01-03</td>\n",
              "      <td>3</td>\n",
              "      <td>1</td>\n",
              "      <td>2018</td>\n",
              "    </tr>\n",
              "    <tr>\n",
              "      <th>4</th>\n",
              "      <td>111003</td>\n",
              "      <td>2018-01-04</td>\n",
              "      <td>4</td>\n",
              "      <td>1</td>\n",
              "      <td>2018</td>\n",
              "    </tr>\n",
              "    <tr>\n",
              "      <th>...</th>\n",
              "      <td>...</td>\n",
              "      <td>...</td>\n",
              "      <td>...</td>\n",
              "      <td>...</td>\n",
              "      <td>...</td>\n",
              "    </tr>\n",
              "    <tr>\n",
              "      <th>1751</th>\n",
              "      <td>1057</td>\n",
              "      <td>2021-03-02</td>\n",
              "      <td>2</td>\n",
              "      <td>3</td>\n",
              "      <td>2021</td>\n",
              "    </tr>\n",
              "    <tr>\n",
              "      <th>1752</th>\n",
              "      <td>1058</td>\n",
              "      <td>2021-03-03</td>\n",
              "      <td>3</td>\n",
              "      <td>3</td>\n",
              "      <td>2021</td>\n",
              "    </tr>\n",
              "    <tr>\n",
              "      <th>1753</th>\n",
              "      <td>1059</td>\n",
              "      <td>2021-03-03</td>\n",
              "      <td>3</td>\n",
              "      <td>3</td>\n",
              "      <td>2021</td>\n",
              "    </tr>\n",
              "    <tr>\n",
              "      <th>1754</th>\n",
              "      <td>1060</td>\n",
              "      <td>2021-03-04</td>\n",
              "      <td>4</td>\n",
              "      <td>3</td>\n",
              "      <td>2021</td>\n",
              "    </tr>\n",
              "    <tr>\n",
              "      <th>1755</th>\n",
              "      <td>1061</td>\n",
              "      <td>2021-03-05</td>\n",
              "      <td>5</td>\n",
              "      <td>3</td>\n",
              "      <td>2021</td>\n",
              "    </tr>\n",
              "  </tbody>\n",
              "</table>\n",
              "<p>1756 rows × 5 columns</p>\n",
              "</div>"
            ],
            "text/plain": [
              "      TrainSlNo Date of Despatch from Rail Siding Tete  date  month  year\n",
              "0        999001                             2018-01-01     1      1  2018\n",
              "1        999002                             2018-01-01     1      1  2018\n",
              "2        111001                             2018-01-03     3      1  2018\n",
              "3        111002                             2018-01-03     3      1  2018\n",
              "4        111003                             2018-01-04     4      1  2018\n",
              "...         ...                                    ...   ...    ...   ...\n",
              "1751       1057                             2021-03-02     2      3  2021\n",
              "1752       1058                             2021-03-03     3      3  2021\n",
              "1753       1059                             2021-03-03     3      3  2021\n",
              "1754       1060                             2021-03-04     4      3  2021\n",
              "1755       1061                             2021-03-05     5      3  2021\n",
              "\n",
              "[1756 rows x 5 columns]"
            ]
          },
          "metadata": {
            "tags": []
          },
          "execution_count": 170
        }
      ]
    },
    {
      "cell_type": "code",
      "metadata": {
        "colab": {
          "base_uri": "https://localhost:8080/"
        },
        "id": "kS7CkxVJcI33",
        "outputId": "574a1a63-1a2e-4469-f166-4e04f17c5f9c"
      },
      "source": [
        "target.dtypes"
      ],
      "execution_count": null,
      "outputs": [
        {
          "output_type": "execute_result",
          "data": {
            "text/plain": [
              "TrainSlNo                                          int64\n",
              "Date of Despatch from Rail Siding Tete    datetime64[ns]\n",
              "date                                               int64\n",
              "month                                              int64\n",
              "year                                               int64\n",
              "dtype: object"
            ]
          },
          "metadata": {
            "tags": []
          },
          "execution_count": 171
        }
      ]
    },
    {
      "cell_type": "code",
      "metadata": {
        "colab": {
          "base_uri": "https://localhost:8080/",
          "height": 402
        },
        "id": "5Wf2rLh7g-p1",
        "outputId": "df23a68f-fbe5-489f-e9d1-adea7d212140"
      },
      "source": [
        "target= target[target['TrainSlNo'] < 999000]\r\n",
        "target"
      ],
      "execution_count": null,
      "outputs": [
        {
          "output_type": "execute_result",
          "data": {
            "text/html": [
              "<div>\n",
              "<style scoped>\n",
              "    .dataframe tbody tr th:only-of-type {\n",
              "        vertical-align: middle;\n",
              "    }\n",
              "\n",
              "    .dataframe tbody tr th {\n",
              "        vertical-align: top;\n",
              "    }\n",
              "\n",
              "    .dataframe thead th {\n",
              "        text-align: right;\n",
              "    }\n",
              "</style>\n",
              "<table border=\"1\" class=\"dataframe\">\n",
              "  <thead>\n",
              "    <tr style=\"text-align: right;\">\n",
              "      <th></th>\n",
              "      <th>TrainSlNo</th>\n",
              "      <th>Date of Despatch from Rail Siding Tete</th>\n",
              "      <th>date</th>\n",
              "      <th>month</th>\n",
              "      <th>year</th>\n",
              "    </tr>\n",
              "  </thead>\n",
              "  <tbody>\n",
              "    <tr>\n",
              "      <th>2</th>\n",
              "      <td>111001</td>\n",
              "      <td>2018-01-03</td>\n",
              "      <td>3</td>\n",
              "      <td>1</td>\n",
              "      <td>2018</td>\n",
              "    </tr>\n",
              "    <tr>\n",
              "      <th>3</th>\n",
              "      <td>111002</td>\n",
              "      <td>2018-01-03</td>\n",
              "      <td>3</td>\n",
              "      <td>1</td>\n",
              "      <td>2018</td>\n",
              "    </tr>\n",
              "    <tr>\n",
              "      <th>4</th>\n",
              "      <td>111003</td>\n",
              "      <td>2018-01-04</td>\n",
              "      <td>4</td>\n",
              "      <td>1</td>\n",
              "      <td>2018</td>\n",
              "    </tr>\n",
              "    <tr>\n",
              "      <th>5</th>\n",
              "      <td>111004</td>\n",
              "      <td>2018-01-04</td>\n",
              "      <td>4</td>\n",
              "      <td>1</td>\n",
              "      <td>2018</td>\n",
              "    </tr>\n",
              "    <tr>\n",
              "      <th>6</th>\n",
              "      <td>111005</td>\n",
              "      <td>2018-01-05</td>\n",
              "      <td>5</td>\n",
              "      <td>1</td>\n",
              "      <td>2018</td>\n",
              "    </tr>\n",
              "    <tr>\n",
              "      <th>...</th>\n",
              "      <td>...</td>\n",
              "      <td>...</td>\n",
              "      <td>...</td>\n",
              "      <td>...</td>\n",
              "      <td>...</td>\n",
              "    </tr>\n",
              "    <tr>\n",
              "      <th>1751</th>\n",
              "      <td>1057</td>\n",
              "      <td>2021-03-02</td>\n",
              "      <td>2</td>\n",
              "      <td>3</td>\n",
              "      <td>2021</td>\n",
              "    </tr>\n",
              "    <tr>\n",
              "      <th>1752</th>\n",
              "      <td>1058</td>\n",
              "      <td>2021-03-03</td>\n",
              "      <td>3</td>\n",
              "      <td>3</td>\n",
              "      <td>2021</td>\n",
              "    </tr>\n",
              "    <tr>\n",
              "      <th>1753</th>\n",
              "      <td>1059</td>\n",
              "      <td>2021-03-03</td>\n",
              "      <td>3</td>\n",
              "      <td>3</td>\n",
              "      <td>2021</td>\n",
              "    </tr>\n",
              "    <tr>\n",
              "      <th>1754</th>\n",
              "      <td>1060</td>\n",
              "      <td>2021-03-04</td>\n",
              "      <td>4</td>\n",
              "      <td>3</td>\n",
              "      <td>2021</td>\n",
              "    </tr>\n",
              "    <tr>\n",
              "      <th>1755</th>\n",
              "      <td>1061</td>\n",
              "      <td>2021-03-05</td>\n",
              "      <td>5</td>\n",
              "      <td>3</td>\n",
              "      <td>2021</td>\n",
              "    </tr>\n",
              "  </tbody>\n",
              "</table>\n",
              "<p>1704 rows × 5 columns</p>\n",
              "</div>"
            ],
            "text/plain": [
              "      TrainSlNo Date of Despatch from Rail Siding Tete  date  month  year\n",
              "2        111001                             2018-01-03     3      1  2018\n",
              "3        111002                             2018-01-03     3      1  2018\n",
              "4        111003                             2018-01-04     4      1  2018\n",
              "5        111004                             2018-01-04     4      1  2018\n",
              "6        111005                             2018-01-05     5      1  2018\n",
              "...         ...                                    ...   ...    ...   ...\n",
              "1751       1057                             2021-03-02     2      3  2021\n",
              "1752       1058                             2021-03-03     3      3  2021\n",
              "1753       1059                             2021-03-03     3      3  2021\n",
              "1754       1060                             2021-03-04     4      3  2021\n",
              "1755       1061                             2021-03-05     5      3  2021\n",
              "\n",
              "[1704 rows x 5 columns]"
            ]
          },
          "metadata": {
            "tags": []
          },
          "execution_count": 172
        }
      ]
    },
    {
      "cell_type": "code",
      "metadata": {
        "id": "2dwCR4BhRvxe",
        "colab": {
          "base_uri": "https://localhost:8080/"
        },
        "outputId": "0bc37abd-69e9-4e77-e680-047249525824"
      },
      "source": [
        "target['TrainCount']= 1"
      ],
      "execution_count": null,
      "outputs": [
        {
          "output_type": "stream",
          "text": [
            "/usr/local/lib/python3.7/dist-packages/ipykernel_launcher.py:1: SettingWithCopyWarning: \n",
            "A value is trying to be set on a copy of a slice from a DataFrame.\n",
            "Try using .loc[row_indexer,col_indexer] = value instead\n",
            "\n",
            "See the caveats in the documentation: https://pandas.pydata.org/pandas-docs/stable/user_guide/indexing.html#returning-a-view-versus-a-copy\n",
            "  \"\"\"Entry point for launching an IPython kernel.\n"
          ],
          "name": "stderr"
        }
      ]
    },
    {
      "cell_type": "code",
      "metadata": {
        "colab": {
          "base_uri": "https://localhost:8080/",
          "height": 195
        },
        "id": "qqte1W3jWIcx",
        "outputId": "e75a9826-c838-484d-f3e3-2a4c984e0ab2"
      },
      "source": [
        "target.head()"
      ],
      "execution_count": null,
      "outputs": [
        {
          "output_type": "execute_result",
          "data": {
            "text/html": [
              "<div>\n",
              "<style scoped>\n",
              "    .dataframe tbody tr th:only-of-type {\n",
              "        vertical-align: middle;\n",
              "    }\n",
              "\n",
              "    .dataframe tbody tr th {\n",
              "        vertical-align: top;\n",
              "    }\n",
              "\n",
              "    .dataframe thead th {\n",
              "        text-align: right;\n",
              "    }\n",
              "</style>\n",
              "<table border=\"1\" class=\"dataframe\">\n",
              "  <thead>\n",
              "    <tr style=\"text-align: right;\">\n",
              "      <th></th>\n",
              "      <th>TrainSlNo</th>\n",
              "      <th>Date of Despatch from Rail Siding Tete</th>\n",
              "      <th>date</th>\n",
              "      <th>month</th>\n",
              "      <th>year</th>\n",
              "      <th>TrainCount</th>\n",
              "    </tr>\n",
              "  </thead>\n",
              "  <tbody>\n",
              "    <tr>\n",
              "      <th>2</th>\n",
              "      <td>111001</td>\n",
              "      <td>2018-01-03</td>\n",
              "      <td>3</td>\n",
              "      <td>1</td>\n",
              "      <td>2018</td>\n",
              "      <td>1</td>\n",
              "    </tr>\n",
              "    <tr>\n",
              "      <th>3</th>\n",
              "      <td>111002</td>\n",
              "      <td>2018-01-03</td>\n",
              "      <td>3</td>\n",
              "      <td>1</td>\n",
              "      <td>2018</td>\n",
              "      <td>1</td>\n",
              "    </tr>\n",
              "    <tr>\n",
              "      <th>4</th>\n",
              "      <td>111003</td>\n",
              "      <td>2018-01-04</td>\n",
              "      <td>4</td>\n",
              "      <td>1</td>\n",
              "      <td>2018</td>\n",
              "      <td>1</td>\n",
              "    </tr>\n",
              "    <tr>\n",
              "      <th>5</th>\n",
              "      <td>111004</td>\n",
              "      <td>2018-01-04</td>\n",
              "      <td>4</td>\n",
              "      <td>1</td>\n",
              "      <td>2018</td>\n",
              "      <td>1</td>\n",
              "    </tr>\n",
              "    <tr>\n",
              "      <th>6</th>\n",
              "      <td>111005</td>\n",
              "      <td>2018-01-05</td>\n",
              "      <td>5</td>\n",
              "      <td>1</td>\n",
              "      <td>2018</td>\n",
              "      <td>1</td>\n",
              "    </tr>\n",
              "  </tbody>\n",
              "</table>\n",
              "</div>"
            ],
            "text/plain": [
              "   TrainSlNo Date of Despatch from Rail Siding Tete  ...  year  TrainCount\n",
              "2     111001                             2018-01-03  ...  2018           1\n",
              "3     111002                             2018-01-03  ...  2018           1\n",
              "4     111003                             2018-01-04  ...  2018           1\n",
              "5     111004                             2018-01-04  ...  2018           1\n",
              "6     111005                             2018-01-05  ...  2018           1\n",
              "\n",
              "[5 rows x 6 columns]"
            ]
          },
          "metadata": {
            "tags": []
          },
          "execution_count": 174
        }
      ]
    },
    {
      "cell_type": "code",
      "metadata": {
        "colab": {
          "base_uri": "https://localhost:8080/",
          "height": 195
        },
        "id": "_nmQ49nY7sU2",
        "outputId": "459cec56-5350-44d1-ca24-d3ddf7e00dc4"
      },
      "source": [
        "target= target[['Date of Despatch from Rail Siding Tete', 'TrainCount']]\r\n",
        "target.head()"
      ],
      "execution_count": null,
      "outputs": [
        {
          "output_type": "execute_result",
          "data": {
            "text/html": [
              "<div>\n",
              "<style scoped>\n",
              "    .dataframe tbody tr th:only-of-type {\n",
              "        vertical-align: middle;\n",
              "    }\n",
              "\n",
              "    .dataframe tbody tr th {\n",
              "        vertical-align: top;\n",
              "    }\n",
              "\n",
              "    .dataframe thead th {\n",
              "        text-align: right;\n",
              "    }\n",
              "</style>\n",
              "<table border=\"1\" class=\"dataframe\">\n",
              "  <thead>\n",
              "    <tr style=\"text-align: right;\">\n",
              "      <th></th>\n",
              "      <th>Date of Despatch from Rail Siding Tete</th>\n",
              "      <th>TrainCount</th>\n",
              "    </tr>\n",
              "  </thead>\n",
              "  <tbody>\n",
              "    <tr>\n",
              "      <th>2</th>\n",
              "      <td>2018-01-03</td>\n",
              "      <td>1</td>\n",
              "    </tr>\n",
              "    <tr>\n",
              "      <th>3</th>\n",
              "      <td>2018-01-03</td>\n",
              "      <td>1</td>\n",
              "    </tr>\n",
              "    <tr>\n",
              "      <th>4</th>\n",
              "      <td>2018-01-04</td>\n",
              "      <td>1</td>\n",
              "    </tr>\n",
              "    <tr>\n",
              "      <th>5</th>\n",
              "      <td>2018-01-04</td>\n",
              "      <td>1</td>\n",
              "    </tr>\n",
              "    <tr>\n",
              "      <th>6</th>\n",
              "      <td>2018-01-05</td>\n",
              "      <td>1</td>\n",
              "    </tr>\n",
              "  </tbody>\n",
              "</table>\n",
              "</div>"
            ],
            "text/plain": [
              "  Date of Despatch from Rail Siding Tete  TrainCount\n",
              "2                             2018-01-03           1\n",
              "3                             2018-01-03           1\n",
              "4                             2018-01-04           1\n",
              "5                             2018-01-04           1\n",
              "6                             2018-01-05           1"
            ]
          },
          "metadata": {
            "tags": []
          },
          "execution_count": 175
        }
      ]
    },
    {
      "cell_type": "code",
      "metadata": {
        "colab": {
          "base_uri": "https://localhost:8080/",
          "height": 225
        },
        "id": "7WkV3p1MeqCy",
        "outputId": "1a432572-9e8c-49a4-fab7-b72fc612cc72"
      },
      "source": [
        "target= target.groupby(['Date of Despatch from Rail Siding Tete']).sum()\r\n",
        "target.head()\r\n"
      ],
      "execution_count": null,
      "outputs": [
        {
          "output_type": "execute_result",
          "data": {
            "text/html": [
              "<div>\n",
              "<style scoped>\n",
              "    .dataframe tbody tr th:only-of-type {\n",
              "        vertical-align: middle;\n",
              "    }\n",
              "\n",
              "    .dataframe tbody tr th {\n",
              "        vertical-align: top;\n",
              "    }\n",
              "\n",
              "    .dataframe thead th {\n",
              "        text-align: right;\n",
              "    }\n",
              "</style>\n",
              "<table border=\"1\" class=\"dataframe\">\n",
              "  <thead>\n",
              "    <tr style=\"text-align: right;\">\n",
              "      <th></th>\n",
              "      <th>TrainCount</th>\n",
              "    </tr>\n",
              "    <tr>\n",
              "      <th>Date of Despatch from Rail Siding Tete</th>\n",
              "      <th></th>\n",
              "    </tr>\n",
              "  </thead>\n",
              "  <tbody>\n",
              "    <tr>\n",
              "      <th>2018-01-03</th>\n",
              "      <td>2</td>\n",
              "    </tr>\n",
              "    <tr>\n",
              "      <th>2018-01-04</th>\n",
              "      <td>2</td>\n",
              "    </tr>\n",
              "    <tr>\n",
              "      <th>2018-01-05</th>\n",
              "      <td>1</td>\n",
              "    </tr>\n",
              "    <tr>\n",
              "      <th>2018-01-06</th>\n",
              "      <td>2</td>\n",
              "    </tr>\n",
              "    <tr>\n",
              "      <th>2018-01-07</th>\n",
              "      <td>2</td>\n",
              "    </tr>\n",
              "  </tbody>\n",
              "</table>\n",
              "</div>"
            ],
            "text/plain": [
              "                                        TrainCount\n",
              "Date of Despatch from Rail Siding Tete            \n",
              "2018-01-03                                       2\n",
              "2018-01-04                                       2\n",
              "2018-01-05                                       1\n",
              "2018-01-06                                       2\n",
              "2018-01-07                                       2"
            ]
          },
          "metadata": {
            "tags": []
          },
          "execution_count": 176
        }
      ]
    },
    {
      "cell_type": "code",
      "metadata": {
        "colab": {
          "base_uri": "https://localhost:8080/",
          "height": 402
        },
        "id": "niDKqLp6fYpK",
        "outputId": "042f396f-4ee2-40ec-c3cb-33b29d03fd00"
      },
      "source": [
        "target= target.reset_index()\r\n",
        "target"
      ],
      "execution_count": null,
      "outputs": [
        {
          "output_type": "execute_result",
          "data": {
            "text/html": [
              "<div>\n",
              "<style scoped>\n",
              "    .dataframe tbody tr th:only-of-type {\n",
              "        vertical-align: middle;\n",
              "    }\n",
              "\n",
              "    .dataframe tbody tr th {\n",
              "        vertical-align: top;\n",
              "    }\n",
              "\n",
              "    .dataframe thead th {\n",
              "        text-align: right;\n",
              "    }\n",
              "</style>\n",
              "<table border=\"1\" class=\"dataframe\">\n",
              "  <thead>\n",
              "    <tr style=\"text-align: right;\">\n",
              "      <th></th>\n",
              "      <th>Date of Despatch from Rail Siding Tete</th>\n",
              "      <th>TrainCount</th>\n",
              "    </tr>\n",
              "  </thead>\n",
              "  <tbody>\n",
              "    <tr>\n",
              "      <th>0</th>\n",
              "      <td>2018-01-03</td>\n",
              "      <td>2</td>\n",
              "    </tr>\n",
              "    <tr>\n",
              "      <th>1</th>\n",
              "      <td>2018-01-04</td>\n",
              "      <td>2</td>\n",
              "    </tr>\n",
              "    <tr>\n",
              "      <th>2</th>\n",
              "      <td>2018-01-05</td>\n",
              "      <td>1</td>\n",
              "    </tr>\n",
              "    <tr>\n",
              "      <th>3</th>\n",
              "      <td>2018-01-06</td>\n",
              "      <td>2</td>\n",
              "    </tr>\n",
              "    <tr>\n",
              "      <th>4</th>\n",
              "      <td>2018-01-07</td>\n",
              "      <td>2</td>\n",
              "    </tr>\n",
              "    <tr>\n",
              "      <th>...</th>\n",
              "      <td>...</td>\n",
              "      <td>...</td>\n",
              "    </tr>\n",
              "    <tr>\n",
              "      <th>868</th>\n",
              "      <td>2021-02-28</td>\n",
              "      <td>3</td>\n",
              "    </tr>\n",
              "    <tr>\n",
              "      <th>869</th>\n",
              "      <td>2021-03-02</td>\n",
              "      <td>1</td>\n",
              "    </tr>\n",
              "    <tr>\n",
              "      <th>870</th>\n",
              "      <td>2021-03-03</td>\n",
              "      <td>2</td>\n",
              "    </tr>\n",
              "    <tr>\n",
              "      <th>871</th>\n",
              "      <td>2021-03-04</td>\n",
              "      <td>1</td>\n",
              "    </tr>\n",
              "    <tr>\n",
              "      <th>872</th>\n",
              "      <td>2021-03-05</td>\n",
              "      <td>1</td>\n",
              "    </tr>\n",
              "  </tbody>\n",
              "</table>\n",
              "<p>873 rows × 2 columns</p>\n",
              "</div>"
            ],
            "text/plain": [
              "    Date of Despatch from Rail Siding Tete  TrainCount\n",
              "0                               2018-01-03           2\n",
              "1                               2018-01-04           2\n",
              "2                               2018-01-05           1\n",
              "3                               2018-01-06           2\n",
              "4                               2018-01-07           2\n",
              "..                                     ...         ...\n",
              "868                             2021-02-28           3\n",
              "869                             2021-03-02           1\n",
              "870                             2021-03-03           2\n",
              "871                             2021-03-04           1\n",
              "872                             2021-03-05           1\n",
              "\n",
              "[873 rows x 2 columns]"
            ]
          },
          "metadata": {
            "tags": []
          },
          "execution_count": 177
        }
      ]
    },
    {
      "cell_type": "code",
      "metadata": {
        "id": "H6npAgFNEDQy"
      },
      "source": [
        "target['cumsum'] = target.groupby([target['Date of Despatch from Rail Siding Tete'].dt.month,\r\n",
        "                           target['Date of Despatch from Rail Siding Tete'].dt.year])['TrainCount'].cumsum()"
      ],
      "execution_count": null,
      "outputs": []
    },
    {
      "cell_type": "code",
      "metadata": {
        "colab": {
          "base_uri": "https://localhost:8080/",
          "height": 195
        },
        "id": "OgYLztfGjKkT",
        "outputId": "bc04c31f-1a87-4e32-abd3-c19d75a0b250"
      },
      "source": [
        "target.tail(5)"
      ],
      "execution_count": null,
      "outputs": [
        {
          "output_type": "execute_result",
          "data": {
            "text/html": [
              "<div>\n",
              "<style scoped>\n",
              "    .dataframe tbody tr th:only-of-type {\n",
              "        vertical-align: middle;\n",
              "    }\n",
              "\n",
              "    .dataframe tbody tr th {\n",
              "        vertical-align: top;\n",
              "    }\n",
              "\n",
              "    .dataframe thead th {\n",
              "        text-align: right;\n",
              "    }\n",
              "</style>\n",
              "<table border=\"1\" class=\"dataframe\">\n",
              "  <thead>\n",
              "    <tr style=\"text-align: right;\">\n",
              "      <th></th>\n",
              "      <th>Date of Despatch from Rail Siding Tete</th>\n",
              "      <th>TrainCount</th>\n",
              "      <th>cumsum</th>\n",
              "    </tr>\n",
              "  </thead>\n",
              "  <tbody>\n",
              "    <tr>\n",
              "      <th>868</th>\n",
              "      <td>2021-02-28</td>\n",
              "      <td>3</td>\n",
              "      <td>35</td>\n",
              "    </tr>\n",
              "    <tr>\n",
              "      <th>869</th>\n",
              "      <td>2021-03-02</td>\n",
              "      <td>1</td>\n",
              "      <td>1</td>\n",
              "    </tr>\n",
              "    <tr>\n",
              "      <th>870</th>\n",
              "      <td>2021-03-03</td>\n",
              "      <td>2</td>\n",
              "      <td>3</td>\n",
              "    </tr>\n",
              "    <tr>\n",
              "      <th>871</th>\n",
              "      <td>2021-03-04</td>\n",
              "      <td>1</td>\n",
              "      <td>4</td>\n",
              "    </tr>\n",
              "    <tr>\n",
              "      <th>872</th>\n",
              "      <td>2021-03-05</td>\n",
              "      <td>1</td>\n",
              "      <td>5</td>\n",
              "    </tr>\n",
              "  </tbody>\n",
              "</table>\n",
              "</div>"
            ],
            "text/plain": [
              "    Date of Despatch from Rail Siding Tete  TrainCount  cumsum\n",
              "868                             2021-02-28           3      35\n",
              "869                             2021-03-02           1       1\n",
              "870                             2021-03-03           2       3\n",
              "871                             2021-03-04           1       4\n",
              "872                             2021-03-05           1       5"
            ]
          },
          "metadata": {
            "tags": []
          },
          "execution_count": 179
        }
      ]
    },
    {
      "cell_type": "code",
      "metadata": {
        "id": "YbYwe9VxbWnh",
        "colab": {
          "base_uri": "https://localhost:8080/",
          "height": 466
        },
        "outputId": "4c985fac-5205-4b06-f600-cd9c164f7208"
      },
      "source": [
        "import seaborn as sns\r\n",
        "sns.relplot(x='Date of Despatch from Rail Siding Tete', y='cumsum', kind= 'line', data= target)\r\n",
        "plt.xticks(rotation=90)"
      ],
      "execution_count": null,
      "outputs": [
        {
          "output_type": "execute_result",
          "data": {
            "text/plain": [
              "(array([736695., 736815., 736938., 737060., 737180., 737303., 737425.,\n",
              "        737546., 737669., 737791., 737911.]),\n",
              " <a list of 11 Text major ticklabel objects>)"
            ]
          },
          "metadata": {
            "tags": []
          },
          "execution_count": 180
        },
        {
          "output_type": "display_data",
          "data": {
            "image/png": "[encoded data removed]",
            "text/plain": [
              "<Figure size 360x360 with 1 Axes>"
            ]
          },
          "metadata": {
            "tags": [],
            "needs_background": "light"
          }
        }
      ]
    },
    {
      "cell_type": "code",
      "metadata": {
        "id": "mj0dHBc8mexe",
        "colab": {
          "base_uri": "https://localhost:8080/",
          "height": 195
        },
        "outputId": "fd9fde06-68a0-4e49-fb60-2da814f21bc4"
      },
      "source": [
        "#selecting only the fields which are relevant for our time-series forecasting analysis\n",
        "temp_df= target[['Date of Despatch from Rail Siding Tete', 'TrainCount' ]]\n",
        "temp_df.head()"
      ],
      "execution_count": null,
      "outputs": [
        {
          "output_type": "execute_result",
          "data": {
            "text/html": [
              "<div>\n",
              "<style scoped>\n",
              "    .dataframe tbody tr th:only-of-type {\n",
              "        vertical-align: middle;\n",
              "    }\n",
              "\n",
              "    .dataframe tbody tr th {\n",
              "        vertical-align: top;\n",
              "    }\n",
              "\n",
              "    .dataframe thead th {\n",
              "        text-align: right;\n",
              "    }\n",
              "</style>\n",
              "<table border=\"1\" class=\"dataframe\">\n",
              "  <thead>\n",
              "    <tr style=\"text-align: right;\">\n",
              "      <th></th>\n",
              "      <th>Date of Despatch from Rail Siding Tete</th>\n",
              "      <th>TrainCount</th>\n",
              "    </tr>\n",
              "  </thead>\n",
              "  <tbody>\n",
              "    <tr>\n",
              "      <th>0</th>\n",
              "      <td>2018-01-03</td>\n",
              "      <td>2</td>\n",
              "    </tr>\n",
              "    <tr>\n",
              "      <th>1</th>\n",
              "      <td>2018-01-04</td>\n",
              "      <td>2</td>\n",
              "    </tr>\n",
              "    <tr>\n",
              "      <th>2</th>\n",
              "      <td>2018-01-05</td>\n",
              "      <td>1</td>\n",
              "    </tr>\n",
              "    <tr>\n",
              "      <th>3</th>\n",
              "      <td>2018-01-06</td>\n",
              "      <td>2</td>\n",
              "    </tr>\n",
              "    <tr>\n",
              "      <th>4</th>\n",
              "      <td>2018-01-07</td>\n",
              "      <td>2</td>\n",
              "    </tr>\n",
              "  </tbody>\n",
              "</table>\n",
              "</div>"
            ],
            "text/plain": [
              "  Date of Despatch from Rail Siding Tete  TrainCount\n",
              "0                             2018-01-03           2\n",
              "1                             2018-01-04           2\n",
              "2                             2018-01-05           1\n",
              "3                             2018-01-06           2\n",
              "4                             2018-01-07           2"
            ]
          },
          "metadata": {
            "tags": []
          },
          "execution_count": 181
        }
      ]
    },
    {
      "cell_type": "markdown",
      "metadata": {
        "id": "rbhxEPa3mwW1"
      },
      "source": [
        " However, using the past train data for as far as 2018 might not be a good indicator for today’s train data, as there have been other recent factors that should be taken into account, for example, the gradually changig logistic events due to condition in the line.\n",
        "\n",
        "Thus, to have a possibly better analysis and forecast result because of the understanding of recent influential factors, we would take only a subset of data from 2019 to 2021:"
      ]
    },
    {
      "cell_type": "code",
      "metadata": {
        "id": "__JgcFk3m6nJ",
        "colab": {
          "base_uri": "https://localhost:8080/"
        },
        "outputId": "25a86f71-852f-4c6b-9e68-5bb912831562"
      },
      "source": [
        "#taking the data from 2019 to 2021 only which is relevant for our analysis\n",
        "mask= (target['Date of Despatch from Rail Siding Tete'] >= '2019-01-01')\n",
        "\n",
        "\"\"\"\n",
        "# Not Using the end date parameter. Can use it if required\n",
        "\n",
        " & (target['Date of Despatch from Rail Siding Tete'] <='2021-02-28')\n",
        "\n",
        "\"\"\"\n",
        "mask"
      ],
      "execution_count": null,
      "outputs": [
        {
          "output_type": "execute_result",
          "data": {
            "text/plain": [
              "0      False\n",
              "1      False\n",
              "2      False\n",
              "3      False\n",
              "4      False\n",
              "       ...  \n",
              "868     True\n",
              "869     True\n",
              "870     True\n",
              "871     True\n",
              "872     True\n",
              "Name: Date of Despatch from Rail Siding Tete, Length: 873, dtype: bool"
            ]
          },
          "metadata": {
            "tags": []
          },
          "execution_count": 182
        }
      ]
    },
    {
      "cell_type": "code",
      "metadata": {
        "id": "wi0VdlblpJZU",
        "colab": {
          "base_uri": "https://localhost:8080/",
          "height": 402
        },
        "outputId": "5cfd634e-61ff-4ed6-f35e-907f67045975"
      },
      "source": [
        "temp_df= temp_df.loc[mask]\n",
        "temp_df"
      ],
      "execution_count": null,
      "outputs": [
        {
          "output_type": "execute_result",
          "data": {
            "text/html": [
              "<div>\n",
              "<style scoped>\n",
              "    .dataframe tbody tr th:only-of-type {\n",
              "        vertical-align: middle;\n",
              "    }\n",
              "\n",
              "    .dataframe tbody tr th {\n",
              "        vertical-align: top;\n",
              "    }\n",
              "\n",
              "    .dataframe thead th {\n",
              "        text-align: right;\n",
              "    }\n",
              "</style>\n",
              "<table border=\"1\" class=\"dataframe\">\n",
              "  <thead>\n",
              "    <tr style=\"text-align: right;\">\n",
              "      <th></th>\n",
              "      <th>Date of Despatch from Rail Siding Tete</th>\n",
              "      <th>TrainCount</th>\n",
              "    </tr>\n",
              "  </thead>\n",
              "  <tbody>\n",
              "    <tr>\n",
              "      <th>237</th>\n",
              "      <td>2019-01-02</td>\n",
              "      <td>3</td>\n",
              "    </tr>\n",
              "    <tr>\n",
              "      <th>238</th>\n",
              "      <td>2019-01-03</td>\n",
              "      <td>2</td>\n",
              "    </tr>\n",
              "    <tr>\n",
              "      <th>239</th>\n",
              "      <td>2019-01-05</td>\n",
              "      <td>2</td>\n",
              "    </tr>\n",
              "    <tr>\n",
              "      <th>240</th>\n",
              "      <td>2019-01-06</td>\n",
              "      <td>3</td>\n",
              "    </tr>\n",
              "    <tr>\n",
              "      <th>241</th>\n",
              "      <td>2019-01-07</td>\n",
              "      <td>1</td>\n",
              "    </tr>\n",
              "    <tr>\n",
              "      <th>...</th>\n",
              "      <td>...</td>\n",
              "      <td>...</td>\n",
              "    </tr>\n",
              "    <tr>\n",
              "      <th>868</th>\n",
              "      <td>2021-02-28</td>\n",
              "      <td>3</td>\n",
              "    </tr>\n",
              "    <tr>\n",
              "      <th>869</th>\n",
              "      <td>2021-03-02</td>\n",
              "      <td>1</td>\n",
              "    </tr>\n",
              "    <tr>\n",
              "      <th>870</th>\n",
              "      <td>2021-03-03</td>\n",
              "      <td>2</td>\n",
              "    </tr>\n",
              "    <tr>\n",
              "      <th>871</th>\n",
              "      <td>2021-03-04</td>\n",
              "      <td>1</td>\n",
              "    </tr>\n",
              "    <tr>\n",
              "      <th>872</th>\n",
              "      <td>2021-03-05</td>\n",
              "      <td>1</td>\n",
              "    </tr>\n",
              "  </tbody>\n",
              "</table>\n",
              "<p>636 rows × 2 columns</p>\n",
              "</div>"
            ],
            "text/plain": [
              "    Date of Despatch from Rail Siding Tete  TrainCount\n",
              "237                             2019-01-02           3\n",
              "238                             2019-01-03           2\n",
              "239                             2019-01-05           2\n",
              "240                             2019-01-06           3\n",
              "241                             2019-01-07           1\n",
              "..                                     ...         ...\n",
              "868                             2021-02-28           3\n",
              "869                             2021-03-02           1\n",
              "870                             2021-03-03           2\n",
              "871                             2021-03-04           1\n",
              "872                             2021-03-05           1\n",
              "\n",
              "[636 rows x 2 columns]"
            ]
          },
          "metadata": {
            "tags": []
          },
          "execution_count": 183
        }
      ]
    },
    {
      "cell_type": "code",
      "metadata": {
        "id": "SlRZNHiVpTa0"
      },
      "source": [
        "#reset the index (because time series analysis can only be done when the datefield is in an ordered index)\n",
        "temp_df.set_index('Date of Despatch from Rail Siding Tete', inplace=True)"
      ],
      "execution_count": null,
      "outputs": []
    },
    {
      "cell_type": "code",
      "metadata": {
        "colab": {
          "base_uri": "https://localhost:8080/",
          "height": 373
        },
        "id": "Z-mP97DSqvrg",
        "outputId": "fa8e42b8-8950-4d0c-d8e6-b1d9a80dcd8b"
      },
      "source": [
        "temp_df.tail(10)"
      ],
      "execution_count": null,
      "outputs": [
        {
          "output_type": "execute_result",
          "data": {
            "text/html": [
              "<div>\n",
              "<style scoped>\n",
              "    .dataframe tbody tr th:only-of-type {\n",
              "        vertical-align: middle;\n",
              "    }\n",
              "\n",
              "    .dataframe tbody tr th {\n",
              "        vertical-align: top;\n",
              "    }\n",
              "\n",
              "    .dataframe thead th {\n",
              "        text-align: right;\n",
              "    }\n",
              "</style>\n",
              "<table border=\"1\" class=\"dataframe\">\n",
              "  <thead>\n",
              "    <tr style=\"text-align: right;\">\n",
              "      <th></th>\n",
              "      <th>TrainCount</th>\n",
              "    </tr>\n",
              "    <tr>\n",
              "      <th>Date of Despatch from Rail Siding Tete</th>\n",
              "      <th></th>\n",
              "    </tr>\n",
              "  </thead>\n",
              "  <tbody>\n",
              "    <tr>\n",
              "      <th>2021-02-21</th>\n",
              "      <td>3</td>\n",
              "    </tr>\n",
              "    <tr>\n",
              "      <th>2021-02-23</th>\n",
              "      <td>1</td>\n",
              "    </tr>\n",
              "    <tr>\n",
              "      <th>2021-02-24</th>\n",
              "      <td>1</td>\n",
              "    </tr>\n",
              "    <tr>\n",
              "      <th>2021-02-25</th>\n",
              "      <td>3</td>\n",
              "    </tr>\n",
              "    <tr>\n",
              "      <th>2021-02-27</th>\n",
              "      <td>2</td>\n",
              "    </tr>\n",
              "    <tr>\n",
              "      <th>2021-02-28</th>\n",
              "      <td>3</td>\n",
              "    </tr>\n",
              "    <tr>\n",
              "      <th>2021-03-02</th>\n",
              "      <td>1</td>\n",
              "    </tr>\n",
              "    <tr>\n",
              "      <th>2021-03-03</th>\n",
              "      <td>2</td>\n",
              "    </tr>\n",
              "    <tr>\n",
              "      <th>2021-03-04</th>\n",
              "      <td>1</td>\n",
              "    </tr>\n",
              "    <tr>\n",
              "      <th>2021-03-05</th>\n",
              "      <td>1</td>\n",
              "    </tr>\n",
              "  </tbody>\n",
              "</table>\n",
              "</div>"
            ],
            "text/plain": [
              "                                        TrainCount\n",
              "Date of Despatch from Rail Siding Tete            \n",
              "2021-02-21                                       3\n",
              "2021-02-23                                       1\n",
              "2021-02-24                                       1\n",
              "2021-02-25                                       3\n",
              "2021-02-27                                       2\n",
              "2021-02-28                                       3\n",
              "2021-03-02                                       1\n",
              "2021-03-03                                       2\n",
              "2021-03-04                                       1\n",
              "2021-03-05                                       1"
            ]
          },
          "metadata": {
            "tags": []
          },
          "execution_count": 185
        }
      ]
    },
    {
      "cell_type": "code",
      "metadata": {
        "id": "WP03ZjLLErsy"
      },
      "source": [
        "temp_df.index = temp_df.index.to_period('D')"
      ],
      "execution_count": null,
      "outputs": []
    },
    {
      "cell_type": "code",
      "metadata": {
        "id": "46k1Svzw5OIT",
        "colab": {
          "base_uri": "https://localhost:8080/",
          "height": 417
        },
        "outputId": "162421e7-5ded-4568-9d6e-b96d67c97f14"
      },
      "source": [
        "#Making 2-day moving avarage to make the data cleaner and less noisy\n",
        "temp_df_mean= temp_df.rolling(window=2).mean()\n",
        "temp_df_mean.plot(figsize=(12,6), color='brown')"
      ],
      "execution_count": null,
      "outputs": [
        {
          "output_type": "execute_result",
          "data": {
            "text/plain": [
              "<matplotlib.axes._subplots.AxesSubplot at 0x7f36538d0fd0>"
            ]
          },
          "metadata": {
            "tags": []
          },
          "execution_count": 187
        },
        {
          "output_type": "display_data",
          "data": {
            "image/png": "[encoded data removed]",
            "text/plain": [
              "<Figure size 864x432 with 1 Axes>"
            ]
          },
          "metadata": {
            "tags": [],
            "needs_background": "light"
          }
        }
      ]
    },
    {
      "cell_type": "code",
      "metadata": {
        "id": "H21aE_3v0XfP"
      },
      "source": [
        "temp_df_mean= temp_df_mean.dropna()"
      ],
      "execution_count": null,
      "outputs": []
    },
    {
      "cell_type": "code",
      "metadata": {
        "colab": {
          "base_uri": "https://localhost:8080/",
          "height": 225
        },
        "id": "CzZFXVZ2kysP",
        "outputId": "8455961b-4c6d-453b-d5d9-8bc28879b457"
      },
      "source": [
        "temp_df_mean.head()"
      ],
      "execution_count": null,
      "outputs": [
        {
          "output_type": "execute_result",
          "data": {
            "text/html": [
              "<div>\n",
              "<style scoped>\n",
              "    .dataframe tbody tr th:only-of-type {\n",
              "        vertical-align: middle;\n",
              "    }\n",
              "\n",
              "    .dataframe tbody tr th {\n",
              "        vertical-align: top;\n",
              "    }\n",
              "\n",
              "    .dataframe thead th {\n",
              "        text-align: right;\n",
              "    }\n",
              "</style>\n",
              "<table border=\"1\" class=\"dataframe\">\n",
              "  <thead>\n",
              "    <tr style=\"text-align: right;\">\n",
              "      <th></th>\n",
              "      <th>TrainCount</th>\n",
              "    </tr>\n",
              "    <tr>\n",
              "      <th>Date of Despatch from Rail Siding Tete</th>\n",
              "      <th></th>\n",
              "    </tr>\n",
              "  </thead>\n",
              "  <tbody>\n",
              "    <tr>\n",
              "      <th>2019-01-03</th>\n",
              "      <td>2.5</td>\n",
              "    </tr>\n",
              "    <tr>\n",
              "      <th>2019-01-05</th>\n",
              "      <td>2.0</td>\n",
              "    </tr>\n",
              "    <tr>\n",
              "      <th>2019-01-06</th>\n",
              "      <td>2.5</td>\n",
              "    </tr>\n",
              "    <tr>\n",
              "      <th>2019-01-07</th>\n",
              "      <td>2.0</td>\n",
              "    </tr>\n",
              "    <tr>\n",
              "      <th>2019-01-08</th>\n",
              "      <td>1.0</td>\n",
              "    </tr>\n",
              "  </tbody>\n",
              "</table>\n",
              "</div>"
            ],
            "text/plain": [
              "                                        TrainCount\n",
              "Date of Despatch from Rail Siding Tete            \n",
              "2019-01-03                                     2.5\n",
              "2019-01-05                                     2.0\n",
              "2019-01-06                                     2.5\n",
              "2019-01-07                                     2.0\n",
              "2019-01-08                                     1.0"
            ]
          },
          "metadata": {
            "tags": []
          },
          "execution_count": 189
        }
      ]
    },
    {
      "cell_type": "code",
      "metadata": {
        "colab": {
          "base_uri": "https://localhost:8080/"
        },
        "id": "LrDshS2ccqmA",
        "outputId": "27357090-f860-4c32-9a2f-d79e43f692fe"
      },
      "source": [
        "#Augmented Dickey Fuller Test to check stationarity of data\r\n",
        "from statsmodels.tsa.stattools import adfuller\r\n",
        "def adf_test(dataset):\r\n",
        "     dftest = adfuller(dataset, autolag = 'AIC')\r\n",
        "     print(\"1. ADF : \",dftest[0])\r\n",
        "     print(\"2. P-Value : \", dftest[1])\r\n",
        "     print(\"3. Num Of Lags : \", dftest[2])\r\n",
        "     print(\"4. Num Of Observations Used For ADF Regression:\",      dftest[3])\r\n",
        "     print(\"5. Critical Values :\")\r\n",
        "     for key, val in dftest[4].items():\r\n",
        "         print(\"\\t\",key, \": \", val)\r\n",
        "adf_test(temp_df_mean['TrainCount'])"
      ],
      "execution_count": null,
      "outputs": [
        {
          "output_type": "stream",
          "text": [
            "1. ADF :  -4.390769514345469\n",
            "2. P-Value :  0.0003081989754390345\n",
            "3. Num Of Lags :  17\n",
            "4. Num Of Observations Used For ADF Regression: 617\n",
            "5. Critical Values :\n",
            "\t 1% :  -3.440992973242412\n",
            "\t 5% :  -2.8662357332485353\n",
            "\t 10% :  -2.569270733669741\n"
          ],
          "name": "stdout"
        }
      ]
    },
    {
      "cell_type": "markdown",
      "metadata": {
        "id": "PqC0sO_TdPTT"
      },
      "source": [
        "Since the p value above is less than 0.05, we can take that the data is stationary."
      ]
    },
    {
      "cell_type": "code",
      "metadata": {
        "colab": {
          "base_uri": "https://localhost:8080/",
          "height": 740
        },
        "id": "qKFZSOpNeJil",
        "outputId": "4c705b2c-b234-4eae-c8b4-859a824aa58b"
      },
      "source": [
        "#Find out the best value of p, d and q for ARIMA model\r\n",
        "!pip install pmdarima\r\n",
        "from pmdarima import auto_arima\r\n",
        "stepwise_fit = auto_arima(temp_df_mean['TrainCount'], trace=True,\r\n",
        "suppress_warnings=True)"
      ],
      "execution_count": null,
      "outputs": [
        {
          "output_type": "stream",
          "text": [
            "Requirement already satisfied: pmdarima in /usr/local/lib/python3.7/dist-packages (1.8.0)\n",
            "Requirement already satisfied: setuptools!=50.0.0,>=38.6.0 in /usr/local/lib/python3.7/dist-packages (from pmdarima) (54.0.0)\n",
            "Requirement already satisfied: pandas>=0.19 in /usr/local/lib/python3.7/dist-packages (from pmdarima) (1.1.5)\n",
            "Requirement already satisfied: statsmodels!=0.12.0,>=0.11 in /usr/local/lib/python3.7/dist-packages (from pmdarima) (0.12.2)\n",
            "Requirement already satisfied: scikit-learn>=0.22 in /usr/local/lib/python3.7/dist-packages (from pmdarima) (0.22.2.post1)\n",
            "Requirement already satisfied: numpy>=1.17.3 in /usr/local/lib/python3.7/dist-packages (from pmdarima) (1.19.5)\n",
            "Requirement already satisfied: Cython<0.29.18,>=0.29 in /usr/local/lib/python3.7/dist-packages (from pmdarima) (0.29.17)\n",
            "Requirement already satisfied: joblib>=0.11 in /usr/local/lib/python3.7/dist-packages (from pmdarima) (1.0.1)\n",
            "Requirement already satisfied: scipy>=1.3.2 in /usr/local/lib/python3.7/dist-packages (from pmdarima) (1.4.1)\n",
            "Requirement already satisfied: urllib3 in /usr/local/lib/python3.7/dist-packages (from pmdarima) (1.24.3)\n",
            "Requirement already satisfied: python-dateutil>=2.7.3 in /usr/local/lib/python3.7/dist-packages (from pandas>=0.19->pmdarima) (2.8.1)\n",
            "Requirement already satisfied: pytz>=2017.2 in /usr/local/lib/python3.7/dist-packages (from pandas>=0.19->pmdarima) (2018.9)\n",
            "Requirement already satisfied: patsy>=0.5 in /usr/local/lib/python3.7/dist-packages (from statsmodels!=0.12.0,>=0.11->pmdarima) (0.5.1)\n",
            "Requirement already satisfied: six>=1.5 in /usr/local/lib/python3.7/dist-packages (from python-dateutil>=2.7.3->pandas>=0.19->pmdarima) (1.15.0)\n"
          ],
          "name": "stdout"
        },
        {
          "output_type": "error",
          "ename": "ImportError",
          "evalue": "ignored",
          "traceback": [
            "\u001b[0;31m---------------------------------------------------------------------------\u001b[0m",
            "\u001b[0;31mImportError\u001b[0m                               Traceback (most recent call last)",
            "\u001b[0;32m<ipython-input-225-6ff5e9c9b5d0>\u001b[0m in \u001b[0;36m<module>\u001b[0;34m()\u001b[0m\n\u001b[1;32m      1\u001b[0m \u001b[0;31m#Find out the best value of p, d and q for ARIMA model\u001b[0m\u001b[0;34m\u001b[0m\u001b[0;34m\u001b[0m\u001b[0;34m\u001b[0m\u001b[0m\n\u001b[1;32m      2\u001b[0m \u001b[0mget_ipython\u001b[0m\u001b[0;34m(\u001b[0m\u001b[0;34m)\u001b[0m\u001b[0;34m.\u001b[0m\u001b[0msystem\u001b[0m\u001b[0;34m(\u001b[0m\u001b[0;34m'pip install pmdarima'\u001b[0m\u001b[0;34m)\u001b[0m\u001b[0;34m\u001b[0m\u001b[0;34m\u001b[0m\u001b[0m\n\u001b[0;32m----> 3\u001b[0;31m \u001b[0;32mfrom\u001b[0m \u001b[0mpmdarima\u001b[0m \u001b[0;32mimport\u001b[0m \u001b[0mauto_arima\u001b[0m\u001b[0;34m\u001b[0m\u001b[0;34m\u001b[0m\u001b[0m\n\u001b[0m\u001b[1;32m      4\u001b[0m stepwise_fit = auto_arima(temp_df_mean['TrainCount'], trace=True,\n\u001b[1;32m      5\u001b[0m suppress_warnings=True)\n",
            "\u001b[0;32m/usr/local/lib/python3.7/dist-packages/pmdarima/__init__.py\u001b[0m in \u001b[0;36m<module>\u001b[0;34m()\u001b[0m\n\u001b[1;32m     49\u001b[0m \u001b[0;34m\u001b[0m\u001b[0m\n\u001b[1;32m     50\u001b[0m     \u001b[0;31m# Stuff we want at top-level\u001b[0m\u001b[0;34m\u001b[0m\u001b[0;34m\u001b[0m\u001b[0;34m\u001b[0m\u001b[0m\n\u001b[0;32m---> 51\u001b[0;31m     \u001b[0;32mfrom\u001b[0m \u001b[0;34m.\u001b[0m\u001b[0marima\u001b[0m \u001b[0;32mimport\u001b[0m \u001b[0mauto_arima\u001b[0m\u001b[0;34m,\u001b[0m \u001b[0mARIMA\u001b[0m\u001b[0;34m,\u001b[0m \u001b[0mAutoARIMA\u001b[0m\u001b[0;34m,\u001b[0m \u001b[0mStepwiseContext\u001b[0m\u001b[0;34m,\u001b[0m \u001b[0mdecompose\u001b[0m\u001b[0;34m\u001b[0m\u001b[0;34m\u001b[0m\u001b[0m\n\u001b[0m\u001b[1;32m     52\u001b[0m     \u001b[0;32mfrom\u001b[0m \u001b[0;34m.\u001b[0m\u001b[0mutils\u001b[0m \u001b[0;32mimport\u001b[0m \u001b[0macf\u001b[0m\u001b[0;34m,\u001b[0m \u001b[0mautocorr_plot\u001b[0m\u001b[0;34m,\u001b[0m \u001b[0mc\u001b[0m\u001b[0;34m,\u001b[0m \u001b[0mpacf\u001b[0m\u001b[0;34m,\u001b[0m \u001b[0mplot_acf\u001b[0m\u001b[0;34m,\u001b[0m \u001b[0mplot_pacf\u001b[0m\u001b[0;34m,\u001b[0m\u001b[0;31m \u001b[0m\u001b[0;31m\\\u001b[0m\u001b[0;34m\u001b[0m\u001b[0;34m\u001b[0m\u001b[0m\n\u001b[1;32m     53\u001b[0m         \u001b[0mtsdisplay\u001b[0m\u001b[0;34m\u001b[0m\u001b[0;34m\u001b[0m\u001b[0m\n",
            "\u001b[0;32m/usr/local/lib/python3.7/dist-packages/pmdarima/arima/__init__.py\u001b[0m in \u001b[0;36m<module>\u001b[0;34m()\u001b[0m\n\u001b[1;32m      4\u001b[0m \u001b[0;34m\u001b[0m\u001b[0m\n\u001b[1;32m      5\u001b[0m \u001b[0;32mfrom\u001b[0m \u001b[0;34m.\u001b[0m\u001b[0mapprox\u001b[0m \u001b[0;32mimport\u001b[0m \u001b[0;34m*\u001b[0m\u001b[0;34m\u001b[0m\u001b[0;34m\u001b[0m\u001b[0m\n\u001b[0;32m----> 6\u001b[0;31m \u001b[0;32mfrom\u001b[0m \u001b[0;34m.\u001b[0m\u001b[0marima\u001b[0m \u001b[0;32mimport\u001b[0m \u001b[0;34m*\u001b[0m\u001b[0;34m\u001b[0m\u001b[0;34m\u001b[0m\u001b[0m\n\u001b[0m\u001b[1;32m      7\u001b[0m \u001b[0;32mfrom\u001b[0m \u001b[0;34m.\u001b[0m\u001b[0mauto\u001b[0m \u001b[0;32mimport\u001b[0m \u001b[0;34m*\u001b[0m\u001b[0;34m\u001b[0m\u001b[0;34m\u001b[0m\u001b[0m\n\u001b[1;32m      8\u001b[0m \u001b[0;32mfrom\u001b[0m \u001b[0;34m.\u001b[0m\u001b[0mutils\u001b[0m \u001b[0;32mimport\u001b[0m \u001b[0;34m*\u001b[0m\u001b[0;34m\u001b[0m\u001b[0;34m\u001b[0m\u001b[0m\n",
            "\u001b[0;32m/usr/local/lib/python3.7/dist-packages/pmdarima/arima/arima.py\u001b[0m in \u001b[0;36m<module>\u001b[0;34m()\u001b[0m\n\u001b[1;32m      9\u001b[0m \u001b[0;32mfrom\u001b[0m \u001b[0msklearn\u001b[0m\u001b[0;34m.\u001b[0m\u001b[0mutils\u001b[0m\u001b[0;34m.\u001b[0m\u001b[0mvalidation\u001b[0m \u001b[0;32mimport\u001b[0m \u001b[0mcheck_array\u001b[0m\u001b[0;34m\u001b[0m\u001b[0;34m\u001b[0m\u001b[0m\n\u001b[1;32m     10\u001b[0m \u001b[0;34m\u001b[0m\u001b[0m\n\u001b[0;32m---> 11\u001b[0;31m \u001b[0;32mfrom\u001b[0m \u001b[0mstatsmodels\u001b[0m \u001b[0;32mimport\u001b[0m \u001b[0mapi\u001b[0m \u001b[0;32mas\u001b[0m \u001b[0msm\u001b[0m\u001b[0;34m\u001b[0m\u001b[0;34m\u001b[0m\u001b[0m\n\u001b[0m\u001b[1;32m     12\u001b[0m \u001b[0;34m\u001b[0m\u001b[0m\n\u001b[1;32m     13\u001b[0m \u001b[0;32mfrom\u001b[0m \u001b[0mscipy\u001b[0m\u001b[0;34m.\u001b[0m\u001b[0mstats\u001b[0m \u001b[0;32mimport\u001b[0m \u001b[0mgaussian_kde\u001b[0m\u001b[0;34m,\u001b[0m \u001b[0mnorm\u001b[0m\u001b[0;34m\u001b[0m\u001b[0;34m\u001b[0m\u001b[0m\n",
            "\u001b[0;32m/usr/local/lib/python3.7/dist-packages/statsmodels/api.py\u001b[0m in \u001b[0;36m<module>\u001b[0;34m()\u001b[0m\n\u001b[1;32m      9\u001b[0m \u001b[0;32mfrom\u001b[0m \u001b[0;34m.\u001b[0m \u001b[0;32mimport\u001b[0m \u001b[0mregression\u001b[0m\u001b[0;34m\u001b[0m\u001b[0;34m\u001b[0m\u001b[0m\n\u001b[1;32m     10\u001b[0m \u001b[0;32mfrom\u001b[0m \u001b[0;34m.\u001b[0m\u001b[0mregression\u001b[0m\u001b[0;34m.\u001b[0m\u001b[0mlinear_model\u001b[0m \u001b[0;32mimport\u001b[0m \u001b[0mOLS\u001b[0m\u001b[0;34m,\u001b[0m \u001b[0mGLS\u001b[0m\u001b[0;34m,\u001b[0m \u001b[0mWLS\u001b[0m\u001b[0;34m,\u001b[0m \u001b[0mGLSAR\u001b[0m\u001b[0;34m\u001b[0m\u001b[0;34m\u001b[0m\u001b[0m\n\u001b[0;32m---> 11\u001b[0;31m \u001b[0;32mfrom\u001b[0m \u001b[0;34m.\u001b[0m\u001b[0mregression\u001b[0m\u001b[0;34m.\u001b[0m\u001b[0mrecursive_ls\u001b[0m \u001b[0;32mimport\u001b[0m \u001b[0mRecursiveLS\u001b[0m\u001b[0;34m\u001b[0m\u001b[0;34m\u001b[0m\u001b[0m\n\u001b[0m\u001b[1;32m     12\u001b[0m \u001b[0;32mfrom\u001b[0m \u001b[0;34m.\u001b[0m\u001b[0mregression\u001b[0m\u001b[0;34m.\u001b[0m\u001b[0mquantile_regression\u001b[0m \u001b[0;32mimport\u001b[0m \u001b[0mQuantReg\u001b[0m\u001b[0;34m\u001b[0m\u001b[0;34m\u001b[0m\u001b[0m\n\u001b[1;32m     13\u001b[0m \u001b[0;32mfrom\u001b[0m \u001b[0;34m.\u001b[0m\u001b[0mregression\u001b[0m\u001b[0;34m.\u001b[0m\u001b[0mmixed_linear_model\u001b[0m \u001b[0;32mimport\u001b[0m \u001b[0mMixedLM\u001b[0m\u001b[0;34m\u001b[0m\u001b[0;34m\u001b[0m\u001b[0m\n",
            "\u001b[0;32m/usr/local/lib/python3.7/dist-packages/statsmodels/regression/recursive_ls.py\u001b[0m in \u001b[0;36m<module>\u001b[0;34m()\u001b[0m\n\u001b[1;32m      9\u001b[0m \u001b[0;32mimport\u001b[0m \u001b[0mpandas\u001b[0m \u001b[0;32mas\u001b[0m \u001b[0mpd\u001b[0m\u001b[0;34m\u001b[0m\u001b[0;34m\u001b[0m\u001b[0m\n\u001b[1;32m     10\u001b[0m \u001b[0;34m\u001b[0m\u001b[0m\n\u001b[0;32m---> 11\u001b[0;31m \u001b[0;32mfrom\u001b[0m \u001b[0mstatsmodels\u001b[0m\u001b[0;34m.\u001b[0m\u001b[0mcompat\u001b[0m\u001b[0;34m.\u001b[0m\u001b[0mpandas\u001b[0m \u001b[0;32mimport\u001b[0m \u001b[0mAppender\u001b[0m\u001b[0;34m\u001b[0m\u001b[0;34m\u001b[0m\u001b[0m\n\u001b[0m\u001b[1;32m     12\u001b[0m \u001b[0;34m\u001b[0m\u001b[0m\n\u001b[1;32m     13\u001b[0m \u001b[0;32mfrom\u001b[0m \u001b[0mstatsmodels\u001b[0m\u001b[0;34m.\u001b[0m\u001b[0mtools\u001b[0m\u001b[0;34m.\u001b[0m\u001b[0mdata\u001b[0m \u001b[0;32mimport\u001b[0m \u001b[0m_is_using_pandas\u001b[0m\u001b[0;34m\u001b[0m\u001b[0;34m\u001b[0m\u001b[0m\n",
            "\u001b[0;31mImportError\u001b[0m: cannot import name 'Appender' from 'statsmodels.compat.pandas' (/usr/local/lib/python3.7/dist-packages/statsmodels/compat/pandas.py)",
            "",
            "\u001b[0;31m---------------------------------------------------------------------------\u001b[0;32m\nNOTE: If your import is failing due to a missing package, you can\nmanually install dependencies using either !pip or !apt.\n\nTo view examples of installing some common dependencies, click the\n\"Open Examples\" button below.\n\u001b[0;31m---------------------------------------------------------------------------\u001b[0m\n"
          ]
        }
      ]
    },
    {
      "cell_type": "code",
      "metadata": {
        "id": "KjbD0hLGkyy7"
      },
      "source": [
        "# create a running differenced series for 1 day running difference\r\n",
        "import numpy as np\r\n",
        "def difference(dataset, interval=1):\r\n",
        " diff = list()\r\n",
        " for i in range(interval, len(dataset)):\r\n",
        "    value = dataset[i] - dataset[i - interval]\r\n",
        "    diff.append(value)\r\n",
        " return np.array(diff)\r\n",
        "\r\n",
        "# calling the above function for 365 day running seasonal difference\r\n",
        "differenced = difference(temp_df_mean.values, 365)"
      ],
      "execution_count": null,
      "outputs": []
    },
    {
      "cell_type": "code",
      "metadata": {
        "id": "SelrYvBKky5T"
      },
      "source": [
        "# fit the ARIMA model\r\n",
        "from statsmodels.tsa.arima_model import ARIMA\r\n",
        "model = ARIMA(differenced, order=(5,0,0))\r\n",
        "model_fit = model.fit()\r\n",
        "\r\n",
        "# print summary of fit model\r\n",
        "print(model_fit.summary())"
      ],
      "execution_count": null,
      "outputs": []
    },
    {
      "cell_type": "code",
      "metadata": {
        "id": "EgJelJPoky71"
      },
      "source": [
        "# invert the differenced forecast to the original form\r\n",
        "def inverse_difference(history, yhat, interval=1):\r\n",
        " return yhat + history[-interval]"
      ],
      "execution_count": null,
      "outputs": []
    },
    {
      "cell_type": "markdown",
      "metadata": {
        "id": "rDsWEgtDa6hN"
      },
      "source": [
        "**FORECAST FOR THE NEXT DAY**"
      ]
    },
    {
      "cell_type": "markdown",
      "metadata": {
        "id": "HTT47WDRPR6R"
      },
      "source": [
        "Making one step out of forecast with forecast function\r\n",
        "\r\n",
        "ARIMA models are great for one-step forecasts.\r\n",
        "\r\n",
        "A one-step forecast is a forecast of the very next time step in the sequence from the available data used to fit the model."
      ]
    },
    {
      "cell_type": "code",
      "metadata": {
        "colab": {
          "base_uri": "https://localhost:8080/"
        },
        "id": "VFlAEIpLRGkC",
        "outputId": "22978395-7889-47e7-a10a-11694c4e089b"
      },
      "source": [
        "# one-step out-of sample forecast i.e forecast for the next day\r\n",
        "X = temp_df_mean.values\r\n",
        "forecast = model_fit.forecast()[0] #zero means the forecast for the first value\r\n",
        "forecast = inverse_difference(X, forecast, 365)\r\n",
        "print('Forecast: %f' % forecast)"
      ],
      "execution_count": null,
      "outputs": [
        {
          "output_type": "stream",
          "text": [
            "Forecast: 0.777860\n"
          ],
          "name": "stdout"
        }
      ]
    },
    {
      "cell_type": "code",
      "metadata": {
        "colab": {
          "base_uri": "https://localhost:8080/"
        },
        "id": "VRDhAo8z7Ad_",
        "outputId": "8cac3b8e-2dcf-40aa-aa39-8bdfcd2fa463"
      },
      "source": [
        "#Check the accuracy metric\r\n",
        "\r\n",
        "\"\"\"\r\n",
        "Since we are taking all values of the dataframe for prediction, we cannot technically \r\n",
        "use the accuracy metric\r\n",
        "\r\n",
        "\"\"\"\r\n",
        "from sklearn.metrics import mean_squared_error\r\n",
        "from math import sqrt\r\n",
        "rmse=sqrt(mean_squared_error(forecast,X[-1]))\r\n",
        "print(rmse)"
      ],
      "execution_count": null,
      "outputs": [
        {
          "output_type": "stream",
          "text": [
            "0.2221400904667976\n"
          ],
          "name": "stdout"
        }
      ]
    },
    {
      "cell_type": "markdown",
      "metadata": {
        "id": "nAZXEhzmRyRt"
      },
      "source": [
        "Predict Function:\r\n",
        "\r\n",
        "The statsmodel ARIMAResults object also provides a predict() function for making forecasts.\r\n",
        "\r\n",
        "The predict function can be used to predict arbitrary in-sample and out-of-sample time steps, including the next out-of-sample forecast time step.\r\n",
        "\r\n",
        "The predict function requires a start and an end to be specified, these can be the indexes of the time steps relative to the beginning of the training data used to fit the model."
      ]
    },
    {
      "cell_type": "code",
      "metadata": {
        "colab": {
          "base_uri": "https://localhost:8080/"
        },
        "id": "C-PPyT0VQtsk",
        "outputId": "60236902-d101-4d97-bc6a-472728d937dc"
      },
      "source": [
        "# one-step out of sample forecast\r\n",
        "from pandas import datetime\r\n",
        "start_index = len(differenced)\r\n",
        "end_index = len(differenced)\r\n",
        "\r\n",
        "forecast = model_fit.predict(start=start_index, end=end_index)\r\n",
        "print('Forecast: %f' % forecast)"
      ],
      "execution_count": null,
      "outputs": [
        {
          "output_type": "stream",
          "text": [
            "Forecast: -0.222140\n"
          ],
          "name": "stdout"
        },
        {
          "output_type": "stream",
          "text": [
            "/usr/local/lib/python3.7/dist-packages/ipykernel_launcher.py:2: FutureWarning: The pandas.datetime class is deprecated and will be removed from pandas in a future version. Import from datetime module instead.\n",
            "  \n"
          ],
          "name": "stderr"
        }
      ]
    },
    {
      "cell_type": "code",
      "metadata": {
        "colab": {
          "base_uri": "https://localhost:8080/"
        },
        "id": "DglI0CumfQWy",
        "outputId": "bf999d20-2d24-40a9-eba0-9c218d2562d6"
      },
      "source": [
        "#Finding today is which day\r\n",
        "import datetime\r\n",
        "last_data_date = target['Date of Despatch from Rail Siding Tete'].max()\r\n",
        "last_day= last_data_date.day\r\n",
        "\r\n",
        "\r\n",
        "#Number of days in the running month\r\n",
        "import calendar\r\n",
        "year = last_data_date.year\r\n",
        "month= last_data_date.month\r\n",
        "days_in_month= calendar.monthrange(year, month)[1]\r\n",
        "\r\n",
        "#Number of days remaining in the month\r\n",
        "diff = days_in_month - last_day\r\n",
        "print(diff)"
      ],
      "execution_count": null,
      "outputs": [
        {
          "output_type": "stream",
          "text": [
            "26\n"
          ],
          "name": "stdout"
        }
      ]
    },
    {
      "cell_type": "markdown",
      "metadata": {
        "id": "2YJFFXOZbKr-"
      },
      "source": [
        "**MULTI STEP FORECAST**"
      ]
    },
    {
      "cell_type": "markdown",
      "metadata": {
        "id": "cc-If6SIepe0"
      },
      "source": [
        "**FORECAST FUNCTION**"
      ]
    },
    {
      "cell_type": "code",
      "metadata": {
        "id": "S0eEdnrsVOGF"
      },
      "source": [
        "# With forecast function (multi-step out-of-sample forecast)\r\n",
        "forecast = model_fit.forecast(steps=diff)[0]"
      ],
      "execution_count": null,
      "outputs": []
    },
    {
      "cell_type": "code",
      "metadata": {
        "colab": {
          "base_uri": "https://localhost:8080/"
        },
        "id": "7QRZtcBH93Sv",
        "outputId": "a3ff9c18-0a01-42fe-b6b4-62a01eddc390"
      },
      "source": [
        "import datetime\r\n",
        "#get current time\r\n",
        "d = datetime.datetime.now()\r\n",
        "print(d)\r\n",
        "\r\n",
        "#get month name short version\r\n",
        "print(d.strftime(\"%b\"))"
      ],
      "execution_count": null,
      "outputs": [
        {
          "output_type": "stream",
          "text": [
            "2021-03-08 13:23:43.658960\n",
            "Mar\n"
          ],
          "name": "stdout"
        }
      ]
    },
    {
      "cell_type": "code",
      "metadata": {
        "colab": {
          "base_uri": "https://localhost:8080/"
        },
        "id": "CmB5GpaXbzYk",
        "outputId": "07ed2428-b9b9-42dd-d106-7deac4ae9cc3"
      },
      "source": [
        "# invert the differenced forecast to something usable\r\n",
        "X = temp_df_mean.values\r\n",
        "sum=0\r\n",
        "history = [x for x in X]\r\n",
        "day = last_day + 1\r\n",
        "for yhat in forecast:\r\n",
        " inverted = inverse_difference(history, yhat, 365)\r\n",
        " print('%s %d: %f' % (d.strftime(\"%b\"), day, inverted)) # % s is placeholder for string, %d for number/integer, %f float\r\n",
        " history.append(inverted)\r\n",
        " sum=sum+inverted\r\n",
        " day= day+1"
      ],
      "execution_count": null,
      "outputs": [
        {
          "output_type": "stream",
          "text": [
            "Mar 6: 0.777860\n",
            "Mar 7: 1.737133\n",
            "Mar 8: 1.910894\n",
            "Mar 9: 1.405946\n",
            "Mar 10: 0.979163\n",
            "Mar 11: 1.402870\n",
            "Mar 12: 1.995538\n",
            "Mar 13: 1.554687\n",
            "Mar 14: 1.987247\n",
            "Mar 15: 1.998906\n",
            "Mar 16: 1.526802\n",
            "Mar 17: 2.007814\n",
            "Mar 18: 2.018100\n",
            "Mar 19: 1.529776\n",
            "Mar 20: 2.017500\n",
            "Mar 21: 2.020233\n",
            "Mar 22: 2.026752\n",
            "Mar 23: 2.022284\n",
            "Mar 24: 1.023375\n",
            "Mar 25: 2.026078\n",
            "Mar 26: 2.023812\n",
            "Mar 27: 1.024188\n",
            "Mar 28: 2.025595\n",
            "Mar 29: 2.024648\n",
            "Mar 30: 1.024731\n",
            "Mar 31: 1.525352\n"
          ],
          "name": "stdout"
        }
      ]
    },
    {
      "cell_type": "code",
      "metadata": {
        "colab": {
          "base_uri": "https://localhost:8080/"
        },
        "id": "PiDGlpIMOpXG",
        "outputId": "555e0748-bb9a-463b-b823-f51ae86b8245"
      },
      "source": [
        "#The sum is coming in decimal. We convert it to integer\r\n",
        "print(int(sum))"
      ],
      "execution_count": null,
      "outputs": [
        {
          "output_type": "stream",
          "text": [
            "43\n"
          ],
          "name": "stdout"
        }
      ]
    },
    {
      "cell_type": "markdown",
      "metadata": {
        "id": "H01KIu5LcHvX"
      },
      "source": [
        "**PREDICT FUNCTION:**\r\n",
        "\r\n",
        "The predict() function can also forecast the next 7 out-of-sample time steps.\r\n",
        "\r\n",
        "Using time step indexes, we can specify the end index as 6 more time steps in the future; for example:"
      ]
    },
    {
      "cell_type": "code",
      "metadata": {
        "id": "Ilo6NnaPck4k"
      },
      "source": [
        "# multi-step out-of-sample forecast\r\n",
        "start_index= last_day\r\n",
        "end_index = days_in_month-1\r\n",
        "forecast = model_fit.predict(start=start_index, end=end_index)"
      ],
      "execution_count": null,
      "outputs": []
    },
    {
      "cell_type": "code",
      "metadata": {
        "colab": {
          "base_uri": "https://localhost:8080/"
        },
        "id": "_5MwDBUEcyDV",
        "outputId": "624f5716-21c7-4f51-908d-e1fff093158e"
      },
      "source": [
        "#invert the differenced forecast to something usable\r\n",
        "X = temp_df_mean.values\r\n",
        "sum=0\r\n",
        "history = [x for x in X]\r\n",
        "day = last_day + 1\r\n",
        "for yhat in forecast:\r\n",
        " inverted = inverse_difference(history, yhat, 365)\r\n",
        " print('%s %d: %f' % (d.strftime(\"%b\"), day, inverted)) # % s is placeholder for string, %d for number/integer, %f float\r\n",
        " history.append(inverted)\r\n",
        " sum=sum+inverted\r\n",
        " day += 1"
      ],
      "execution_count": null,
      "outputs": [
        {
          "output_type": "stream",
          "text": [
            "Mar 6: 1.264347\n",
            "Mar 7: 1.229697\n",
            "Mar 8: 1.360555\n",
            "Mar 9: 1.573792\n",
            "Mar 10: 1.132810\n",
            "Mar 11: 1.286476\n",
            "Mar 12: 1.669450\n",
            "Mar 13: 1.402906\n",
            "Mar 14: 2.155818\n",
            "Mar 15: 1.795348\n",
            "Mar 16: 1.950596\n",
            "Mar 17: 2.091395\n",
            "Mar 18: 1.862286\n",
            "Mar 19: 1.850939\n",
            "Mar 20: 2.396994\n",
            "Mar 21: 2.267600\n",
            "Mar 22: 2.809970\n",
            "Mar 23: 2.045455\n",
            "Mar 24: 1.169114\n",
            "Mar 25: 2.560235\n",
            "Mar 26: 2.079226\n",
            "Mar 27: 0.657338\n",
            "Mar 28: 2.327874\n",
            "Mar 29: 1.487606\n",
            "Mar 30: 0.830291\n",
            "Mar 31: 1.965884\n"
          ],
          "name": "stdout"
        }
      ]
    },
    {
      "cell_type": "code",
      "metadata": {
        "colab": {
          "base_uri": "https://localhost:8080/"
        },
        "id": "PL4IPFMTmZtL",
        "outputId": "5fdc86e1-3a34-48d6-d091-e162cd5960e4"
      },
      "source": [
        "#The sum is coming in decimal. We convert it to integer\r\n",
        "print(int(sum))"
      ],
      "execution_count": null,
      "outputs": [
        {
          "output_type": "stream",
          "text": [
            "45\n"
          ],
          "name": "stdout"
        }
      ]
    },
    {
      "cell_type": "code",
      "metadata": {
        "colab": {
          "base_uri": "https://localhost:8080/"
        },
        "id": "PFS_HMOgKcew",
        "outputId": "01bd3a5a-c862-416f-8d82-23be4e4e0f5f"
      },
      "source": [
        "#Finding the first day of the current month\r\n",
        "import datetime\r\n",
        "date = datetime.date.today().replace(day=1)\r\n",
        "print(date)\r\n",
        "\r\n",
        "#Finding the dataframe for the data imported for the current month (first day of the month to the data import day)\r\n",
        "start_date = datetime.date.today().replace(day=1)\r\n",
        "end_date = datetime.date.today()\r\n",
        "mask = (target['Date of Despatch from Rail Siding Tete'] >= pd.to_datetime(start_date)) & (target['Date of Despatch from Rail Siding Tete'] <= pd.to_datetime(end_date))\r\n",
        "df = target.loc[mask]"
      ],
      "execution_count": null,
      "outputs": [
        {
          "output_type": "stream",
          "text": [
            "2021-03-01\n"
          ],
          "name": "stdout"
        }
      ]
    },
    {
      "cell_type": "code",
      "metadata": {
        "colab": {
          "base_uri": "https://localhost:8080/"
        },
        "id": "bDPtWg8Pg-Hl",
        "outputId": "00be6ad8-64d0-4609-f149-635f093b3c52"
      },
      "source": [
        "print('Trains already sent during the month: ', df['TrainCount'].sum())\r\n",
        "print('Trains projected during the rest of the month: ', int(sum))\r\n",
        "print('Total trains expected for the month: ',  df['TrainCount'].sum() + int(sum))"
      ],
      "execution_count": null,
      "outputs": [
        {
          "output_type": "stream",
          "text": [
            "Trains already sent during the month:  5\n",
            "Trains projected during the rest of the month:  45\n",
            "Total trains expected for the month:  50\n"
          ],
          "name": "stdout"
        }
      ]
    }
  ]
}